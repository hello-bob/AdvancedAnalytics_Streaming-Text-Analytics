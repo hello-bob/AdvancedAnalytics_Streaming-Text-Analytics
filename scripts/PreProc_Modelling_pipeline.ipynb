{
 "cells": [
  {
   "cell_type": "markdown",
   "id": "afc85e8f-7045-4239-85d3-43791acc9601",
   "metadata": {},
   "source": [
    "### Possibly interesting features based on https://news.ycombinator.com/item?id=36590226\n",
    "- Time of day [Done]\n",
    "- how many posts 1 hr before post made (indicative of whether it's peak hour or not)\n",
    "- Analysis on title: TF-IDF? Remove stopwords? Any other importance measures, and onehot encode the impt words?"
   ]
  },
  {
   "cell_type": "code",
   "execution_count": 93,
   "id": "ac021992-c9ee-470c-a5be-0fa5109aa117",
   "metadata": {},
   "outputs": [],
   "source": [
    "import os\n",
    "\n",
    "from pyspark.sql import SQLContext, Window\n",
    "from pyspark.sql.functions import col,sum,desc,when,udf, percent_rank\n",
    "\n",
    "from pyspark.ml import Pipeline\n",
    "from pyspark.ml.evaluation import BinaryClassificationEvaluator\n",
    "from pyspark.ml.tuning import CrossValidator, ParamGridBuilder\n",
    "from pyspark.ml.classification import LogisticRegression, LinearSVC, RandomForestClassifier\n",
    "from pyspark.ml.feature import VectorAssembler, StandardScaler, StringIndexer, OneHotEncoder\n",
    "\n",
    "from datetime import datetime\n",
    "\n",
    "import warnings\n",
    "warnings.filterwarnings('ignore')"
   ]
  },
  {
   "cell_type": "code",
   "execution_count": 2,
   "id": "a8fc9fb9-2333-4abf-8a0f-51a449beaae3",
   "metadata": {},
   "outputs": [
    {
     "data": {
      "text/html": [
       "\n",
       "        <div>\n",
       "            <p><b>SparkContext</b></p>\n",
       "\n",
       "            <p><a href=\"http://10.46.155.228:4040\">Spark UI</a></p>\n",
       "\n",
       "            <dl>\n",
       "              <dt>Version</dt>\n",
       "                <dd><code>v3.5.1</code></dd>\n",
       "              <dt>Master</dt>\n",
       "                <dd><code>local[2]</code></dd>\n",
       "              <dt>AppName</dt>\n",
       "                <dd><code>PySparkShell</code></dd>\n",
       "            </dl>\n",
       "        </div>\n",
       "        "
      ],
      "text/plain": [
       "<SparkContext master=local[2] appName=PySparkShell>"
      ]
     },
     "execution_count": 2,
     "metadata": {},
     "output_type": "execute_result"
    }
   ],
   "source": [
    "sc"
   ]
  },
  {
   "cell_type": "code",
   "execution_count": 3,
   "id": "06811479-467a-427d-8baa-f7912ddd001b",
   "metadata": {},
   "outputs": [],
   "source": [
    "# Change file path\n",
    "os.chdir(\"/Users/hydraze/Library/CloudStorage/GoogleDrive-tohziyu2@gmail.com/My Drive/Studies/KU Leuven/Courses/Classes/Y1S2/Advanced Analytics in Business/Project/3/AdvancedAnalytics_Streaming-Text-Analytics\")"
   ]
  },
  {
   "cell_type": "code",
   "execution_count": 4,
   "id": "b6de2820-d794-4a51-b7a1-49eff9277cb9",
   "metadata": {},
   "outputs": [],
   "source": [
    "# Load all folder names, then read into one textfile\n",
    "file_path = \"/Users/hydraze/Library/CloudStorage/GoogleDrive-tohziyu2@gmail.com/My Drive/Studies/KU Leuven/Courses/Classes/Y1S2/Advanced Analytics in Business/Project/3/AdvancedAnalytics_Streaming-Text-Analytics/\"\n",
    "folders_names = [file_path + 'data/' + folder for folder in os.listdir(file_path + 'data/') if \"saved_stories\" in folder]\n",
    "compiled_stories = sc.textFile(','.join(folders_names[0:100]))"
   ]
  },
  {
   "cell_type": "code",
   "execution_count": 38,
   "id": "e9ad3cc9-187c-4567-8fb6-3452049b52f9",
   "metadata": {},
   "outputs": [
    {
     "name": "stderr",
     "output_type": "stream",
     "text": [
      "                                                                                \r"
     ]
    }
   ],
   "source": [
    "df = spark.read.json(compiled_stories)"
   ]
  },
  {
   "cell_type": "code",
   "execution_count": null,
   "id": "8608a763-b684-4945-a3a9-c2f2430bae9b",
   "metadata": {},
   "outputs": [],
   "source": [
    "# Convert frontpage to numeric\n",
    "df = df.withColumn('frontpage', when(df.frontpage==True, 1).otherwise(0))"
   ]
  },
  {
   "cell_type": "code",
   "execution_count": 39,
   "id": "141b86a2-31fa-47ff-b805-3539d62bf3ed",
   "metadata": {},
   "outputs": [],
   "source": [
    "# Compile cleaning steps which cannot be fit into a pipeline. These steps will not cause data leakage\n",
    "# Will have to be implemented on the script for doing streaming predictions\n",
    "\n",
    "# Extracting type of post: Show HN\n",
    "df = df.withColumn('isShowHN', when(df.title.contains(\"Show HN\"), 1).otherwise(0))\n",
    "\n",
    "# Extracting time of day\n",
    "extract_time_of_day_udf = udf(lambda x: datetime.strptime(x, '%Y-%m-%d %H:%M:%S').strftime('%H'))\n",
    "\n",
    "\n",
    "df = df.withColumn('time_of_day', extract_time_of_day_udf(df.posted_at))\n",
    "\n",
    "# Extracting day of week\n",
    "weekDay =  udf(lambda x: datetime.strptime(x, '%Y-%m-%d %H:%M:%S').strftime('%w'))\n",
    "\n",
    "df = df.withColumn('day_of_week', weekDay(df.posted_at))"
   ]
  },
  {
   "cell_type": "markdown",
   "id": "89e4f2bf-18b5-462f-a75e-dc7372156d76",
   "metadata": {},
   "source": [
    "### Modelling time"
   ]
  },
  {
   "cell_type": "code",
   "execution_count": 40,
   "id": "dae63ae6-c3ed-4a7f-93c3-0c71887c0d7a",
   "metadata": {},
   "outputs": [],
   "source": [
    "# Train test split based on time: Have to prevent data leakage. Sort dataframe by posted_at, and give a percentile rank allowing us to split\n",
    "df = df.withColumn(\"rank\", percent_rank().over(Window.partitionBy().orderBy(\"posted_at\")))\n",
    "\n",
    "train = df.where(\"rank <= .8\").drop(\"rank\")\n",
    "test = df.where(\"rank > .8\").drop(\"rank\")"
   ]
  },
  {
   "cell_type": "code",
   "execution_count": null,
   "id": "42205a7f",
   "metadata": {},
   "outputs": [],
   "source": [
    "from pyspark.sql.functions import col\n",
    "\n",
    "# Helper function to drop column if it exists\n",
    "def drop_column_if_exists(df, col_name):\n",
    "    return df.drop(col_name) if col_name in df.columns else df\n",
    "\n",
    "# Fill null values\n",
    "df = df.na.fill({\"title\": \"\", \"source_title\": \"\", \"source_text\": \"\"})\n",
    "\n",
    "# If you would like to overwrite it\n",
    "df = drop_column_if_exists(df, \"title_tokens\")\n",
    "df = drop_column_if_exists(df, \"title_filtered\")\n",
    "df = drop_column_if_exists(df, \"title_cv\")\n",
    "df = drop_column_if_exists(df, \"source_title_tokens\")\n",
    "df = drop_column_if_exists(df, \"source_title_filtered\")\n",
    "df = drop_column_if_exists(df, \"source_cv\")\n",
    "df = drop_column_if_exists(df, \"title_tfidf\")\n",
    "df = drop_column_if_exists(df, \"source_title_tfidf\")"
   ]
  },
  {
   "cell_type": "code",
   "execution_count": null,
   "id": "a3e1113f",
   "metadata": {},
   "outputs": [],
   "source": [
    "from pyspark.ml.feature import Tokenizer, StopWordsRemover, CountVectorizer\n",
    "from pyspark.ml import Pipeline\n",
    "\n",
    "# 1. Tokenization\n",
    "tokenizer = Tokenizer(inputCol=\"title\", outputCol=\"title_tokens\")\n",
    "tokenizer_source = Tokenizer(inputCol=\"source_title\", outputCol=\"source_title_tokens\")\n",
    "\n",
    "# 2. Stop Word Removal\n",
    "remover = StopWordsRemover(inputCol=\"title_tokens\", outputCol=\"title_filtered\")\n",
    "remover_source = StopWordsRemover(inputCol=\"source_title_tokens\", outputCol=\"source_title_filtered\")\n",
    "\n",
    "# 3. Vectorization\n",
    "vectorizer = CountVectorizer(inputCol=\"title_filtered\", outputCol=\"title_cv\")\n",
    "vectorizer_source = CountVectorizer(inputCol=\"source_title_tokens\", outputCol=\"source_title_cv\")\n",
    "\n",
    "# 4. TF-IDF\n",
    "idf = IDF(inputCol=\"title_cv\", outputCol=\"title_tfidf\")\n",
    "idf_source = IDF(inputCol=\"source_title_cv\", outputCol=\"source_title_tfidf\")\n",
    "\n",
    "# Create a Pipeline to process the data\n",
    "pipeline = Pipeline(stages=[tokenizer, remover, vectorizer, idf])\n",
    "\n",
    "# Fit the pipeline to the DataFrame\n",
    "model = pipeline.fit(df)\n",
    "\n",
    "# Transform the DataFrame\n",
    "df_transformed = model.transform(df)\n",
    "\n",
    "# Show the DataFrame with the new 'title_features' column\n",
    "df_transformed.select(\"title\", \"title_tokens\", \"title_filtered\", \"title_cv\", \"title_tfidf\").show(truncate=False)"
   ]
  },
  {
   "cell_type": "code",
   "execution_count": 52,
   "id": "40dde147-dfb9-4eff-b2b3-127b1d427372",
   "metadata": {},
   "outputs": [],
   "source": [
    "# Define numerical, categorical and target columns. To adjust the column lists here which will feed into the processing later\n",
    "NUM_COL = ['votes', 'comments']\n",
    "CAT_COL = ['isShowHN', 'time_of_day', 'day_of_week']"
   ]
  },
  {
   "cell_type": "code",
   "execution_count": 58,
   "id": "f2fef920-5857-4b95-a897-b811d3836f2a",
   "metadata": {},
   "outputs": [],
   "source": [
    "# Other cleaning stages which can be fit into a pipeline. Will automatically apply all steps to test set\n",
    "\n",
    "# Dealing with numerical variables\n",
    "numerical_vector_assembler = VectorAssembler(inputCols=NUM_COL, outputCol='num_col_vector')\n",
    "std_scaler = StandardScaler(inputCol='num_col_vector',\n",
    "                            outputCol='scaled_num_col_vector',\n",
    "                            withStd=True, withMean=True)\n",
    "\n",
    "# Dealing with categorical variables\n",
    "isShowHN_indexer = StringIndexer(inputCol='isShowHN',\n",
    "                            outputCol='isShowHN_index')\n",
    "isShowHN_ohe = OneHotEncoder(inputCol='isShowHN_index',\n",
    "                                outputCol='isShowHN_OHE')\n",
    "\n",
    "# To put all numerical vectors and onehotencoded categorical variables into the same final_feature_vector vector\n",
    "overall_assembler = VectorAssembler(inputCols=['scaled_num_col_vector',\n",
    "                                               'isShowHN_OHE'],\n",
    "                                    outputCol='final_feature_vector')\n"
   ]
  },
  {
   "cell_type": "code",
   "execution_count": 79,
   "id": "32de73d5-2055-41f6-97d0-c1785a8b5791",
   "metadata": {},
   "outputs": [],
   "source": [
    "# Initiate model(s) and params\n",
    "lr = LogisticRegression(maxIter=100, family=\"binomial\",\n",
    "                        featuresCol='final_feature_vector', labelCol='frontpage',\n",
    "                        weightCol=\"frontpage\")\n",
    "\n",
    "param_grid_lr = (ParamGridBuilder()\n",
    "                .addGrid(lr.regParam, [0.0, 0.1,0.5]) \n",
    "                .addGrid(lr.elasticNetParam, [0.0, 0.5, 1.0]) \n",
    "                .build())\n",
    "\n",
    "rfc = RandomForestClassifier(maxDepth=30, seed=42, weightCol=\"frontpage\")\n",
    "\n",
    "param_grid_rfc = (ParamGridBuilder()\n",
    "                .addGrid(rfc.numTrees, [10, 100]) \n",
    "                .addGrid(rfc.impurity, ['gini', 'entroopy']) \n",
    "                .build())"
   ]
  },
  {
   "cell_type": "code",
   "execution_count": 87,
   "id": "b3653e67-7a23-4582-84c1-2f0283756294",
   "metadata": {},
   "outputs": [],
   "source": [
    "# Compile final pipelines\n",
    "cleaning_stages = [numerical_vector_assembler,\n",
    "                   std_scaler, \n",
    "                   isShowHN_indexer, \n",
    "                   isShowHN_ohe,\n",
    "                   overall_assembler]\n",
    "pipeline_lr = Pipeline(stages=cleaning_stages + [lr])\n",
    "pipeline_rfc = Pipeline(stages=cleaning_stages + [rfc])"
   ]
  },
  {
   "cell_type": "code",
   "execution_count": 96,
   "id": "5c63a64c-0c8e-4ece-8055-7c6ad7855945",
   "metadata": {},
   "outputs": [],
   "source": [
    "# Defining evaluator and crossvalidation object\n",
    "evaluator = BinaryClassificationEvaluator().setLabelCol(\"frontpage\")\n",
    "\n",
    "# Join everything together using a CrossValidator object.\n",
    "crossval_lr = CrossValidator(\n",
    "    estimator=pipeline_lr, \n",
    "    estimatorParamMaps=param_grid_lr, \n",
    "    evaluator=evaluator, \n",
    "    numFolds=3,\n",
    "    parallelism=4, \n",
    "    seed=42\n",
    ")"
   ]
  },
  {
   "cell_type": "code",
   "execution_count": 97,
   "id": "f71470b2-6e43-4816-8ea4-8af73127c1ca",
   "metadata": {},
   "outputs": [
    {
     "name": "stderr",
     "output_type": "stream",
     "text": [
      "24/05/09 19:03:17 WARN WindowExec: No Partition Defined for Window operation! Moving all data to a single partition, this can cause serious performance degradation.\n",
      "24/05/09 19:03:17 WARN WindowExec: No Partition Defined for Window operation! Moving all data to a single partition, this can cause serious performance degradation.\n",
      "24/05/09 19:03:17 WARN WindowExec: No Partition Defined for Window operation! Moving all data to a single partition, this can cause serious performance degradation.\n",
      "24/05/09 19:03:17 WARN WindowExec: No Partition Defined for Window operation! Moving all data to a single partition, this can cause serious performance degradation.\n",
      "24/05/09 19:03:17 WARN WindowExec: No Partition Defined for Window operation! Moving all data to a single partition, this can cause serious performance degradation.\n",
      "24/05/09 19:03:17 WARN WindowExec: No Partition Defined for Window operation! Moving all data to a single partition, this can cause serious performance degradation.\n",
      "24/05/09 19:03:18 WARN WindowExec: No Partition Defined for Window operation! Moving all data to a single partition, this can cause serious performance degradation.\n",
      "24/05/09 19:03:18 WARN WindowExec: No Partition Defined for Window operation! Moving all data to a single partition, this can cause serious performance degradation.\n",
      "24/05/09 19:03:18 WARN WindowExec: No Partition Defined for Window operation! Moving all data to a single partition, this can cause serious performance degradation.\n",
      "24/05/09 19:03:18 WARN WindowExec: No Partition Defined for Window operation! Moving all data to a single partition, this can cause serious performance degradation.\n",
      "24/05/09 19:03:18 WARN WindowExec: No Partition Defined for Window operation! Moving all data to a single partition, this can cause serious performance degradation.\n",
      "24/05/09 19:03:18 WARN WindowExec: No Partition Defined for Window operation! Moving all data to a single partition, this can cause serious performance degradation.\n",
      "24/05/09 19:03:18 WARN WindowExec: No Partition Defined for Window operation! Moving all data to a single partition, this can cause serious performance degradation.\n",
      "24/05/09 19:03:18 WARN WindowExec: No Partition Defined for Window operation! Moving all data to a single partition, this can cause serious performance degradation.\n",
      "24/05/09 19:03:26 WARN WindowExec: No Partition Defined for Window operation! Moving all data to a single partition, this can cause serious performance degradation.\n",
      "24/05/09 19:03:26 WARN WindowExec: No Partition Defined for Window operation! Moving all data to a single partition, this can cause serious performance degradation.\n",
      "24/05/09 19:03:26 WARN WindowExec: No Partition Defined for Window operation! Moving all data to a single partition, this can cause serious performance degradation.\n",
      "24/05/09 19:03:26 WARN WindowExec: No Partition Defined for Window operation! Moving all data to a single partition, this can cause serious performance degradation.\n",
      "24/05/09 19:03:26 WARN WindowExec: No Partition Defined for Window operation! Moving all data to a single partition, this can cause serious performance degradation.\n",
      "24/05/09 19:03:26 WARN WindowExec: No Partition Defined for Window operation! Moving all data to a single partition, this can cause serious performance degradation.\n",
      "24/05/09 19:03:26 WARN WindowExec: No Partition Defined for Window operation! Moving all data to a single partition, this can cause serious performance degradation.\n",
      "24/05/09 19:03:26 WARN WindowExec: No Partition Defined for Window operation! Moving all data to a single partition, this can cause serious performance degradation.\n",
      "24/05/09 19:03:26 WARN WindowExec: No Partition Defined for Window operation! Moving all data to a single partition, this can cause serious performance degradation.\n",
      "24/05/09 19:03:26 WARN WindowExec: No Partition Defined for Window operation! Moving all data to a single partition, this can cause serious performance degradation.\n",
      "24/05/09 19:03:26 WARN Instrumentation: [cdf87371] All labels are the same value and fitIntercept=true, so the coefficients will be zeros. Training is not needed.\n",
      "24/05/09 19:03:26 WARN Instrumentation: [2d02be88] All labels are the same value and fitIntercept=true, so the coefficients will be zeros. Training is not needed.\n",
      "24/05/09 19:03:26 WARN Instrumentation: [d47890ef] All labels are the same value and fitIntercept=true, so the coefficients will be zeros. Training is not needed.\n",
      "24/05/09 19:03:26 WARN Instrumentation: [b7397567] All labels are the same value and fitIntercept=true, so the coefficients will be zeros. Training is not needed.\n",
      "24/05/09 19:03:34 WARN WindowExec: No Partition Defined for Window operation! Moving all data to a single partition, this can cause serious performance degradation.\n",
      "24/05/09 19:03:34 WARN WindowExec: No Partition Defined for Window operation! Moving all data to a single partition, this can cause serious performance degradation.\n",
      "24/05/09 19:03:34 WARN WindowExec: No Partition Defined for Window operation! Moving all data to a single partition, this can cause serious performance degradation.\n",
      "24/05/09 19:03:34 WARN WindowExec: No Partition Defined for Window operation! Moving all data to a single partition, this can cause serious performance degradation.\n",
      "24/05/09 19:03:34 WARN WindowExec: No Partition Defined for Window operation! Moving all data to a single partition, this can cause serious performance degradation.\n",
      "24/05/09 19:03:34 WARN WindowExec: No Partition Defined for Window operation! Moving all data to a single partition, this can cause serious performance degradation.\n",
      "24/05/09 19:03:34 WARN WindowExec: No Partition Defined for Window operation! Moving all data to a single partition, this can cause serious performance degradation.\n",
      "24/05/09 19:03:34 WARN WindowExec: No Partition Defined for Window operation! Moving all data to a single partition, this can cause serious performance degradation.\n",
      "24/05/09 19:03:34 WARN WindowExec: No Partition Defined for Window operation! Moving all data to a single partition, this can cause serious performance degradation.\n",
      "24/05/09 19:03:34 WARN WindowExec: No Partition Defined for Window operation! Moving all data to a single partition, this can cause serious performance degradation.\n",
      "24/05/09 19:03:34 WARN WindowExec: No Partition Defined for Window operation! Moving all data to a single partition, this can cause serious performance degradation.\n",
      "24/05/09 19:03:34 WARN WindowExec: No Partition Defined for Window operation! Moving all data to a single partition, this can cause serious performance degradation.\n",
      "24/05/09 19:03:34 WARN WindowExec: No Partition Defined for Window operation! Moving all data to a single partition, this can cause serious performance degradation.\n",
      "24/05/09 19:03:34 WARN WindowExec: No Partition Defined for Window operation! Moving all data to a single partition, this can cause serious performance degradation.\n",
      "24/05/09 19:03:34 WARN WindowExec: No Partition Defined for Window operation! Moving all data to a single partition, this can cause serious performance degradation.\n",
      "24/05/09 19:03:34 WARN WindowExec: No Partition Defined for Window operation! Moving all data to a single partition, this can cause serious performance degradation.\n",
      "24/05/09 19:03:34 WARN WindowExec: No Partition Defined for Window operation! Moving all data to a single partition, this can cause serious performance degradation.\n",
      "24/05/09 19:03:34 WARN WindowExec: No Partition Defined for Window operation! Moving all data to a single partition, this can cause serious performance degradation.\n",
      "24/05/09 19:03:34 WARN Instrumentation: [31fbb5ca] All labels are the same value and fitIntercept=true, so the coefficients will be zeros. Training is not needed.\n",
      "24/05/09 19:03:34 WARN Instrumentation: [14a8d9ee] All labels are the same value and fitIntercept=true, so the coefficients will be zeros. Training is not needed.\n",
      "24/05/09 19:03:34 WARN Instrumentation: [bc99548a] All labels are the same value and fitIntercept=true, so the coefficients will be zeros. Training is not needed.\n",
      "24/05/09 19:03:34 WARN Instrumentation: [01105bbb] All labels are the same value and fitIntercept=true, so the coefficients will be zeros. Training is not needed.\n",
      "24/05/09 19:03:35 WARN WindowExec: No Partition Defined for Window operation! Moving all data to a single partition, this can cause serious performance degradation.\n",
      "24/05/09 19:03:35 WARN WindowExec: No Partition Defined for Window operation! Moving all data to a single partition, this can cause serious performance degradation.\n",
      "24/05/09 19:03:35 WARN WindowExec: No Partition Defined for Window operation! Moving all data to a single partition, this can cause serious performance degradation.\n",
      "24/05/09 19:03:35 WARN WindowExec: No Partition Defined for Window operation! Moving all data to a single partition, this can cause serious performance degradation.\n",
      "24/05/09 19:03:35 WARN Instrumentation: [ea193ded] All labels are the same value and fitIntercept=true, so the coefficients will be zeros. Training is not needed.\n",
      "24/05/09 19:03:35 WARN WindowExec: No Partition Defined for Window operation! Moving all data to a single partition, this can cause serious performance degradation.\n",
      "24/05/09 19:03:35 WARN WindowExec: No Partition Defined for Window operation! Moving all data to a single partition, this can cause serious performance degradation.\n",
      "24/05/09 19:03:35 WARN WindowExec: No Partition Defined for Window operation! Moving all data to a single partition, this can cause serious performance degradation.\n",
      "24/05/09 19:03:35 WARN WindowExec: No Partition Defined for Window operation! Moving all data to a single partition, this can cause serious performance degradation.\n",
      "24/05/09 19:03:35 WARN WindowExec: No Partition Defined for Window operation! Moving all data to a single partition, this can cause serious performance degradation.\n",
      "24/05/09 19:03:35 WARN WindowExec: No Partition Defined for Window operation! Moving all data to a single partition, this can cause serious performance degradation.\n",
      "24/05/09 19:03:35 WARN WindowExec: No Partition Defined for Window operation! Moving all data to a single partition, this can cause serious performance degradation.\n",
      "24/05/09 19:03:35 WARN WindowExec: No Partition Defined for Window operation! Moving all data to a single partition, this can cause serious performance degradation.\n",
      "24/05/09 19:03:35 WARN WindowExec: No Partition Defined for Window operation! Moving all data to a single partition, this can cause serious performance degradation.\n",
      "24/05/09 19:03:35 WARN WindowExec: No Partition Defined for Window operation! Moving all data to a single partition, this can cause serious performance degradation.\n",
      "24/05/09 19:03:35 WARN WindowExec: No Partition Defined for Window operation! Moving all data to a single partition, this can cause serious performance degradation.\n",
      "24/05/09 19:03:35 WARN WindowExec: No Partition Defined for Window operation! Moving all data to a single partition, this can cause serious performance degradation.\n",
      "24/05/09 19:03:35 WARN WindowExec: No Partition Defined for Window operation! Moving all data to a single partition, this can cause serious performance degradation.\n",
      "24/05/09 19:03:35 WARN WindowExec: No Partition Defined for Window operation! Moving all data to a single partition, this can cause serious performance degradation.\n",
      "24/05/09 19:03:42 WARN WindowExec: No Partition Defined for Window operation! Moving all data to a single partition, this can cause serious performance degradation.\n",
      "24/05/09 19:03:42 WARN WindowExec: No Partition Defined for Window operation! Moving all data to a single partition, this can cause serious performance degradation.\n",
      "24/05/09 19:03:43 WARN WindowExec: No Partition Defined for Window operation! Moving all data to a single partition, this can cause serious performance degradation.\n",
      "24/05/09 19:03:43 WARN WindowExec: No Partition Defined for Window operation! Moving all data to a single partition, this can cause serious performance degradation.\n",
      "24/05/09 19:03:43 WARN WindowExec: No Partition Defined for Window operation! Moving all data to a single partition, this can cause serious performance degradation.\n",
      "24/05/09 19:03:43 WARN WindowExec: No Partition Defined for Window operation! Moving all data to a single partition, this can cause serious performance degradation.\n",
      "24/05/09 19:03:43 WARN WindowExec: No Partition Defined for Window operation! Moving all data to a single partition, this can cause serious performance degradation.\n",
      "24/05/09 19:03:43 WARN WindowExec: No Partition Defined for Window operation! Moving all data to a single partition, this can cause serious performance degradation.\n",
      "24/05/09 19:03:43 WARN WindowExec: No Partition Defined for Window operation! Moving all data to a single partition, this can cause serious performance degradation.\n",
      "24/05/09 19:03:43 WARN WindowExec: No Partition Defined for Window operation! Moving all data to a single partition, this can cause serious performance degradation.\n",
      "24/05/09 19:03:43 WARN Instrumentation: [6f2c96ae] All labels are the same value and fitIntercept=true, so the coefficients will be zeros. Training is not needed.\n",
      "24/05/09 19:03:43 WARN Instrumentation: [7b7a5601] All labels are the same value and fitIntercept=true, so the coefficients will be zeros. Training is not needed.\n",
      "24/05/09 19:03:43 WARN Instrumentation: [d5dc3086] All labels are the same value and fitIntercept=true, so the coefficients will be zeros. Training is not needed.\n",
      "24/05/09 19:03:43 WARN Instrumentation: [6f03e668] All labels are the same value and fitIntercept=true, so the coefficients will be zeros. Training is not needed.\n",
      "24/05/09 19:03:50 WARN WindowExec: No Partition Defined for Window operation! Moving all data to a single partition, this can cause serious performance degradation.\n",
      "24/05/09 19:03:50 WARN WindowExec: No Partition Defined for Window operation! Moving all data to a single partition, this can cause serious performance degradation.\n",
      "24/05/09 19:03:51 WARN WindowExec: No Partition Defined for Window operation! Moving all data to a single partition, this can cause serious performance degradation.\n",
      "24/05/09 19:03:51 WARN WindowExec: No Partition Defined for Window operation! Moving all data to a single partition, this can cause serious performance degradation.\n",
      "24/05/09 19:03:51 WARN WindowExec: No Partition Defined for Window operation! Moving all data to a single partition, this can cause serious performance degradation.\n",
      "24/05/09 19:03:51 WARN WindowExec: No Partition Defined for Window operation! Moving all data to a single partition, this can cause serious performance degradation.\n",
      "24/05/09 19:03:51 WARN WindowExec: No Partition Defined for Window operation! Moving all data to a single partition, this can cause serious performance degradation.\n",
      "24/05/09 19:03:51 WARN WindowExec: No Partition Defined for Window operation! Moving all data to a single partition, this can cause serious performance degradation.\n",
      "24/05/09 19:03:51 WARN WindowExec: No Partition Defined for Window operation! Moving all data to a single partition, this can cause serious performance degradation.\n",
      "24/05/09 19:03:51 WARN WindowExec: No Partition Defined for Window operation! Moving all data to a single partition, this can cause serious performance degradation.\n",
      "24/05/09 19:03:51 WARN WindowExec: No Partition Defined for Window operation! Moving all data to a single partition, this can cause serious performance degradation.\n",
      "24/05/09 19:03:51 WARN WindowExec: No Partition Defined for Window operation! Moving all data to a single partition, this can cause serious performance degradation.\n",
      "24/05/09 19:03:51 WARN WindowExec: No Partition Defined for Window operation! Moving all data to a single partition, this can cause serious performance degradation.\n",
      "24/05/09 19:03:51 WARN WindowExec: No Partition Defined for Window operation! Moving all data to a single partition, this can cause serious performance degradation.\n",
      "24/05/09 19:03:51 WARN WindowExec: No Partition Defined for Window operation! Moving all data to a single partition, this can cause serious performance degradation.\n",
      "24/05/09 19:03:51 WARN WindowExec: No Partition Defined for Window operation! Moving all data to a single partition, this can cause serious performance degradation.\n",
      "24/05/09 19:03:51 WARN WindowExec: No Partition Defined for Window operation! Moving all data to a single partition, this can cause serious performance degradation.\n",
      "24/05/09 19:03:51 WARN WindowExec: No Partition Defined for Window operation! Moving all data to a single partition, this can cause serious performance degradation.\n",
      "24/05/09 19:03:51 WARN Instrumentation: [2ef0c3da] All labels are the same value and fitIntercept=true, so the coefficients will be zeros. Training is not needed.\n",
      "24/05/09 19:03:51 WARN Instrumentation: [55c522c2] All labels are the same value and fitIntercept=true, so the coefficients will be zeros. Training is not needed.\n",
      "24/05/09 19:03:51 WARN Instrumentation: [96c71190] All labels are the same value and fitIntercept=true, so the coefficients will be zeros. Training is not needed.\n",
      "24/05/09 19:03:51 WARN Instrumentation: [a585ab23] All labels are the same value and fitIntercept=true, so the coefficients will be zeros. Training is not needed.\n",
      "24/05/09 19:03:51 WARN WindowExec: No Partition Defined for Window operation! Moving all data to a single partition, this can cause serious performance degradation.\n",
      "24/05/09 19:03:51 WARN WindowExec: No Partition Defined for Window operation! Moving all data to a single partition, this can cause serious performance degradation.\n",
      "24/05/09 19:03:51 WARN WindowExec: No Partition Defined for Window operation! Moving all data to a single partition, this can cause serious performance degradation.\n",
      "24/05/09 19:03:51 WARN WindowExec: No Partition Defined for Window operation! Moving all data to a single partition, this can cause serious performance degradation.\n",
      "24/05/09 19:03:51 WARN Instrumentation: [82805250] All labels are the same value and fitIntercept=true, so the coefficients will be zeros. Training is not needed.\n",
      "24/05/09 19:03:52 WARN WindowExec: No Partition Defined for Window operation! Moving all data to a single partition, this can cause serious performance degradation.\n",
      "24/05/09 19:03:52 WARN WindowExec: No Partition Defined for Window operation! Moving all data to a single partition, this can cause serious performance degradation.\n",
      "24/05/09 19:03:52 WARN WindowExec: No Partition Defined for Window operation! Moving all data to a single partition, this can cause serious performance degradation.\n",
      "24/05/09 19:03:52 WARN WindowExec: No Partition Defined for Window operation! Moving all data to a single partition, this can cause serious performance degradation.\n",
      "24/05/09 19:03:52 WARN WindowExec: No Partition Defined for Window operation! Moving all data to a single partition, this can cause serious performance degradation.\n",
      "24/05/09 19:03:52 WARN WindowExec: No Partition Defined for Window operation! Moving all data to a single partition, this can cause serious performance degradation.\n",
      "24/05/09 19:03:52 WARN WindowExec: No Partition Defined for Window operation! Moving all data to a single partition, this can cause serious performance degradation.\n",
      "24/05/09 19:03:52 WARN WindowExec: No Partition Defined for Window operation! Moving all data to a single partition, this can cause serious performance degradation.\n",
      "24/05/09 19:03:52 WARN WindowExec: No Partition Defined for Window operation! Moving all data to a single partition, this can cause serious performance degradation.\n",
      "24/05/09 19:03:52 WARN WindowExec: No Partition Defined for Window operation! Moving all data to a single partition, this can cause serious performance degradation.\n",
      "24/05/09 19:03:52 WARN WindowExec: No Partition Defined for Window operation! Moving all data to a single partition, this can cause serious performance degradation.\n",
      "24/05/09 19:03:52 WARN WindowExec: No Partition Defined for Window operation! Moving all data to a single partition, this can cause serious performance degradation.\n",
      "24/05/09 19:03:52 WARN WindowExec: No Partition Defined for Window operation! Moving all data to a single partition, this can cause serious performance degradation.\n",
      "24/05/09 19:03:52 WARN WindowExec: No Partition Defined for Window operation! Moving all data to a single partition, this can cause serious performance degradation.\n",
      "[Stage 2234:======>                                              (37 + 3) / 307]\r"
     ]
    },
    {
     "ename": "KeyboardInterrupt",
     "evalue": "",
     "output_type": "error",
     "traceback": [
      "\u001b[0;31m---------------------------------------------------------------------------\u001b[0m",
      "\u001b[0;31mIndexError\u001b[0m                                Traceback (most recent call last)",
      "File \u001b[0;32m~/anaconda3/envs/aa24/lib/python3.12/multiprocessing/pool.py:856\u001b[0m, in \u001b[0;36mIMapIterator.next\u001b[0;34m(self, timeout)\u001b[0m\n\u001b[1;32m    855\u001b[0m \u001b[38;5;28;01mtry\u001b[39;00m:\n\u001b[0;32m--> 856\u001b[0m     item \u001b[38;5;241m=\u001b[39m \u001b[38;5;28;43mself\u001b[39;49m\u001b[38;5;241;43m.\u001b[39;49m\u001b[43m_items\u001b[49m\u001b[38;5;241;43m.\u001b[39;49m\u001b[43mpopleft\u001b[49m\u001b[43m(\u001b[49m\u001b[43m)\u001b[49m\n\u001b[1;32m    857\u001b[0m \u001b[38;5;28;01mexcept\u001b[39;00m \u001b[38;5;167;01mIndexError\u001b[39;00m:\n",
      "\u001b[0;31mIndexError\u001b[0m: pop from an empty deque",
      "\nDuring handling of the above exception, another exception occurred:\n",
      "\u001b[0;31mKeyboardInterrupt\u001b[0m                         Traceback (most recent call last)",
      "Cell \u001b[0;32mIn[97], line 2\u001b[0m\n\u001b[1;32m      1\u001b[0m \u001b[38;5;66;03m# Training\u001b[39;00m\n\u001b[0;32m----> 2\u001b[0m cvModel \u001b[38;5;241m=\u001b[39m \u001b[43mcrossval_lr\u001b[49m\u001b[38;5;241;43m.\u001b[39;49m\u001b[43mfit\u001b[49m\u001b[43m(\u001b[49m\u001b[43mtrain\u001b[49m\u001b[43m)\u001b[49m\n",
      "File \u001b[0;32m~/Downloads/spark/spark-3.5.1-bin-hadoop3/python/pyspark/ml/base.py:205\u001b[0m, in \u001b[0;36mEstimator.fit\u001b[0;34m(self, dataset, params)\u001b[0m\n\u001b[1;32m    203\u001b[0m         \u001b[38;5;28;01mreturn\u001b[39;00m \u001b[38;5;28mself\u001b[39m\u001b[38;5;241m.\u001b[39mcopy(params)\u001b[38;5;241m.\u001b[39m_fit(dataset)\n\u001b[1;32m    204\u001b[0m     \u001b[38;5;28;01melse\u001b[39;00m:\n\u001b[0;32m--> 205\u001b[0m         \u001b[38;5;28;01mreturn\u001b[39;00m \u001b[38;5;28;43mself\u001b[39;49m\u001b[38;5;241;43m.\u001b[39;49m\u001b[43m_fit\u001b[49m\u001b[43m(\u001b[49m\u001b[43mdataset\u001b[49m\u001b[43m)\u001b[49m\n\u001b[1;32m    206\u001b[0m \u001b[38;5;28;01melse\u001b[39;00m:\n\u001b[1;32m    207\u001b[0m     \u001b[38;5;28;01mraise\u001b[39;00m \u001b[38;5;167;01mTypeError\u001b[39;00m(\n\u001b[1;32m    208\u001b[0m         \u001b[38;5;124m\"\u001b[39m\u001b[38;5;124mParams must be either a param map or a list/tuple of param maps, \u001b[39m\u001b[38;5;124m\"\u001b[39m\n\u001b[1;32m    209\u001b[0m         \u001b[38;5;124m\"\u001b[39m\u001b[38;5;124mbut got \u001b[39m\u001b[38;5;132;01m%s\u001b[39;00m\u001b[38;5;124m.\u001b[39m\u001b[38;5;124m\"\u001b[39m \u001b[38;5;241m%\u001b[39m \u001b[38;5;28mtype\u001b[39m(params)\n\u001b[1;32m    210\u001b[0m     )\n",
      "File \u001b[0;32m~/Downloads/spark/spark-3.5.1-bin-hadoop3/python/pyspark/ml/tuning.py:847\u001b[0m, in \u001b[0;36mCrossValidator._fit\u001b[0;34m(self, dataset)\u001b[0m\n\u001b[1;32m    841\u001b[0m train \u001b[38;5;241m=\u001b[39m datasets[i][\u001b[38;5;241m0\u001b[39m]\u001b[38;5;241m.\u001b[39mcache()\n\u001b[1;32m    843\u001b[0m tasks \u001b[38;5;241m=\u001b[39m \u001b[38;5;28mmap\u001b[39m(\n\u001b[1;32m    844\u001b[0m     inheritable_thread_target,\n\u001b[1;32m    845\u001b[0m     _parallelFitTasks(est, train, eva, validation, epm, collectSubModelsParam),\n\u001b[1;32m    846\u001b[0m )\n\u001b[0;32m--> 847\u001b[0m \u001b[43m\u001b[49m\u001b[38;5;28;43;01mfor\u001b[39;49;00m\u001b[43m \u001b[49m\u001b[43mj\u001b[49m\u001b[43m,\u001b[49m\u001b[43m \u001b[49m\u001b[43mmetric\u001b[49m\u001b[43m,\u001b[49m\u001b[43m \u001b[49m\u001b[43msubModel\u001b[49m\u001b[43m \u001b[49m\u001b[38;5;129;43;01min\u001b[39;49;00m\u001b[43m \u001b[49m\u001b[43mpool\u001b[49m\u001b[38;5;241;43m.\u001b[39;49m\u001b[43mimap_unordered\u001b[49m\u001b[43m(\u001b[49m\u001b[38;5;28;43;01mlambda\u001b[39;49;00m\u001b[43m \u001b[49m\u001b[43mf\u001b[49m\u001b[43m:\u001b[49m\u001b[43m \u001b[49m\u001b[43mf\u001b[49m\u001b[43m(\u001b[49m\u001b[43m)\u001b[49m\u001b[43m,\u001b[49m\u001b[43m \u001b[49m\u001b[43mtasks\u001b[49m\u001b[43m)\u001b[49m\u001b[43m:\u001b[49m\n\u001b[1;32m    848\u001b[0m \u001b[43m    \u001b[49m\u001b[43mmetrics_all\u001b[49m\u001b[43m[\u001b[49m\u001b[43mi\u001b[49m\u001b[43m]\u001b[49m\u001b[43m[\u001b[49m\u001b[43mj\u001b[49m\u001b[43m]\u001b[49m\u001b[43m \u001b[49m\u001b[38;5;241;43m=\u001b[39;49m\u001b[43m \u001b[49m\u001b[43mmetric\u001b[49m\n\u001b[1;32m    849\u001b[0m \u001b[43m    \u001b[49m\u001b[38;5;28;43;01mif\u001b[39;49;00m\u001b[43m \u001b[49m\u001b[43mcollectSubModelsParam\u001b[49m\u001b[43m:\u001b[49m\n",
      "File \u001b[0;32m~/anaconda3/envs/aa24/lib/python3.12/multiprocessing/pool.py:861\u001b[0m, in \u001b[0;36mIMapIterator.next\u001b[0;34m(self, timeout)\u001b[0m\n\u001b[1;32m    859\u001b[0m     \u001b[38;5;28mself\u001b[39m\u001b[38;5;241m.\u001b[39m_pool \u001b[38;5;241m=\u001b[39m \u001b[38;5;28;01mNone\u001b[39;00m\n\u001b[1;32m    860\u001b[0m     \u001b[38;5;28;01mraise\u001b[39;00m \u001b[38;5;167;01mStopIteration\u001b[39;00m \u001b[38;5;28;01mfrom\u001b[39;00m \u001b[38;5;28;01mNone\u001b[39;00m\n\u001b[0;32m--> 861\u001b[0m \u001b[38;5;28;43mself\u001b[39;49m\u001b[38;5;241;43m.\u001b[39;49m\u001b[43m_cond\u001b[49m\u001b[38;5;241;43m.\u001b[39;49m\u001b[43mwait\u001b[49m\u001b[43m(\u001b[49m\u001b[43mtimeout\u001b[49m\u001b[43m)\u001b[49m\n\u001b[1;32m    862\u001b[0m \u001b[38;5;28;01mtry\u001b[39;00m:\n\u001b[1;32m    863\u001b[0m     item \u001b[38;5;241m=\u001b[39m \u001b[38;5;28mself\u001b[39m\u001b[38;5;241m.\u001b[39m_items\u001b[38;5;241m.\u001b[39mpopleft()\n",
      "File \u001b[0;32m~/anaconda3/envs/aa24/lib/python3.12/threading.py:355\u001b[0m, in \u001b[0;36mCondition.wait\u001b[0;34m(self, timeout)\u001b[0m\n\u001b[1;32m    353\u001b[0m \u001b[38;5;28;01mtry\u001b[39;00m:    \u001b[38;5;66;03m# restore state no matter what (e.g., KeyboardInterrupt)\u001b[39;00m\n\u001b[1;32m    354\u001b[0m     \u001b[38;5;28;01mif\u001b[39;00m timeout \u001b[38;5;129;01mis\u001b[39;00m \u001b[38;5;28;01mNone\u001b[39;00m:\n\u001b[0;32m--> 355\u001b[0m         \u001b[43mwaiter\u001b[49m\u001b[38;5;241;43m.\u001b[39;49m\u001b[43macquire\u001b[49m\u001b[43m(\u001b[49m\u001b[43m)\u001b[49m\n\u001b[1;32m    356\u001b[0m         gotit \u001b[38;5;241m=\u001b[39m \u001b[38;5;28;01mTrue\u001b[39;00m\n\u001b[1;32m    357\u001b[0m     \u001b[38;5;28;01melse\u001b[39;00m:\n",
      "\u001b[0;31mKeyboardInterrupt\u001b[0m: "
     ]
    },
    {
     "name": "stderr",
     "output_type": "stream",
     "text": [
      "24/05/09 19:03:59 WARN WindowExec: No Partition Defined for Window operation! Moving all data to a single partition, this can cause serious performance degradation.\n",
      "24/05/09 19:03:59 WARN WindowExec: No Partition Defined for Window operation! Moving all data to a single partition, this can cause serious performance degradation.\n",
      "24/05/09 19:04:00 WARN WindowExec: No Partition Defined for Window operation! Moving all data to a single partition, this can cause serious performance degradation.\n",
      "24/05/09 19:04:00 WARN WindowExec: No Partition Defined for Window operation! Moving all data to a single partition, this can cause serious performance degradation.\n",
      "24/05/09 19:04:00 WARN WindowExec: No Partition Defined for Window operation! Moving all data to a single partition, this can cause serious performance degradation.\n",
      "24/05/09 19:04:00 WARN WindowExec: No Partition Defined for Window operation! Moving all data to a single partition, this can cause serious performance degradation.\n",
      "24/05/09 19:04:00 WARN WindowExec: No Partition Defined for Window operation! Moving all data to a single partition, this can cause serious performance degradation.\n",
      "24/05/09 19:04:00 WARN WindowExec: No Partition Defined for Window operation! Moving all data to a single partition, this can cause serious performance degradation.\n",
      "24/05/09 19:04:00 WARN WindowExec: No Partition Defined for Window operation! Moving all data to a single partition, this can cause serious performance degradation.\n",
      "24/05/09 19:04:00 WARN WindowExec: No Partition Defined for Window operation! Moving all data to a single partition, this can cause serious performance degradation.\n",
      "24/05/09 19:04:00 WARN Instrumentation: [409468ba] All labels are the same value and fitIntercept=true, so the coefficients will be zeros. Training is not needed.\n",
      "24/05/09 19:04:00 WARN Instrumentation: [d6a27b42] All labels are the same value and fitIntercept=true, so the coefficients will be zeros. Training is not needed.\n",
      "24/05/09 19:04:00 WARN Instrumentation: [f2d16701] All labels are the same value and fitIntercept=true, so the coefficients will be zeros. Training is not needed.\n",
      "24/05/09 19:04:00 WARN Instrumentation: [218f72b8] All labels are the same value and fitIntercept=true, so the coefficients will be zeros. Training is not needed.\n",
      "24/05/09 19:04:08 WARN WindowExec: No Partition Defined for Window operation! Moving all data to a single partition, this can cause serious performance degradation.\n",
      "24/05/09 19:04:08 WARN WindowExec: No Partition Defined for Window operation! Moving all data to a single partition, this can cause serious performance degradation.\n",
      "24/05/09 19:04:09 WARN WindowExec: No Partition Defined for Window operation! Moving all data to a single partition, this can cause serious performance degradation.\n",
      "24/05/09 19:04:09 WARN WindowExec: No Partition Defined for Window operation! Moving all data to a single partition, this can cause serious performance degradation.\n",
      "24/05/09 19:04:09 WARN WindowExec: No Partition Defined for Window operation! Moving all data to a single partition, this can cause serious performance degradation.\n",
      "24/05/09 19:04:09 WARN WindowExec: No Partition Defined for Window operation! Moving all data to a single partition, this can cause serious performance degradation.\n",
      "24/05/09 19:04:09 WARN WindowExec: No Partition Defined for Window operation! Moving all data to a single partition, this can cause serious performance degradation.\n",
      "24/05/09 19:04:09 WARN WindowExec: No Partition Defined for Window operation! Moving all data to a single partition, this can cause serious performance degradation.\n",
      "24/05/09 19:04:09 WARN WindowExec: No Partition Defined for Window operation! Moving all data to a single partition, this can cause serious performance degradation.\n",
      "24/05/09 19:04:09 WARN WindowExec: No Partition Defined for Window operation! Moving all data to a single partition, this can cause serious performance degradation.\n",
      "24/05/09 19:04:09 WARN WindowExec: No Partition Defined for Window operation! Moving all data to a single partition, this can cause serious performance degradation.\n",
      "24/05/09 19:04:09 WARN WindowExec: No Partition Defined for Window operation! Moving all data to a single partition, this can cause serious performance degradation.\n",
      "24/05/09 19:04:09 WARN WindowExec: No Partition Defined for Window operation! Moving all data to a single partition, this can cause serious performance degradation.\n",
      "24/05/09 19:04:09 WARN WindowExec: No Partition Defined for Window operation! Moving all data to a single partition, this can cause serious performance degradation.\n",
      "24/05/09 19:04:09 WARN WindowExec: No Partition Defined for Window operation! Moving all data to a single partition, this can cause serious performance degradation.\n",
      "24/05/09 19:04:09 WARN WindowExec: No Partition Defined for Window operation! Moving all data to a single partition, this can cause serious performance degradation.\n",
      "24/05/09 19:04:09 WARN WindowExec: No Partition Defined for Window operation! Moving all data to a single partition, this can cause serious performance degradation.\n",
      "24/05/09 19:04:09 WARN WindowExec: No Partition Defined for Window operation! Moving all data to a single partition, this can cause serious performance degradation.\n",
      "24/05/09 19:04:09 WARN Instrumentation: [d92bbd51] All labels are the same value and fitIntercept=true, so the coefficients will be zeros. Training is not needed.\n",
      "24/05/09 19:04:09 WARN Instrumentation: [16f5153a] All labels are the same value and fitIntercept=true, so the coefficients will be zeros. Training is not needed.\n",
      "24/05/09 19:04:09 WARN Instrumentation: [cca920a2] All labels are the same value and fitIntercept=true, so the coefficients will be zeros. Training is not needed.\n",
      "24/05/09 19:04:09 WARN Instrumentation: [a9edb6fd] All labels are the same value and fitIntercept=true, so the coefficients will be zeros. Training is not needed.\n",
      "24/05/09 19:04:09 WARN WindowExec: No Partition Defined for Window operation! Moving all data to a single partition, this can cause serious performance degradation.\n",
      "24/05/09 19:04:09 WARN WindowExec: No Partition Defined for Window operation! Moving all data to a single partition, this can cause serious performance degradation.\n",
      "24/05/09 19:04:09 WARN WindowExec: No Partition Defined for Window operation! Moving all data to a single partition, this can cause serious performance degradation.\n",
      "24/05/09 19:04:09 WARN WindowExec: No Partition Defined for Window operation! Moving all data to a single partition, this can cause serious performance degradation.\n",
      "24/05/09 19:04:09 WARN Instrumentation: [49c22b7f] All labels are the same value and fitIntercept=true, so the coefficients will be zeros. Training is not needed.\n"
     ]
    }
   ],
   "source": [
    "# Training\n",
    "cvModel = crossval_lr.fit(train)\n"
   ]
  },
  {
   "cell_type": "code",
   "execution_count": 69,
   "id": "01c301e6-14aa-4bf7-b975-612d7e26a498",
   "metadata": {},
   "outputs": [
    {
     "name": "stdout",
     "output_type": "stream",
     "text": [
      "Best model:  PipelineModel_eb506f5816f2\n",
      "Best score:  0.9418476184285297\n"
     ]
    }
   ],
   "source": [
    "# Model evaluation\n",
    "best_model = cvModel.bestModel\n",
    "best_score = cvModel.avgMetrics[0]\n",
    "\n",
    "print(\"Best model: \", best_model)\n",
    "print(\"Best score: \", best_score)"
   ]
  },
  {
   "cell_type": "code",
   "execution_count": 70,
   "id": "e509905c-63e4-46df-b19a-33569864504a",
   "metadata": {},
   "outputs": [
    {
     "name": "stdout",
     "output_type": "stream",
     "text": [
      "Best score (RMSE): 0.9418476184285297\n",
      "\n",
      "LogisticRegression_a34220c6c6c6__aggregationDepth , 2\n",
      "LogisticRegression_a34220c6c6c6__elasticNetParam  , 1.0\n",
      "LogisticRegression_a34220c6c6c6__family           , binomial\n",
      "LogisticRegression_a34220c6c6c6__featuresCol      , final_feature_vector\n",
      "LogisticRegression_a34220c6c6c6__fitIntercept     , True\n",
      "LogisticRegression_a34220c6c6c6__labelCol         , frontpage\n",
      "LogisticRegression_a34220c6c6c6__maxBlockSizeInMB , 0.0\n",
      "LogisticRegression_a34220c6c6c6__maxIter          , 100\n",
      "LogisticRegression_a34220c6c6c6__predictionCol    , prediction\n",
      "LogisticRegression_a34220c6c6c6__probabilityCol   , probability\n",
      "LogisticRegression_a34220c6c6c6__rawPredictionCol , rawPrediction\n",
      "LogisticRegression_a34220c6c6c6__regParam         , 0.1\n",
      "LogisticRegression_a34220c6c6c6__standardization  , True\n",
      "LogisticRegression_a34220c6c6c6__threshold        , 0.5\n",
      "LogisticRegression_a34220c6c6c6__tol              , 1e-06\n"
     ]
    }
   ],
   "source": [
    "# Get best model\n",
    "best_lr_params = best_model.stages[-1].extractParamMap()\n",
    "\n",
    "print(\"Best score (RMSE):\", best_score, end=\"\\n\\n\")\n",
    "\n",
    "for parameter, value in best_lr_params.items():\n",
    "    print(f\"{str(parameter):50s}, {value}\")"
   ]
  },
  {
   "cell_type": "code",
   "execution_count": 72,
   "id": "049e8326-e02a-4643-b833-4ba30096391c",
   "metadata": {},
   "outputs": [
    {
     "name": "stderr",
     "output_type": "stream",
     "text": [
      "24/05/09 17:27:55 WARN WindowExec: No Partition Defined for Window operation! Moving all data to a single partition, this can cause serious performance degradation.\n",
      "24/05/09 17:27:55 WARN WindowExec: No Partition Defined for Window operation! Moving all data to a single partition, this can cause serious performance degradation.\n",
      "24/05/09 17:27:55 WARN WindowExec: No Partition Defined for Window operation! Moving all data to a single partition, this can cause serious performance degradation.\n",
      "[Stage 1791:=================================================>  (292 + 2) / 307]\r"
     ]
    },
    {
     "name": "stdout",
     "output_type": "stream",
     "text": [
      "0.9759615384615384\n"
     ]
    },
    {
     "name": "stderr",
     "output_type": "stream",
     "text": [
      "24/05/09 17:28:01 WARN WindowExec: No Partition Defined for Window operation! Moving all data to a single partition, this can cause serious performance degradation.\n",
      "24/05/09 17:28:01 WARN WindowExec: No Partition Defined for Window operation! Moving all data to a single partition, this can cause serious performance degradation.\n",
      "                                                                                \r"
     ]
    }
   ],
   "source": [
    "# Test scores\n",
    "test_pred = best_model.transform(test)\n",
    "\n",
    "# show scores\n",
    "print(evaluator.evaluate(test_pred))"
   ]
  },
  {
   "cell_type": "code",
   "execution_count": 73,
   "id": "179f3144-be3e-482a-ba45-5ef97ed99ccf",
   "metadata": {},
   "outputs": [
    {
     "name": "stderr",
     "output_type": "stream",
     "text": [
      "                                                                                \r"
     ]
    }
   ],
   "source": [
    "# save best model from cv grid search\n",
    "mPath =  file_path+\"models/best_model\"\n",
    "best_model.write().overwrite().save(mPath)"
   ]
  },
  {
   "cell_type": "code",
   "execution_count": null,
   "id": "747db9d2-6015-46d3-a100-da5c21ebee80",
   "metadata": {},
   "outputs": [],
   "source": []
  }
 ],
 "metadata": {
  "kernelspec": {
   "display_name": "Python 3 (ipykernel)",
   "language": "python",
   "name": "python3"
  },
  "language_info": {
   "codemirror_mode": {
    "name": "ipython",
    "version": 3
   },
   "file_extension": ".py",
   "mimetype": "text/x-python",
   "name": "python",
   "nbconvert_exporter": "python",
   "pygments_lexer": "ipython3",
   "version": "3.11.5"
  }
 },
 "nbformat": 4,
 "nbformat_minor": 5
}
