{
 "cells": [
  {
   "cell_type": "code",
   "execution_count": 6,
   "id": "7040a554-46dc-4f62-a882-5da3226fa098",
   "metadata": {},
   "outputs": [
    {
     "name": "stderr",
     "output_type": "stream",
     "text": [
      "24/05/09 18:39:49 WARN RandomBlockReplicationPolicy: Expecting 1 replicas with only 0 peer/s.\n",
      "24/05/09 18:39:49 WARN BlockManager: Block input-0-1715272789600 replicated to only 0 peer(s) instead of 1 peers\n",
      "24/05/09 18:41:53 WARN RandomBlockReplicationPolicy: Expecting 1 replicas with only 0 peer/s.\n",
      "24/05/09 18:41:53 WARN BlockManager: Block input-0-1715272912800 replicated to only 0 peer(s) instead of 1 peers\n",
      "24/05/09 18:42:55 WARN RandomBlockReplicationPolicy: Expecting 1 replicas with only 0 peer/s.\n",
      "24/05/09 18:42:55 WARN BlockManager: Block input-0-1715272974800 replicated to only 0 peer(s) instead of 1 peers\n",
      "24/05/09 18:44:58 WARN RandomBlockReplicationPolicy: Expecting 1 replicas with only 0 peer/s.\n",
      "24/05/09 18:44:58 WARN BlockManager: Block input-0-1715273098000 replicated to only 0 peer(s) instead of 1 peers\n",
      "24/05/09 18:46:01 WARN RandomBlockReplicationPolicy: Expecting 1 replicas with only 0 peer/s.\n",
      "24/05/09 18:46:01 WARN BlockManager: Block input-0-1715273161200 replicated to only 0 peer(s) instead of 1 peers\n",
      "24/05/09 18:48:02 WARN RandomBlockReplicationPolicy: Expecting 1 replicas with only 0 peer/s.\n",
      "24/05/09 18:48:02 WARN BlockManager: Block input-0-1715273282400 replicated to only 0 peer(s) instead of 1 peers\n",
      "24/05/09 18:49:04 WARN RandomBlockReplicationPolicy: Expecting 1 replicas with only 0 peer/s.\n",
      "24/05/09 18:49:04 WARN BlockManager: Block input-0-1715273344600 replicated to only 0 peer(s) instead of 1 peers\n",
      "24/05/09 18:50:05 WARN RandomBlockReplicationPolicy: Expecting 1 replicas with only 0 peer/s.\n",
      "24/05/09 18:50:05 WARN BlockManager: Block input-0-1715273405600 replicated to only 0 peer(s) instead of 1 peers\n",
      "24/05/09 18:52:08 WARN RandomBlockReplicationPolicy: Expecting 1 replicas with only 0 peer/s.\n",
      "24/05/09 18:52:08 WARN BlockManager: Block input-0-1715273527800 replicated to only 0 peer(s) instead of 1 peers\n",
      "24/05/09 18:54:11 WARN RandomBlockReplicationPolicy: Expecting 1 replicas with only 0 peer/s.\n",
      "24/05/09 18:54:11 WARN BlockManager: Block input-0-1715273651000 replicated to only 0 peer(s) instead of 1 peers\n",
      "24/05/09 18:57:14 WARN RandomBlockReplicationPolicy: Expecting 1 replicas with only 0 peer/s.\n",
      "24/05/09 18:57:14 WARN BlockManager: Block input-0-1715273834200 replicated to only 0 peer(s) instead of 1 peers\n",
      "24/05/09 19:01:15 WARN RandomBlockReplicationPolicy: Expecting 1 replicas with only 0 peer/s.\n",
      "24/05/09 19:01:15 WARN BlockManager: Block input-0-1715274075600 replicated to only 0 peer(s) instead of 1 peers\n",
      "24/05/09 19:01:18 WARN RandomBlockReplicationPolicy: Expecting 1 replicas with only 0 peer/s.\n",
      "24/05/09 19:01:18 WARN BlockManager: Block input-0-1715274078600 replicated to only 0 peer(s) instead of 1 peers\n",
      "24/05/09 19:04:31 ERROR ReceiverTracker: Receiver has been stopped. Try to restart it.\n",
      "org.apache.spark.SparkException: Job 22 cancelled as part of cancellation of all jobs\n",
      "\tat org.apache.spark.scheduler.DAGScheduler.failJobAndIndependentStages(DAGScheduler.scala:2856)\n",
      "\tat org.apache.spark.scheduler.DAGScheduler.handleJobCancellation(DAGScheduler.scala:2731)\n",
      "\tat org.apache.spark.scheduler.DAGScheduler.$anonfun$doCancelAllJobs$2(DAGScheduler.scala:1114)\n",
      "\tat scala.runtime.java8.JFunction1$mcVI$sp.apply(JFunction1$mcVI$sp.java:23)\n",
      "\tat scala.collection.mutable.HashSet.foreach(HashSet.scala:79)\n",
      "\tat org.apache.spark.scheduler.DAGScheduler.doCancelAllJobs(DAGScheduler.scala:1113)\n",
      "\tat org.apache.spark.scheduler.DAGSchedulerEventProcessLoop.doOnReceive(DAGScheduler.scala:3022)\n",
      "\tat org.apache.spark.scheduler.DAGSchedulerEventProcessLoop.onReceive(DAGScheduler.scala:2994)\n",
      "\tat org.apache.spark.scheduler.DAGSchedulerEventProcessLoop.onReceive(DAGScheduler.scala:2983)\n",
      "\tat org.apache.spark.util.EventLoop$$anon$1.run(EventLoop.scala:49)\n",
      "24/05/09 19:04:32 WARN RandomBlockReplicationPolicy: Expecting 1 replicas with only 0 peer/s.\n",
      "24/05/09 19:04:32 WARN BlockManager: Block input-0-1715274272000 replicated to only 0 peer(s) instead of 1 peers\n",
      "24/05/09 19:04:35 WARN RandomBlockReplicationPolicy: Expecting 1 replicas with only 0 peer/s.\n",
      "24/05/09 19:04:35 WARN BlockManager: Block input-0-1715274275200 replicated to only 0 peer(s) instead of 1 peers\n",
      "24/05/09 19:04:39 WARN RandomBlockReplicationPolicy: Expecting 1 replicas with only 0 peer/s.\n",
      "24/05/09 19:04:39 WARN BlockManager: Block input-0-1715274279000 replicated to only 0 peer(s) instead of 1 peers\n",
      "24/05/09 19:04:40 ERROR ReceiverTracker: Receiver has been stopped. Try to restart it.\n",
      "org.apache.spark.SparkException: Job 241 cancelled as part of cancellation of all jobs\n",
      "\tat org.apache.spark.scheduler.DAGScheduler.failJobAndIndependentStages(DAGScheduler.scala:2856)\n",
      "\tat org.apache.spark.scheduler.DAGScheduler.handleJobCancellation(DAGScheduler.scala:2731)\n",
      "\tat org.apache.spark.scheduler.DAGScheduler.$anonfun$doCancelAllJobs$2(DAGScheduler.scala:1114)\n",
      "\tat scala.runtime.java8.JFunction1$mcVI$sp.apply(JFunction1$mcVI$sp.java:23)\n",
      "\tat scala.collection.mutable.HashSet.foreach(HashSet.scala:79)\n",
      "\tat org.apache.spark.scheduler.DAGScheduler.doCancelAllJobs(DAGScheduler.scala:1113)\n",
      "\tat org.apache.spark.scheduler.DAGSchedulerEventProcessLoop.doOnReceive(DAGScheduler.scala:3022)\n",
      "\tat org.apache.spark.scheduler.DAGSchedulerEventProcessLoop.onReceive(DAGScheduler.scala:2994)\n",
      "\tat org.apache.spark.scheduler.DAGSchedulerEventProcessLoop.onReceive(DAGScheduler.scala:2983)\n",
      "\tat org.apache.spark.util.EventLoop$$anon$1.run(EventLoop.scala:49)\n",
      "24/05/09 19:04:40 ERROR ReceiverTracker: Receiver has been stopped. Try to restart it.\n",
      "org.apache.spark.SparkException: Job aborted due to stage failure: Task serialization failed: java.lang.IllegalStateException: Cannot call methods on a stopped SparkContext.\n",
      "This stopped SparkContext was created at:\n",
      "\n",
      "org.apache.spark.api.java.JavaSparkContext.<init>(JavaSparkContext.scala:58)\n",
      "java.base/jdk.internal.reflect.NativeConstructorAccessorImpl.newInstance0(Native Method)\n",
      "java.base/jdk.internal.reflect.NativeConstructorAccessorImpl.newInstance(NativeConstructorAccessorImpl.java:62)\n",
      "java.base/jdk.internal.reflect.DelegatingConstructorAccessorImpl.newInstance(DelegatingConstructorAccessorImpl.java:45)\n",
      "java.base/java.lang.reflect.Constructor.newInstance(Constructor.java:490)\n",
      "py4j.reflection.MethodInvoker.invoke(MethodInvoker.java:247)\n",
      "py4j.reflection.ReflectionEngine.invoke(ReflectionEngine.java:374)\n",
      "py4j.Gateway.invoke(Gateway.java:238)\n",
      "py4j.commands.ConstructorCommand.invokeConstructor(ConstructorCommand.java:80)\n",
      "py4j.commands.ConstructorCommand.execute(ConstructorCommand.java:69)\n",
      "py4j.ClientServerConnection.waitForCommands(ClientServerConnection.java:182)\n",
      "py4j.ClientServerConnection.run(ClientServerConnection.java:106)\n",
      "java.base/java.lang.Thread.run(Thread.java:829)\n",
      "\n",
      "The currently active SparkContext was created at:\n",
      "\n",
      "org.apache.spark.api.java.JavaSparkContext.<init>(JavaSparkContext.scala:58)\n",
      "java.base/jdk.internal.reflect.NativeConstructorAccessorImpl.newInstance0(Native Method)\n",
      "java.base/jdk.internal.reflect.NativeConstructorAccessorImpl.newInstance(NativeConstructorAccessorImpl.java:62)\n",
      "java.base/jdk.internal.reflect.DelegatingConstructorAccessorImpl.newInstance(DelegatingConstructorAccessorImpl.java:45)\n",
      "java.base/java.lang.reflect.Constructor.newInstance(Constructor.java:490)\n",
      "py4j.reflection.MethodInvoker.invoke(MethodInvoker.java:247)\n",
      "py4j.reflection.ReflectionEngine.invoke(ReflectionEngine.java:374)\n",
      "py4j.Gateway.invoke(Gateway.java:238)\n",
      "py4j.commands.ConstructorCommand.invokeConstructor(ConstructorCommand.java:80)\n",
      "py4j.commands.ConstructorCommand.execute(ConstructorCommand.java:69)\n",
      "py4j.ClientServerConnection.waitForCommands(ClientServerConnection.java:182)\n",
      "py4j.ClientServerConnection.run(ClientServerConnection.java:106)\n",
      "java.base/java.lang.Thread.run(Thread.java:829)\n",
      "         \n",
      "java.lang.IllegalStateException: Cannot call methods on a stopped SparkContext.\n",
      "This stopped SparkContext was created at:\n",
      "\n",
      "org.apache.spark.api.java.JavaSparkContext.<init>(JavaSparkContext.scala:58)\n",
      "java.base/jdk.internal.reflect.NativeConstructorAccessorImpl.newInstance0(Native Method)\n",
      "java.base/jdk.internal.reflect.NativeConstructorAccessorImpl.newInstance(NativeConstructorAccessorImpl.java:62)\n",
      "java.base/jdk.internal.reflect.DelegatingConstructorAccessorImpl.newInstance(DelegatingConstructorAccessorImpl.java:45)\n",
      "java.base/java.lang.reflect.Constructor.newInstance(Constructor.java:490)\n",
      "py4j.reflection.MethodInvoker.invoke(MethodInvoker.java:247)\n",
      "py4j.reflection.ReflectionEngine.invoke(ReflectionEngine.java:374)\n",
      "py4j.Gateway.invoke(Gateway.java:238)\n",
      "py4j.commands.ConstructorCommand.invokeConstructor(ConstructorCommand.java:80)\n",
      "py4j.commands.ConstructorCommand.execute(ConstructorCommand.java:69)\n",
      "py4j.ClientServerConnection.waitForCommands(ClientServerConnection.java:182)\n",
      "py4j.ClientServerConnection.run(ClientServerConnection.java:106)\n",
      "java.base/java.lang.Thread.run(Thread.java:829)\n",
      "\n",
      "The currently active SparkContext was created at:\n",
      "\n",
      "org.apache.spark.api.java.JavaSparkContext.<init>(JavaSparkContext.scala:58)\n",
      "java.base/jdk.internal.reflect.NativeConstructorAccessorImpl.newInstance0(Native Method)\n",
      "java.base/jdk.internal.reflect.NativeConstructorAccessorImpl.newInstance(NativeConstructorAccessorImpl.java:62)\n",
      "java.base/jdk.internal.reflect.DelegatingConstructorAccessorImpl.newInstance(DelegatingConstructorAccessorImpl.java:45)\n",
      "java.base/java.lang.reflect.Constructor.newInstance(Constructor.java:490)\n",
      "py4j.reflection.MethodInvoker.invoke(MethodInvoker.java:247)\n",
      "py4j.reflection.ReflectionEngine.invoke(ReflectionEngine.java:374)\n",
      "py4j.Gateway.invoke(Gateway.java:238)\n",
      "py4j.commands.ConstructorCommand.invokeConstructor(ConstructorCommand.java:80)\n",
      "py4j.commands.ConstructorCommand.execute(ConstructorCommand.java:69)\n",
      "py4j.ClientServerConnection.waitForCommands(ClientServerConnection.java:182)\n",
      "py4j.ClientServerConnection.run(ClientServerConnection.java:106)\n",
      "java.base/java.lang.Thread.run(Thread.java:829)\n",
      "         \n",
      "\tat org.apache.spark.SparkContext.assertNotStopped(SparkContext.scala:122)\n",
      "\tat org.apache.spark.SparkContext.broadcastInternal(SparkContext.scala:1659)\n",
      "\tat org.apache.spark.SparkContext.broadcast(SparkContext.scala:1644)\n",
      "\tat org.apache.spark.scheduler.DAGScheduler.submitMissingTasks(DAGScheduler.scala:1585)\n",
      "\tat org.apache.spark.scheduler.DAGScheduler.submitStage(DAGScheduler.scala:1402)\n",
      "\tat org.apache.spark.scheduler.DAGScheduler.handleJobSubmitted(DAGScheduler.scala:1337)\n",
      "\tat org.apache.spark.scheduler.DAGSchedulerEventProcessLoop.doOnReceive(DAGScheduler.scala:3003)\n",
      "\tat org.apache.spark.scheduler.DAGSchedulerEventProcessLoop.onReceive(DAGScheduler.scala:2994)\n",
      "\tat org.apache.spark.scheduler.DAGSchedulerEventProcessLoop.onReceive(DAGScheduler.scala:2983)\n",
      "\tat org.apache.spark.util.EventLoop$$anon$1.run(EventLoop.scala:49)\n",
      "\n",
      "\tat org.apache.spark.scheduler.DAGScheduler.failJobAndIndependentStages(DAGScheduler.scala:2856)\n",
      "\tat org.apache.spark.scheduler.DAGScheduler.$anonfun$abortStage$2(DAGScheduler.scala:2792)\n",
      "\tat org.apache.spark.scheduler.DAGScheduler.$anonfun$abortStage$2$adapted(DAGScheduler.scala:2791)\n",
      "\tat scala.collection.mutable.ResizableArray.foreach(ResizableArray.scala:62)\n",
      "\tat scala.collection.mutable.ResizableArray.foreach$(ResizableArray.scala:55)\n",
      "\tat scala.collection.mutable.ArrayBuffer.foreach(ArrayBuffer.scala:49)\n",
      "\tat org.apache.spark.scheduler.DAGScheduler.abortStage(DAGScheduler.scala:2791)\n",
      "\tat org.apache.spark.scheduler.DAGScheduler.submitMissingTasks(DAGScheduler.scala:1595)\n",
      "\tat org.apache.spark.scheduler.DAGScheduler.submitStage(DAGScheduler.scala:1402)\n",
      "\tat org.apache.spark.scheduler.DAGScheduler.handleJobSubmitted(DAGScheduler.scala:1337)\n",
      "\tat org.apache.spark.scheduler.DAGSchedulerEventProcessLoop.doOnReceive(DAGScheduler.scala:3003)\n",
      "\tat org.apache.spark.scheduler.DAGSchedulerEventProcessLoop.onReceive(DAGScheduler.scala:2994)\n",
      "\tat org.apache.spark.scheduler.DAGSchedulerEventProcessLoop.onReceive(DAGScheduler.scala:2983)\n",
      "\tat org.apache.spark.util.EventLoop$$anon$1.run(EventLoop.scala:49)\n",
      "Caused by: java.lang.IllegalStateException: Cannot call methods on a stopped SparkContext.\n",
      "This stopped SparkContext was created at:\n",
      "\n",
      "org.apache.spark.api.java.JavaSparkContext.<init>(JavaSparkContext.scala:58)\n",
      "java.base/jdk.internal.reflect.NativeConstructorAccessorImpl.newInstance0(Native Method)\n",
      "java.base/jdk.internal.reflect.NativeConstructorAccessorImpl.newInstance(NativeConstructorAccessorImpl.java:62)\n",
      "java.base/jdk.internal.reflect.DelegatingConstructorAccessorImpl.newInstance(DelegatingConstructorAccessorImpl.java:45)\n",
      "java.base/java.lang.reflect.Constructor.newInstance(Constructor.java:490)\n",
      "py4j.reflection.MethodInvoker.invoke(MethodInvoker.java:247)\n",
      "py4j.reflection.ReflectionEngine.invoke(ReflectionEngine.java:374)\n",
      "py4j.Gateway.invoke(Gateway.java:238)\n",
      "py4j.commands.ConstructorCommand.invokeConstructor(ConstructorCommand.java:80)\n",
      "py4j.commands.ConstructorCommand.execute(ConstructorCommand.java:69)\n",
      "py4j.ClientServerConnection.waitForCommands(ClientServerConnection.java:182)\n",
      "py4j.ClientServerConnection.run(ClientServerConnection.java:106)\n",
      "java.base/java.lang.Thread.run(Thread.java:829)\n",
      "\n",
      "The currently active SparkContext was created at:\n",
      "\n",
      "org.apache.spark.api.java.JavaSparkContext.<init>(JavaSparkContext.scala:58)\n",
      "java.base/jdk.internal.reflect.NativeConstructorAccessorImpl.newInstance0(Native Method)\n",
      "java.base/jdk.internal.reflect.NativeConstructorAccessorImpl.newInstance(NativeConstructorAccessorImpl.java:62)\n",
      "java.base/jdk.internal.reflect.DelegatingConstructorAccessorImpl.newInstance(DelegatingConstructorAccessorImpl.java:45)\n",
      "java.base/java.lang.reflect.Constructor.newInstance(Constructor.java:490)\n",
      "py4j.reflection.MethodInvoker.invoke(MethodInvoker.java:247)\n",
      "py4j.reflection.ReflectionEngine.invoke(ReflectionEngine.java:374)\n",
      "py4j.Gateway.invoke(Gateway.java:238)\n",
      "py4j.commands.ConstructorCommand.invokeConstructor(ConstructorCommand.java:80)\n",
      "py4j.commands.ConstructorCommand.execute(ConstructorCommand.java:69)\n",
      "py4j.ClientServerConnection.waitForCommands(ClientServerConnection.java:182)\n",
      "py4j.ClientServerConnection.run(ClientServerConnection.java:106)\n",
      "java.base/java.lang.Thread.run(Thread.java:829)\n",
      "         \n",
      "\tat org.apache.spark.SparkContext.assertNotStopped(SparkContext.scala:122)\n",
      "\tat org.apache.spark.SparkContext.broadcastInternal(SparkContext.scala:1659)\n",
      "\tat org.apache.spark.SparkContext.broadcast(SparkContext.scala:1644)\n",
      "\tat org.apache.spark.scheduler.DAGScheduler.submitMissingTasks(DAGScheduler.scala:1585)\n",
      "\t... 6 more\n",
      "24/05/09 19:04:40 ERROR Inbox: Ignoring error\n",
      "java.lang.IllegalStateException: Cannot call methods on a stopped SparkContext.\n",
      "This stopped SparkContext was created at:\n",
      "\n",
      "org.apache.spark.api.java.JavaSparkContext.<init>(JavaSparkContext.scala:58)\n",
      "java.base/jdk.internal.reflect.NativeConstructorAccessorImpl.newInstance0(Native Method)\n",
      "java.base/jdk.internal.reflect.NativeConstructorAccessorImpl.newInstance(NativeConstructorAccessorImpl.java:62)\n",
      "java.base/jdk.internal.reflect.DelegatingConstructorAccessorImpl.newInstance(DelegatingConstructorAccessorImpl.java:45)\n",
      "java.base/java.lang.reflect.Constructor.newInstance(Constructor.java:490)\n",
      "py4j.reflection.MethodInvoker.invoke(MethodInvoker.java:247)\n",
      "py4j.reflection.ReflectionEngine.invoke(ReflectionEngine.java:374)\n",
      "py4j.Gateway.invoke(Gateway.java:238)\n",
      "py4j.commands.ConstructorCommand.invokeConstructor(ConstructorCommand.java:80)\n",
      "py4j.commands.ConstructorCommand.execute(ConstructorCommand.java:69)\n",
      "py4j.ClientServerConnection.waitForCommands(ClientServerConnection.java:182)\n",
      "py4j.ClientServerConnection.run(ClientServerConnection.java:106)\n",
      "java.base/java.lang.Thread.run(Thread.java:829)\n",
      "\n",
      "The currently active SparkContext was created at:\n",
      "\n",
      "org.apache.spark.api.java.JavaSparkContext.<init>(JavaSparkContext.scala:58)\n",
      "java.base/jdk.internal.reflect.NativeConstructorAccessorImpl.newInstance0(Native Method)\n",
      "java.base/jdk.internal.reflect.NativeConstructorAccessorImpl.newInstance(NativeConstructorAccessorImpl.java:62)\n",
      "java.base/jdk.internal.reflect.DelegatingConstructorAccessorImpl.newInstance(DelegatingConstructorAccessorImpl.java:45)\n",
      "java.base/java.lang.reflect.Constructor.newInstance(Constructor.java:490)\n",
      "py4j.reflection.MethodInvoker.invoke(MethodInvoker.java:247)\n",
      "py4j.reflection.ReflectionEngine.invoke(ReflectionEngine.java:374)\n",
      "py4j.Gateway.invoke(Gateway.java:238)\n",
      "py4j.commands.ConstructorCommand.invokeConstructor(ConstructorCommand.java:80)\n",
      "py4j.commands.ConstructorCommand.execute(ConstructorCommand.java:69)\n",
      "py4j.ClientServerConnection.waitForCommands(ClientServerConnection.java:182)\n",
      "py4j.ClientServerConnection.run(ClientServerConnection.java:106)\n",
      "java.base/java.lang.Thread.run(Thread.java:829)\n",
      "         \n",
      "\tat org.apache.spark.SparkContext.assertNotStopped(SparkContext.scala:122)\n",
      "\tat org.apache.spark.SparkContext.$anonfun$makeRDD$2(SparkContext.scala:1039)\n",
      "\tat org.apache.spark.rdd.RDDOperationScope$.withScope(RDDOperationScope.scala:151)\n",
      "\tat org.apache.spark.rdd.RDDOperationScope$.withScope(RDDOperationScope.scala:112)\n",
      "\tat org.apache.spark.SparkContext.withScope(SparkContext.scala:924)\n",
      "\tat org.apache.spark.SparkContext.makeRDD(SparkContext.scala:1038)\n",
      "\tat org.apache.spark.streaming.scheduler.ReceiverTracker$ReceiverTrackerEndpoint.org$apache$spark$streaming$scheduler$ReceiverTracker$ReceiverTrackerEndpoint$$startReceiver(ReceiverTracker.scala:609)\n",
      "\tat org.apache.spark.streaming.scheduler.ReceiverTracker$ReceiverTrackerEndpoint$$anonfun$receive$1.applyOrElse(ReceiverTracker.scala:496)\n",
      "\tat org.apache.spark.rpc.netty.Inbox.$anonfun$process$1(Inbox.scala:115)\n",
      "\tat org.apache.spark.rpc.netty.Inbox.safelyCall(Inbox.scala:213)\n",
      "\tat org.apache.spark.rpc.netty.Inbox.process(Inbox.scala:100)\n",
      "\tat org.apache.spark.rpc.netty.MessageLoop.org$apache$spark$rpc$netty$MessageLoop$$receiveLoop(MessageLoop.scala:75)\n",
      "\tat org.apache.spark.rpc.netty.MessageLoop$$anon$1.run(MessageLoop.scala:41)\n",
      "\tat java.base/java.util.concurrent.ThreadPoolExecutor.runWorker(ThreadPoolExecutor.java:1128)\n",
      "\tat java.base/java.util.concurrent.ThreadPoolExecutor$Worker.run(ThreadPoolExecutor.java:628)\n",
      "\tat java.base/java.lang.Thread.run(Thread.java:829)\n",
      "24/05/09 19:04:40 ERROR JobScheduler: Error running job streaming job 1715274280000 ms.0\n",
      "org.apache.spark.SparkException: An exception was raised by Python:\n",
      "Traceback (most recent call last):\n",
      "  File \"/Users/hydraze/Downloads/spark/spark-3.5.1-bin-hadoop3/python/pyspark/streaming/util.py\", line 71, in call\n",
      "    r = self.func(t, *rdds)\n",
      "        ^^^^^^^^^^^^^^^^^^^\n",
      "  File \"/var/folders/4h/j84nnmnn0nj01mk0ndxyk7n40000gn/T/ipykernel_54495/2763029940.py\", line 3, in process\n",
      "    if rdd.isEmpty():\n",
      "       ^^^^^^^^^^^^^\n",
      "  File \"/Users/hydraze/Downloads/spark/spark-3.5.1-bin-hadoop3/python/pyspark/rdd.py\", line 2920, in isEmpty\n",
      "    return self.getNumPartitions() == 0 or len(self.take(1)) == 0\n",
      "                                               ^^^^^^^^^^^^\n",
      "  File \"/Users/hydraze/Downloads/spark/spark-3.5.1-bin-hadoop3/python/pyspark/rdd.py\", line 2855, in take\n",
      "    res = self.context.runJob(self, takeUpToNumLeft, p)\n",
      "          ^^^^^^^^^^^^^^^^^^^^^^^^^^^^^^^^^^^^^^^^^^^^^\n",
      "  File \"/Users/hydraze/Downloads/spark/spark-3.5.1-bin-hadoop3/python/pyspark/context.py\", line 2510, in runJob\n",
      "    sock_info = self._jvm.PythonRDD.runJob(self._jsc.sc(), mappedRDD._jrdd, partitions)\n",
      "                ^^^^^^^^^^^^^^^^^^^^^^^^^^^^^^^^^^^^^^^^^^^^^^^^^^^^^^^^^^^^^^^^^^^^^^^\n",
      "  File \"/Users/hydraze/Downloads/spark/spark-3.5.1-bin-hadoop3/python/lib/py4j-0.10.9.7-src.zip/py4j/java_gateway.py\", line 1322, in __call__\n",
      "    return_value = get_return_value(\n",
      "                   ^^^^^^^^^^^^^^^^^\n",
      "  File \"/Users/hydraze/Downloads/spark/spark-3.5.1-bin-hadoop3/python/pyspark/errors/exceptions/captured.py\", line 179, in deco\n",
      "    return f(*a, **kw)\n",
      "           ^^^^^^^^^^^\n",
      "  File \"/Users/hydraze/Downloads/spark/spark-3.5.1-bin-hadoop3/python/lib/py4j-0.10.9.7-src.zip/py4j/protocol.py\", line 326, in get_return_value\n",
      "    raise Py4JJavaError(\n",
      "py4j.protocol.Py4JJavaError: An error occurred while calling z:org.apache.spark.api.python.PythonRDD.runJob.\n",
      ": org.apache.spark.SparkException: Job 242 cancelled as part of cancellation of all jobs\n",
      "\tat org.apache.spark.scheduler.DAGScheduler.failJobAndIndependentStages(DAGScheduler.scala:2856)\n",
      "\tat org.apache.spark.scheduler.DAGScheduler.handleJobCancellation(DAGScheduler.scala:2731)\n",
      "\tat org.apache.spark.scheduler.DAGScheduler.$anonfun$doCancelAllJobs$2(DAGScheduler.scala:1114)\n",
      "\tat scala.runtime.java8.JFunction1$mcVI$sp.apply(JFunction1$mcVI$sp.java:23)\n",
      "\tat scala.collection.mutable.HashSet.foreach(HashSet.scala:79)\n",
      "\tat org.apache.spark.scheduler.DAGScheduler.doCancelAllJobs(DAGScheduler.scala:1113)\n",
      "\tat org.apache.spark.scheduler.DAGSchedulerEventProcessLoop.doOnReceive(DAGScheduler.scala:3022)\n",
      "\tat org.apache.spark.scheduler.DAGSchedulerEventProcessLoop.onReceive(DAGScheduler.scala:2994)\n",
      "\tat org.apache.spark.scheduler.DAGSchedulerEventProcessLoop.onReceive(DAGScheduler.scala:2983)\n",
      "\tat org.apache.spark.util.EventLoop$$anon$1.run(EventLoop.scala:49)\n",
      "\tat org.apache.spark.scheduler.DAGScheduler.runJob(DAGScheduler.scala:989)\n",
      "\tat org.apache.spark.SparkContext.runJob(SparkContext.scala:2398)\n",
      "\tat org.apache.spark.SparkContext.runJob(SparkContext.scala:2419)\n",
      "\tat org.apache.spark.SparkContext.runJob(SparkContext.scala:2438)\n",
      "\tat org.apache.spark.api.python.PythonRDD$.runJob(PythonRDD.scala:181)\n",
      "\tat org.apache.spark.api.python.PythonRDD.runJob(PythonRDD.scala)\n",
      "\tat jdk.internal.reflect.GeneratedMethodAccessor127.invoke(Unknown Source)\n",
      "\tat java.base/jdk.internal.reflect.DelegatingMethodAccessorImpl.invoke(DelegatingMethodAccessorImpl.java:43)\n",
      "\tat java.base/java.lang.reflect.Method.invoke(Method.java:566)\n",
      "\tat py4j.reflection.MethodInvoker.invoke(MethodInvoker.java:244)\n",
      "\tat py4j.reflection.ReflectionEngine.invoke(ReflectionEngine.java:374)\n",
      "\tat py4j.Gateway.invoke(Gateway.java:282)\n",
      "\tat py4j.commands.AbstractCommand.invokeMethod(AbstractCommand.java:132)\n",
      "\tat py4j.commands.CallCommand.execute(CallCommand.java:79)\n",
      "\tat py4j.ClientServerConnection.sendCommand(ClientServerConnection.java:244)\n",
      "\tat py4j.CallbackClient.sendCommand(CallbackClient.java:384)\n",
      "\tat py4j.CallbackClient.sendCommand(CallbackClient.java:356)\n",
      "\tat py4j.reflection.PythonProxyHandler.invoke(PythonProxyHandler.java:106)\n",
      "\tat com.sun.proxy.$Proxy36.call(Unknown Source)\n",
      "\tat org.apache.spark.streaming.api.python.TransformFunction.callPythonTransformFunction(PythonDStream.scala:92)\n",
      "\tat org.apache.spark.streaming.api.python.TransformFunction.apply(PythonDStream.scala:78)\n",
      "\tat org.apache.spark.streaming.api.python.PythonDStream$.$anonfun$callForeachRDD$1(PythonDStream.scala:179)\n",
      "\tat org.apache.spark.streaming.api.python.PythonDStream$.$anonfun$callForeachRDD$1$adapted(PythonDStream.scala:179)\n",
      "\tat org.apache.spark.streaming.dstream.ForEachDStream.$anonfun$generateJob$2(ForEachDStream.scala:51)\n",
      "\tat scala.runtime.java8.JFunction0$mcV$sp.apply(JFunction0$mcV$sp.java:23)\n",
      "\tat org.apache.spark.streaming.dstream.DStream.createRDDWithLocalProperties(DStream.scala:417)\n",
      "\tat org.apache.spark.streaming.dstream.ForEachDStream.$anonfun$generateJob$1(ForEachDStream.scala:51)\n",
      "\tat scala.runtime.java8.JFunction0$mcV$sp.apply(JFunction0$mcV$sp.java:23)\n",
      "\tat scala.util.Try$.apply(Try.scala:213)\n",
      "\tat org.apache.spark.streaming.scheduler.Job.run(Job.scala:39)\n",
      "\tat org.apache.spark.streaming.scheduler.JobScheduler$JobHandler.$anonfun$run$1(JobScheduler.scala:256)\n",
      "\tat scala.runtime.java8.JFunction0$mcV$sp.apply(JFunction0$mcV$sp.java:23)\n",
      "\tat scala.util.DynamicVariable.withValue(DynamicVariable.scala:62)\n",
      "\tat org.apache.spark.streaming.scheduler.JobScheduler$JobHandler.run(JobScheduler.scala:256)\n",
      "\tat java.base/java.util.concurrent.ThreadPoolExecutor.runWorker(ThreadPoolExecutor.java:1128)\n",
      "\tat java.base/java.util.concurrent.ThreadPoolExecutor$Worker.run(ThreadPoolExecutor.java:628)\n",
      "\tat java.base/java.lang.Thread.run(Thread.java:829)\n",
      "\n",
      "\n",
      "\tat org.apache.spark.streaming.api.python.TransformFunction.callPythonTransformFunction(PythonDStream.scala:95)\n",
      "\tat org.apache.spark.streaming.api.python.TransformFunction.apply(PythonDStream.scala:78)\n",
      "\tat org.apache.spark.streaming.api.python.PythonDStream$.$anonfun$callForeachRDD$1(PythonDStream.scala:179)\n",
      "\tat org.apache.spark.streaming.api.python.PythonDStream$.$anonfun$callForeachRDD$1$adapted(PythonDStream.scala:179)\n",
      "\tat org.apache.spark.streaming.dstream.ForEachDStream.$anonfun$generateJob$2(ForEachDStream.scala:51)\n",
      "\tat scala.runtime.java8.JFunction0$mcV$sp.apply(JFunction0$mcV$sp.java:23)\n",
      "\tat org.apache.spark.streaming.dstream.DStream.createRDDWithLocalProperties(DStream.scala:417)\n",
      "\tat org.apache.spark.streaming.dstream.ForEachDStream.$anonfun$generateJob$1(ForEachDStream.scala:51)\n",
      "\tat scala.runtime.java8.JFunction0$mcV$sp.apply(JFunction0$mcV$sp.java:23)\n",
      "\tat scala.util.Try$.apply(Try.scala:213)\n",
      "\tat org.apache.spark.streaming.scheduler.Job.run(Job.scala:39)\n",
      "\tat org.apache.spark.streaming.scheduler.JobScheduler$JobHandler.$anonfun$run$1(JobScheduler.scala:256)\n",
      "\tat scala.runtime.java8.JFunction0$mcV$sp.apply(JFunction0$mcV$sp.java:23)\n",
      "\tat scala.util.DynamicVariable.withValue(DynamicVariable.scala:62)\n",
      "\tat org.apache.spark.streaming.scheduler.JobScheduler$JobHandler.run(JobScheduler.scala:256)\n",
      "\tat java.base/java.util.concurrent.ThreadPoolExecutor.runWorker(ThreadPoolExecutor.java:1128)\n",
      "\tat java.base/java.util.concurrent.ThreadPoolExecutor$Worker.run(ThreadPoolExecutor.java:628)\n",
      "\tat java.base/java.lang.Thread.run(Thread.java:829)\n",
      "Exception in thread Thread-8:\n",
      "Traceback (most recent call last):\n",
      "  File \"/Users/hydraze/anaconda3/envs/aa24/lib/python3.12/threading.py\", line 1073, in _bootstrap_inner\n",
      "    self.run()\n",
      "  File \"/var/folders/4h/j84nnmnn0nj01mk0ndxyk7n40000gn/T/ipykernel_54495/4143214296.py\", line 24, in run\n",
      "  File \"/Users/hydraze/Downloads/spark/spark-3.5.1-bin-hadoop3/python/pyspark/streaming/context.py\", line 239, in awaitTermination\n",
      "    self._jssc.awaitTermination()\n",
      "  File \"/Users/hydraze/Downloads/spark/spark-3.5.1-bin-hadoop3/python/lib/py4j-0.10.9.7-src.zip/py4j/java_gateway.py\", line 1322, in __call__\n",
      "  File \"/Users/hydraze/Downloads/spark/spark-3.5.1-bin-hadoop3/python/pyspark/errors/exceptions/captured.py\", line 179, in deco\n",
      "    return f(*a, **kw)\n",
      "           ^^^^^^^^^^^\n",
      "  File \"/Users/hydraze/Downloads/spark/spark-3.5.1-bin-hadoop3/python/lib/py4j-0.10.9.7-src.zip/py4j/protocol.py\", line 326, in get_return_value\n",
      "py4j.protocol.Py4JJavaError: An error occurred while calling o161.awaitTermination.\n",
      ": org.apache.spark.SparkException: An exception was raised by Python:\n",
      "Traceback (most recent call last):\n",
      "  File \"/Users/hydraze/Downloads/spark/spark-3.5.1-bin-hadoop3/python/pyspark/streaming/util.py\", line 71, in call\n",
      "    r = self.func(t, *rdds)\n",
      "        ^^^^^^^^^^^^^^^^^^^\n",
      "  File \"/var/folders/4h/j84nnmnn0nj01mk0ndxyk7n40000gn/T/ipykernel_54495/2763029940.py\", line 3, in process\n",
      "    if rdd.isEmpty():\n",
      "       ^^^^^^^^^^^^^\n",
      "  File \"/Users/hydraze/Downloads/spark/spark-3.5.1-bin-hadoop3/python/pyspark/rdd.py\", line 2920, in isEmpty\n",
      "    return self.getNumPartitions() == 0 or len(self.take(1)) == 0\n",
      "                                               ^^^^^^^^^^^^\n",
      "  File \"/Users/hydraze/Downloads/spark/spark-3.5.1-bin-hadoop3/python/pyspark/rdd.py\", line 2855, in take\n",
      "    res = self.context.runJob(self, takeUpToNumLeft, p)\n",
      "          ^^^^^^^^^^^^^^^^^^^^^^^^^^^^^^^^^^^^^^^^^^^^^\n",
      "  File \"/Users/hydraze/Downloads/spark/spark-3.5.1-bin-hadoop3/python/pyspark/context.py\", line 2510, in runJob\n",
      "    sock_info = self._jvm.PythonRDD.runJob(self._jsc.sc(), mappedRDD._jrdd, partitions)\n",
      "                ^^^^^^^^^^^^^^^^^^^^^^^^^^^^^^^^^^^^^^^^^^^^^^^^^^^^^^^^^^^^^^^^^^^^^^^\n",
      "  File \"/Users/hydraze/Downloads/spark/spark-3.5.1-bin-hadoop3/python/lib/py4j-0.10.9.7-src.zip/py4j/java_gateway.py\", line 1322, in __call__\n",
      "    return_value = get_return_value(\n",
      "                   ^^^^^^^^^^^^^^^^^\n",
      "  File \"/Users/hydraze/Downloads/spark/spark-3.5.1-bin-hadoop3/python/pyspark/errors/exceptions/captured.py\", line 179, in deco\n",
      "    return f(*a, **kw)\n",
      "           ^^^^^^^^^^^\n",
      "  File \"/Users/hydraze/Downloads/spark/spark-3.5.1-bin-hadoop3/python/lib/py4j-0.10.9.7-src.zip/py4j/protocol.py\", line 326, in get_return_value\n",
      "    raise Py4JJavaError(\n",
      "py4j.protocol.Py4JJavaError: An error occurred while calling z:org.apache.spark.api.python.PythonRDD.runJob.\n",
      ": org.apache.spark.SparkException: Job 242 cancelled as part of cancellation of all jobs\n",
      "\tat org.apache.spark.scheduler.DAGScheduler.failJobAndIndependentStages(DAGScheduler.scala:2856)\n",
      "\tat org.apache.spark.scheduler.DAGScheduler.handleJobCancellation(DAGScheduler.scala:2731)\n",
      "\tat org.apache.spark.scheduler.DAGScheduler.$anonfun$doCancelAllJobs$2(DAGScheduler.scala:1114)\n",
      "\tat scala.runtime.java8.JFunction1$mcVI$sp.apply(JFunction1$mcVI$sp.java:23)\n",
      "\tat scala.collection.mutable.HashSet.foreach(HashSet.scala:79)\n",
      "\tat org.apache.spark.scheduler.DAGScheduler.doCancelAllJobs(DAGScheduler.scala:1113)\n",
      "\tat org.apache.spark.scheduler.DAGSchedulerEventProcessLoop.doOnReceive(DAGScheduler.scala:3022)\n",
      "\tat org.apache.spark.scheduler.DAGSchedulerEventProcessLoop.onReceive(DAGScheduler.scala:2994)\n",
      "\tat org.apache.spark.scheduler.DAGSchedulerEventProcessLoop.onReceive(DAGScheduler.scala:2983)\n",
      "\tat org.apache.spark.util.EventLoop$$anon$1.run(EventLoop.scala:49)\n",
      "\tat org.apache.spark.scheduler.DAGScheduler.runJob(DAGScheduler.scala:989)\n",
      "\tat org.apache.spark.SparkContext.runJob(SparkContext.scala:2398)\n",
      "\tat org.apache.spark.SparkContext.runJob(SparkContext.scala:2419)\n",
      "\tat org.apache.spark.SparkContext.runJob(SparkContext.scala:2438)\n",
      "\tat org.apache.spark.api.python.PythonRDD$.runJob(PythonRDD.scala:181)\n",
      "\tat org.apache.spark.api.python.PythonRDD.runJob(PythonRDD.scala)\n",
      "\tat jdk.internal.reflect.GeneratedMethodAccessor127.invoke(Unknown Source)\n",
      "\tat java.base/jdk.internal.reflect.DelegatingMethodAccessorImpl.invoke(DelegatingMethodAccessorImpl.java:43)\n",
      "\tat java.base/java.lang.reflect.Method.invoke(Method.java:566)\n",
      "\tat py4j.reflection.MethodInvoker.invoke(MethodInvoker.java:244)\n",
      "\tat py4j.reflection.ReflectionEngine.invoke(ReflectionEngine.java:374)\n",
      "\tat py4j.Gateway.invoke(Gateway.java:282)\n",
      "\tat py4j.commands.AbstractCommand.invokeMethod(AbstractCommand.java:132)\n",
      "\tat py4j.commands.CallCommand.execute(CallCommand.java:79)\n",
      "\tat py4j.ClientServerConnection.sendCommand(ClientServerConnection.java:244)\n",
      "\tat py4j.CallbackClient.sendCommand(CallbackClient.java:384)\n",
      "\tat py4j.CallbackClient.sendCommand(CallbackClient.java:356)\n",
      "\tat py4j.reflection.PythonProxyHandler.invoke(PythonProxyHandler.java:106)\n",
      "\tat com.sun.proxy.$Proxy36.call(Unknown Source)\n",
      "\tat org.apache.spark.streaming.api.python.TransformFunction.callPythonTransformFunction(PythonDStream.scala:92)\n",
      "\tat org.apache.spark.streaming.api.python.TransformFunction.apply(PythonDStream.scala:78)\n",
      "\tat org.apache.spark.streaming.api.python.PythonDStream$.$anonfun$callForeachRDD$1(PythonDStream.scala:179)\n",
      "\tat org.apache.spark.streaming.api.python.PythonDStream$.$anonfun$callForeachRDD$1$adapted(PythonDStream.scala:179)\n",
      "\tat org.apache.spark.streaming.dstream.ForEachDStream.$anonfun$generateJob$2(ForEachDStream.scala:51)\n",
      "\tat scala.runtime.java8.JFunction0$mcV$sp.apply(JFunction0$mcV$sp.java:23)\n",
      "\tat org.apache.spark.streaming.dstream.DStream.createRDDWithLocalProperties(DStream.scala:417)\n",
      "\tat org.apache.spark.streaming.dstream.ForEachDStream.$anonfun$generateJob$1(ForEachDStream.scala:51)\n",
      "\tat scala.runtime.java8.JFunction0$mcV$sp.apply(JFunction0$mcV$sp.java:23)\n",
      "\tat scala.util.Try$.apply(Try.scala:213)\n",
      "\tat org.apache.spark.streaming.scheduler.Job.run(Job.scala:39)\n",
      "\tat org.apache.spark.streaming.scheduler.JobScheduler$JobHandler.$anonfun$run$1(JobScheduler.scala:256)\n",
      "\tat scala.runtime.java8.JFunction0$mcV$sp.apply(JFunction0$mcV$sp.java:23)\n",
      "\tat scala.util.DynamicVariable.withValue(DynamicVariable.scala:62)\n",
      "\tat org.apache.spark.streaming.scheduler.JobScheduler$JobHandler.run(JobScheduler.scala:256)\n",
      "\tat java.base/java.util.concurrent.ThreadPoolExecutor.runWorker(ThreadPoolExecutor.java:1128)\n",
      "\tat java.base/java.util.concurrent.ThreadPoolExecutor$Worker.run(ThreadPoolExecutor.java:628)\n",
      "\tat java.base/java.lang.Thread.run(Thread.java:829)\n",
      "\n",
      "\n",
      "\tat org.apache.spark.streaming.api.python.TransformFunction.callPythonTransformFunction(PythonDStream.scala:95)\n",
      "\tat org.apache.spark.streaming.api.python.TransformFunction.apply(PythonDStream.scala:78)\n",
      "\tat org.apache.spark.streaming.api.python.PythonDStream$.$anonfun$callForeachRDD$1(PythonDStream.scala:179)\n",
      "\tat org.apache.spark.streaming.api.python.PythonDStream$.$anonfun$callForeachRDD$1$adapted(PythonDStream.scala:179)\n",
      "\tat org.apache.spark.streaming.dstream.ForEachDStream.$anonfun$generateJob$2(ForEachDStream.scala:51)\n",
      "\tat scala.runtime.java8.JFunction0$mcV$sp.apply(JFunction0$mcV$sp.java:23)\n",
      "\tat org.apache.spark.streaming.dstream.DStream.createRDDWithLocalProperties(DStream.scala:417)\n",
      "\tat org.apache.spark.streaming.dstream.ForEachDStream.$anonfun$generateJob$1(ForEachDStream.scala:51)\n",
      "\tat scala.runtime.java8.JFunction0$mcV$sp.apply(JFunction0$mcV$sp.java:23)\n",
      "\tat scala.util.Try$.apply(Try.scala:213)\n",
      "\tat org.apache.spark.streaming.scheduler.Job.run(Job.scala:39)\n",
      "\tat org.apache.spark.streaming.scheduler.JobScheduler$JobHandler.$anonfun$run$1(JobScheduler.scala:256)\n",
      "\tat scala.runtime.java8.JFunction0$mcV$sp.apply(JFunction0$mcV$sp.java:23)\n",
      "\tat scala.util.DynamicVariable.withValue(DynamicVariable.scala:62)\n",
      "\tat org.apache.spark.streaming.scheduler.JobScheduler$JobHandler.run(JobScheduler.scala:256)\n",
      "\tat java.base/java.util.concurrent.ThreadPoolExecutor.runWorker(ThreadPoolExecutor.java:1128)\n",
      "\tat java.base/java.util.concurrent.ThreadPoolExecutor$Worker.run(ThreadPoolExecutor.java:628)\n",
      "\tat java.base/java.lang.Thread.run(Thread.java:829)\n",
      "\n"
     ]
    }
   ],
   "source": [
    "import os\n",
    "import threading\n",
    "from pyspark.ml.classification import LogisticRegression, LogisticRegressionModel, RandomForestClassifier\n",
    "from pyspark.ml.pipeline import PipelineModel\n",
    "\n",
    "from pyspark.streaming import StreamingContext\n",
    "from pyspark.sql import Row\n",
    "from pyspark.sql.functions import udf, struct, array, col, lit, sum, when\n",
    "from pyspark.sql.types import StringType\n",
    "\n",
    "from datetime import datetime\n",
    "\n",
    "import warnings\n",
    "warnings.filterwarnings('ignore')\n",
    "\n",
    "# Helper thread to avoid the Spark StreamingContext from blocking Jupyter\n",
    "        \n",
    "class StreamingThread(threading.Thread):\n",
    "    def __init__(self, ssc):\n",
    "        super().__init__()\n",
    "        self.ssc = ssc\n",
    "    def run(self):\n",
    "        self.ssc.start()\n",
    "        self.ssc.awaitTermination()\n",
    "    def stop(self):\n",
    "        print('----- Stopping... this may take a few seconds -----')\n",
    "        self.ssc.stop(stopSparkContext=False, stopGraceFully=True)"
   ]
  },
  {
   "cell_type": "code",
   "execution_count": 2,
   "id": "ca444d20-156a-4644-a14d-407ca1c5ec6f",
   "metadata": {},
   "outputs": [],
   "source": [
    "# Change file path\n",
    "file_path = \"/Users/hydraze/Library/CloudStorage/GoogleDrive-tohziyu2@gmail.com/My Drive/Studies/KU Leuven/Courses/Classes/Y1S2/Advanced Analytics in Business/Project/3/AdvancedAnalytics_Streaming-Text-Analytics/\"\n",
    "os.chdir(file_path)\n"
   ]
  },
  {
   "cell_type": "code",
   "execution_count": 3,
   "id": "2beb48c6-4b18-41b1-b764-ca31cfec88ce",
   "metadata": {},
   "outputs": [],
   "source": [
    "# read pickled model via pipeline api\n",
    "mPath =  file_path+\"models/best_model\"\n",
    "best_model = PipelineModel.load(mPath)"
   ]
  },
  {
   "cell_type": "code",
   "execution_count": 4,
   "id": "febe474c-5e7c-4aae-9d5e-391a2f441e6d",
   "metadata": {},
   "outputs": [],
   "source": [
    "# Toy predict function that returns a random probability. Normally you'd use your loaded globals()['my_model'] here\n",
    "def process(time, rdd):\n",
    "    if rdd.isEmpty():\n",
    "        return\n",
    "    \n",
    "    print(\"========= %s =========\" % str(time))\n",
    "\n",
    "    # Convert to data frame\n",
    "    df = spark.read.json(rdd)\n",
    "\n",
    "    # Data cleaning (to update concurrently with the other jupyter notebook)\n",
    "    \n",
    "    # Extracting type of post: Show HN\n",
    "    df = df.withColumn('isShowHN', when(df.title.contains(\"Show HN\"), 1).otherwise(0))\n",
    "    \n",
    "    # Extracting time of day\n",
    "    extract_time_of_day_udf = udf(lambda x: datetime.strptime(x, '%Y-%m-%d %H:%M:%S').strftime('%H'))\n",
    "    \n",
    "    df = df.withColumn('time_of_day', extract_time_of_day_udf(df.posted_at))\n",
    "    \n",
    "    # Extracting day of week\n",
    "    weekDay =  udf(lambda x: datetime.strptime(x, '%Y-%m-%d %H:%M:%S').strftime('%w'))\n",
    "    \n",
    "    df = df.withColumn('day_of_week', weekDay(df.posted_at))\n",
    "    \n",
    "    # And then predict using the loaded model (uncomment below):\n",
    "    df_result = best_model.transform(df)\n",
    "    df_result.show()"
   ]
  },
  {
   "cell_type": "code",
   "execution_count": 5,
   "id": "dd1dec46-1893-4cc8-bdc5-3f3c4ea36b93",
   "metadata": {},
   "outputs": [
    {
     "name": "stderr",
     "output_type": "stream",
     "text": [
      "24/05/09 18:20:52 WARN RandomBlockReplicationPolicy: Expecting 1 replicas with only 0 peer/s.\n",
      "24/05/09 18:20:52 WARN BlockManager: Block input-0-1715271652000 replicated to only 0 peer(s) instead of 1 peers\n",
      "24/05/09 18:20:55 WARN RandomBlockReplicationPolicy: Expecting 1 replicas with only 0 peer/s.\n",
      "24/05/09 18:20:55 WARN BlockManager: Block input-0-1715271655000 replicated to only 0 peer(s) instead of 1 peers\n",
      "24/05/09 18:20:58 WARN RandomBlockReplicationPolicy: Expecting 1 replicas with only 0 peer/s.\n",
      "24/05/09 18:20:58 WARN BlockManager: Block input-0-1715271658000 replicated to only 0 peer(s) instead of 1 peers\n",
      "                                                                                \r"
     ]
    },
    {
     "name": "stdout",
     "output_type": "stream",
     "text": [
      "========= 2024-05-09 18:21:00 =========\n"
     ]
    },
    {
     "name": "stderr",
     "output_type": "stream",
     "text": [
      "24/05/09 18:21:01 WARN InstanceBuilder: Failed to load implementation from:dev.ludovic.netlib.blas.JNIBLAS\n",
      "                                                                                \r"
     ]
    },
    {
     "name": "stdout",
     "output_type": "stream",
     "text": [
      "+--------+--------+--------------------+---------+-------------------+--------------------+--------------------+--------------------+--------------------+-------+-----+--------+-----------+-----------+--------------+---------------------+--------------+-------------+--------------------+--------------------+--------------------+----------+\n",
      "|     aid|comments|              domain|frontpage|          posted_at|         source_text|        source_title|               title|                 url|   user|votes|isShowHN|time_of_day|day_of_week|num_col_vector|scaled_num_col_vector|isShowHN_index| isShowHN_OHE|final_feature_vector|       rawPrediction|         probability|prediction|\n",
      "+--------+--------+--------------------+---------+-------------------+--------------------+--------------------+--------------------+--------------------+-------+-----+--------+-----------+-----------+--------------+---------------------+--------------+-------------+--------------------+--------------------+--------------------+----------+\n",
      "|40305279|       0|         9to5mac.com|    false|2024-05-09 04:22:12|Bloomberg: John T...|Bloomberg: John T...|John Ternus emerg...|https://9to5mac.c...|   mgh2|    4|       0|         04|          4|     [4.0,0.0]| [0.07803940671570...|           0.0|(1,[0],[1.0])|[0.07803940671570...|[1.76314173533917...|[0.85360270387601...|       0.0|\n",
      "|40305290|       0|     docs.google.com|    false|2024-05-09 04:24:57|Value Neutral Mon...|Value Neutral Mon...|Do VCs add value?...|https://docs.goog...| map_vc|    1|       0|         04|          4|     [1.0,0.0]| [-0.2873043126221...|           0.0|(1,[0],[1.0])|[-0.2873043126221...|[2.01663038086725...|[0.88253213354267...|       0.0|\n",
      "|40305310|       0|edforson.substack...|    false|2024-05-09 04:28:32|Paper review - Ge...|Paper review - Ge...|AI Agent paper re...|https://edforson....|edshiro|    1|       0|         04|          4|     [1.0,0.0]| [-0.2873043126221...|           0.0|(1,[0],[1.0])|[-0.2873043126221...|[2.01663038086725...|[0.88253213354267...|       0.0|\n",
      "+--------+--------+--------------------+---------+-------------------+--------------------+--------------------+--------------------+--------------------+-------+-----+--------+-----------+-----------+--------------+---------------------+--------------+-------------+--------------------+--------------------+--------------------+----------+\n",
      "\n"
     ]
    },
    {
     "name": "stderr",
     "output_type": "stream",
     "text": [
      "24/05/09 18:21:02 WARN RandomBlockReplicationPolicy: Expecting 1 replicas with only 0 peer/s.\n",
      "24/05/09 18:21:02 WARN BlockManager: Block input-0-1715271662000 replicated to only 0 peer(s) instead of 1 peers\n",
      "24/05/09 18:21:04 WARN RandomBlockReplicationPolicy: Expecting 1 replicas with only 0 peer/s.\n",
      "24/05/09 18:21:04 WARN BlockManager: Block input-0-1715271664000 replicated to only 0 peer(s) instead of 1 peers\n",
      "24/05/09 18:21:06 WARN RandomBlockReplicationPolicy: Expecting 1 replicas with only 0 peer/s.\n",
      "24/05/09 18:21:06 WARN BlockManager: Block input-0-1715271666200 replicated to only 0 peer(s) instead of 1 peers\n",
      "                                                                                \r"
     ]
    },
    {
     "name": "stdout",
     "output_type": "stream",
     "text": [
      "========= 2024-05-09 18:21:10 =========\n"
     ]
    },
    {
     "name": "stderr",
     "output_type": "stream",
     "text": [
      "24/05/09 18:21:10 WARN RandomBlockReplicationPolicy: Expecting 1 replicas with only 0 peer/s.\n",
      "24/05/09 18:21:10 WARN BlockManager: Block input-0-1715271670400 replicated to only 0 peer(s) instead of 1 peers\n"
     ]
    },
    {
     "name": "stdout",
     "output_type": "stream",
     "text": [
      "+--------+--------+------------------+---------+-------------------+--------------------+--------------------+--------------------+--------------------+---------------+-----+--------+-----------+-----------+--------------+---------------------+--------------+-------------+--------------------+--------------------+--------------------+----------+\n",
      "|     aid|comments|            domain|frontpage|          posted_at|         source_text|        source_title|               title|                 url|           user|votes|isShowHN|time_of_day|day_of_week|num_col_vector|scaled_num_col_vector|isShowHN_index| isShowHN_OHE|final_feature_vector|       rawPrediction|         probability|prediction|\n",
      "+--------+--------+------------------+---------+-------------------+--------------------+--------------------+--------------------+--------------------+---------------+-----+--------+-----------+-----------+--------------+---------------------+--------------+-------------+--------------------+--------------------+--------------------+----------+\n",
      "|40305395|       0|          ieee.org|    false|2024-05-09 04:50:14|Brain-Inspired Co...|Brain-Inspired Co...|Brain-Inspired Co...|https://spectrum....|vissidarte_choi|    1|       0|         04|          4|     [1.0,0.0]| [-0.2873043126221...|           0.0|(1,[0],[1.0])|[-0.2873043126221...|[2.01663038086725...|[0.88253213354267...|       0.0|\n",
      "|40305404|       0|  steveklabnik.com|    false|2024-05-09 04:51:40|Borrow checking, ...|Borrow checking, ...|Borrow checking, ...|https://steveklab...|          nequo|    1|       0|         04|          4|     [1.0,0.0]| [-0.2873043126221...|           0.0|(1,[0],[1.0])|[-0.2873043126221...|[2.01663038086725...|[0.88253213354267...|       0.0|\n",
      "|40305406|       0|daringfireball.net|    false|2024-05-09 04:51:58|Daring Fireball: ...|Brief Thoughts an...|Brief Thoughts an...|https://daringfir...|      chmaynard|    1|       0|         04|          4|     [1.0,0.0]| [-0.2873043126221...|           0.0|(1,[0],[1.0])|[-0.2873043126221...|[2.01663038086725...|[0.88253213354267...|       0.0|\n",
      "+--------+--------+------------------+---------+-------------------+--------------------+--------------------+--------------------+--------------------+---------------+-----+--------+-----------+-----------+--------------+---------------------+--------------+-------------+--------------------+--------------------+--------------------+----------+\n",
      "\n"
     ]
    },
    {
     "name": "stderr",
     "output_type": "stream",
     "text": [
      "24/05/09 18:21:14 WARN RandomBlockReplicationPolicy: Expecting 1 replicas with only 0 peer/s.\n",
      "24/05/09 18:21:14 WARN BlockManager: Block input-0-1715271674400 replicated to only 0 peer(s) instead of 1 peers\n",
      "24/05/09 18:21:17 WARN RandomBlockReplicationPolicy: Expecting 1 replicas with only 0 peer/s.\n",
      "24/05/09 18:21:17 WARN BlockManager: Block input-0-1715271677400 replicated to only 0 peer(s) instead of 1 peers\n",
      "                                                                                \r"
     ]
    },
    {
     "name": "stdout",
     "output_type": "stream",
     "text": [
      "========= 2024-05-09 18:21:20 =========\n",
      "+--------+--------+------------------+---------+-------------------+--------------------+--------------------+--------------------+--------------------+-----------+-----+--------+-----------+-----------+--------------+---------------------+--------------+-------------+--------------------+--------------------+--------------------+----------+\n",
      "|     aid|comments|            domain|frontpage|          posted_at|         source_text|        source_title|               title|                 url|       user|votes|isShowHN|time_of_day|day_of_week|num_col_vector|scaled_num_col_vector|isShowHN_index| isShowHN_OHE|final_feature_vector|       rawPrediction|         probability|prediction|\n",
      "+--------+--------+------------------+---------+-------------------+--------------------+--------------------+--------------------+--------------------+-----------+-----+--------+-----------+-----------+--------------+---------------------+--------------+-------------+--------------------+--------------------+--------------------+----------+\n",
      "|40305436|       0|astralcodexten.com|    false|2024-05-09 04:58:41|Asterisk/Zvi on C...|Asterisk/Zvi on C...|Astral Codex Ten:...|https://www.astra...|toomuchtodo|    1|       0|         04|          4|     [1.0,0.0]| [-0.2873043126221...|           0.0|(1,[0],[1.0])|[-0.2873043126221...|[2.01663038086725...|[0.88253213354267...|       0.0|\n",
      "|40305446|       0|        elpais.com|     true|2024-05-09 05:03:04|The fusion of two...|The fusion of two...|The fusion of two...|https://english.e...|       geox|    7|       0|         05|          4|     [7.0,0.0]| [0.44338312605353...|           0.0|(1,[0],[1.0])|[0.44338312605353...|[1.50965308981108...|[0.81900978908580...|       0.0|\n",
      "|40305450|       2|  seroundtable.com|    false|2024-05-09 05:03:54|Google SGE Recomm...|Google SGE Recomm...|Google SGE Says D...|https://www.serou...|   robblack|    3|       0|         05|          4|     [3.0,2.0]| [-0.0437418330635...|           0.0|(1,[0],[1.0])|[-0.0437418330635...|[1.84763795051520...|[0.86384953272383...|       0.0|\n",
      "+--------+--------+------------------+---------+-------------------+--------------------+--------------------+--------------------+--------------------+-----------+-----+--------+-----------+-----------+--------------+---------------------+--------------+-------------+--------------------+--------------------+--------------------+----------+\n",
      "\n"
     ]
    },
    {
     "name": "stderr",
     "output_type": "stream",
     "text": [
      "24/05/09 18:21:21 WARN RandomBlockReplicationPolicy: Expecting 1 replicas with only 0 peer/s.\n",
      "24/05/09 18:21:21 WARN BlockManager: Block input-0-1715271681400 replicated to only 0 peer(s) instead of 1 peers\n",
      "24/05/09 18:21:26 WARN RandomBlockReplicationPolicy: Expecting 1 replicas with only 0 peer/s.\n",
      "24/05/09 18:21:26 WARN BlockManager: Block input-0-1715271686400 replicated to only 0 peer(s) instead of 1 peers\n",
      "24/05/09 18:21:27 WARN RandomBlockReplicationPolicy: Expecting 1 replicas with only 0 peer/s.\n",
      "24/05/09 18:21:27 WARN BlockManager: Block input-0-1715271687600 replicated to only 0 peer(s) instead of 1 peers\n",
      "24/05/09 18:21:28 WARN RandomBlockReplicationPolicy: Expecting 1 replicas with only 0 peer/s.\n",
      "24/05/09 18:21:28 WARN BlockManager: Block input-0-1715271688400 replicated to only 0 peer(s) instead of 1 peers\n",
      "                                                                                \r"
     ]
    },
    {
     "name": "stdout",
     "output_type": "stream",
     "text": [
      "========= 2024-05-09 18:21:30 =========\n",
      "+--------+--------+---------------+---------+-------------------+--------------------+---------------+--------------------+--------------------+------------+-----+--------+-----------+-----------+--------------+---------------------+--------------+-------------+--------------------+--------------------+--------------------+----------+\n",
      "|     aid|comments|         domain|frontpage|          posted_at|         source_text|   source_title|               title|                 url|        user|votes|isShowHN|time_of_day|day_of_week|num_col_vector|scaled_num_col_vector|isShowHN_index| isShowHN_OHE|final_feature_vector|       rawPrediction|         probability|prediction|\n",
      "+--------+--------+---------------+---------+-------------------+--------------------+---------------+--------------------+--------------------+------------+-----+--------+-----------+-----------+--------------+---------------------+--------------+-------------+--------------------+--------------------+--------------------+----------+\n",
      "|40305453|       0|  automerge.org|     true|2024-05-09 05:04:31|Automerge 2.2: Ri...|      Automerge|Automerge 2.2: Ri...|https://automerge...|todsacerdoti|    3|       0|         05|          4|     [3.0,0.0]| [-0.0437418330635...|           0.0|(1,[0],[1.0])|[-0.0437418330635...|[1.84763795051520...|[0.86384953272383...|       0.0|\n",
      "|40305466|       0|arstechnica.com|    false|2024-05-09 05:07:18|40 years later, K...|40 years later,|40 years later, K...|https://arstechni...|      stiray|    1|       0|         05|          4|     [1.0,0.0]| [-0.2873043126221...|           0.0|(1,[0],[1.0])|[-0.2873043126221...|[2.01663038086725...|[0.88253213354267...|       0.0|\n",
      "|40305468|       0|     bford.info|    false|2024-05-09 05:07:32|                \\n\\n|           NULL|Microkernels Meet...|https://bford.inf...|todsacerdoti|    1|       0|         05|          4|     [1.0,0.0]| [-0.2873043126221...|           0.0|(1,[0],[1.0])|[-0.2873043126221...|[2.01663038086725...|[0.88253213354267...|       0.0|\n",
      "|40305537|       0|    osvauld.com|    false|2024-05-09 05:28:46|Want help setting...|        osvauld|    Show HN: Osvauld| https://osvauld.com| SandraBucky|    1|       1|         05|          4|     [1.0,0.0]| [-0.2873043126221...|           1.0|    (1,[],[])|[-0.2873043126221...|[2.01663038086725...|[0.88253213354267...|       0.0|\n",
      "+--------+--------+---------------+---------+-------------------+--------------------+---------------+--------------------+--------------------+------------+-----+--------+-----------+-----------+--------------+---------------------+--------------+-------------+--------------------+--------------------+--------------------+----------+\n",
      "\n"
     ]
    },
    {
     "name": "stderr",
     "output_type": "stream",
     "text": [
      "24/05/09 18:21:30 WARN RandomBlockReplicationPolicy: Expecting 1 replicas with only 0 peer/s.\n",
      "24/05/09 18:21:30 WARN BlockManager: Block input-0-1715271690600 replicated to only 0 peer(s) instead of 1 peers\n",
      "24/05/09 18:21:35 WARN RandomBlockReplicationPolicy: Expecting 1 replicas with only 0 peer/s.\n",
      "24/05/09 18:21:35 WARN BlockManager: Block input-0-1715271695400 replicated to only 0 peer(s) instead of 1 peers\n",
      "24/05/09 18:21:39 WARN RandomBlockReplicationPolicy: Expecting 1 replicas with only 0 peer/s.\n",
      "24/05/09 18:21:39 WARN BlockManager: Block input-0-1715271699600 replicated to only 0 peer(s) instead of 1 peers\n",
      "                                                                                \r"
     ]
    },
    {
     "name": "stdout",
     "output_type": "stream",
     "text": [
      "========= 2024-05-09 18:21:40 =========\n",
      "+--------+--------+--------------+---------+-------------------+--------------------+--------------------+--------------------+--------------------+-----------+-----+--------+-----------+-----------+--------------+---------------------+--------------+-------------+--------------------+--------------------+--------------------+----------+\n",
      "|     aid|comments|        domain|frontpage|          posted_at|         source_text|        source_title|               title|                 url|       user|votes|isShowHN|time_of_day|day_of_week|num_col_vector|scaled_num_col_vector|isShowHN_index| isShowHN_OHE|final_feature_vector|       rawPrediction|         probability|prediction|\n",
      "+--------+--------+--------------+---------+-------------------+--------------------+--------------------+--------------------+--------------------+-----------+-----+--------+-----------+-----------+--------------+---------------------+--------------+-------------+--------------------+--------------------+--------------------+----------+\n",
      "|40305540|       0| pathedits.com|    false|2024-05-09 05:29:26|How to Create a T...|How to Create a T...|How to Create a T...|https://pathedits...|     bedits|    1|       0|         05|          4|     [1.0,0.0]| [-0.2873043126221...|           0.0|(1,[0],[1.0])|[-0.2873043126221...|[2.01663038086725...|[0.88253213354267...|       0.0|\n",
      "|40305542|       2|techtarget.com|    false|2024-05-09 05:29:29|Microsoft, Google...|Microsoft, Google...|Not sure how to f...|https://www.techt...|AlexCornila|    2|       0|         05|          4|     [2.0,2.0]| [-0.1655230728428...|           0.0|(1,[0],[1.0])|[-0.1655230728428...|[1.93213416569122...|[0.87348545162431...|       0.0|\n",
      "|40305550|       0|    python.org|     true|2024-05-09 05:30:59|What’s New In Pyt...|What’s New In Pyt...|Python 3.13 – Wha...|https://docs.pyth...|  skeledrew|    8|       0|         05|          4|     [8.0,0.0]| [0.56516436583281...|           0.0|(1,[0],[1.0])|[0.56516436583281...|[1.42515687463505...|[0.80614557891901...|       0.0|\n",
      "+--------+--------+--------------+---------+-------------------+--------------------+--------------------+--------------------+--------------------+-----------+-----+--------+-----------+-----------+--------------+---------------------+--------------+-------------+--------------------+--------------------+--------------------+----------+\n",
      "\n"
     ]
    },
    {
     "name": "stderr",
     "output_type": "stream",
     "text": [
      "24/05/09 18:21:40 WARN RandomBlockReplicationPolicy: Expecting 1 replicas with only 0 peer/s.\n",
      "24/05/09 18:21:40 WARN BlockManager: Block input-0-1715271700600 replicated to only 0 peer(s) instead of 1 peers\n",
      "24/05/09 18:21:42 WARN RandomBlockReplicationPolicy: Expecting 1 replicas with only 0 peer/s.\n",
      "24/05/09 18:21:42 WARN BlockManager: Block input-0-1715271702600 replicated to only 0 peer(s) instead of 1 peers\n",
      "24/05/09 18:21:44 WARN RandomBlockReplicationPolicy: Expecting 1 replicas with only 0 peer/s.\n",
      "24/05/09 18:21:44 WARN BlockManager: Block input-0-1715271704600 replicated to only 0 peer(s) instead of 1 peers\n",
      "24/05/09 18:21:49 WARN RandomBlockReplicationPolicy: Expecting 1 replicas with only 0 peer/s.\n",
      "24/05/09 18:21:49 WARN BlockManager: Block input-0-1715271708800 replicated to only 0 peer(s) instead of 1 peers\n",
      "24/05/09 18:21:50 WARN RandomBlockReplicationPolicy: Expecting 1 replicas with only 0 peer/s.\n",
      "24/05/09 18:21:50 WARN BlockManager: Block input-0-1715271709800 replicated to only 0 peer(s) instead of 1 peers\n",
      "                                                                                \r"
     ]
    },
    {
     "name": "stdout",
     "output_type": "stream",
     "text": [
      "========= 2024-05-09 18:21:50 =========\n",
      "+--------+--------+----------------+---------+-------------------+--------------------+--------------------+--------------------+--------------------+-------------+-----+--------+-----------+-----------+--------------+---------------------+--------------+-------------+--------------------+--------------------+--------------------+----------+\n",
      "|     aid|comments|          domain|frontpage|          posted_at|         source_text|        source_title|               title|                 url|         user|votes|isShowHN|time_of_day|day_of_week|num_col_vector|scaled_num_col_vector|isShowHN_index| isShowHN_OHE|final_feature_vector|       rawPrediction|         probability|prediction|\n",
      "+--------+--------+----------------+---------+-------------------+--------------------+--------------------+--------------------+--------------------+-------------+-----+--------+-----------+-----------+--------------+---------------------+--------------+-------------+--------------------+--------------------+--------------------+----------+\n",
      "|40305571|       0|     youtube.com|    false|2024-05-09 05:36:19|Here's what to kn...|Here's what to kn...|California city d...|https://www.youtu...|         mgh2|    1|       0|         05|          4|     [1.0,0.0]| [-0.2873043126221...|           0.0|(1,[0],[1.0])|[-0.2873043126221...|[2.01663038086725...|[0.88253213354267...|       0.0|\n",
      "|40305574|       0| clariontech.com|    false|2024-05-09 05:37:15|How to Hire the B...|How to Hire the B...|Let's see how to ...|https://www.clari...|AkankshaWande|    1|       0|         05|          4|     [1.0,0.0]| [-0.2873043126221...|           0.0|(1,[0],[1.0])|[-0.2873043126221...|[2.01663038086725...|[0.88253213354267...|       0.0|\n",
      "|40305578|       0|       wired.com|    false|2024-05-09 05:38:33|What Happens When...|What Happens When...|What Happens When...|https://www.wired...|        prawn|    2|       0|         05|          4|     [2.0,0.0]| [-0.1655230728428...|           0.0|(1,[0],[1.0])|[-0.1655230728428...|[1.93213416569122...|[0.87348545162431...|       0.0|\n",
      "|40305603|       0|tomshardware.com|    false|2024-05-09 05:43:38|Windows 11 24H2 w...|Windows 11 24H2 w...|Windows 11 24H2 w...|https://www.tomsh...|       taubek|    2|       0|         05|          4|     [2.0,0.0]| [-0.1655230728428...|           0.0|(1,[0],[1.0])|[-0.1655230728428...|[1.93213416569122...|[0.87348545162431...|       0.0|\n",
      "+--------+--------+----------------+---------+-------------------+--------------------+--------------------+--------------------+--------------------+-------------+-----+--------+-----------+-----------+--------------+---------------------+--------------+-------------+--------------------+--------------------+--------------------+----------+\n",
      "\n"
     ]
    },
    {
     "name": "stderr",
     "output_type": "stream",
     "text": [
      "24/05/09 18:21:54 WARN RandomBlockReplicationPolicy: Expecting 1 replicas with only 0 peer/s.\n",
      "24/05/09 18:21:54 WARN BlockManager: Block input-0-1715271713800 replicated to only 0 peer(s) instead of 1 peers\n",
      "24/05/09 18:21:56 WARN RandomBlockReplicationPolicy: Expecting 1 replicas with only 0 peer/s.\n",
      "24/05/09 18:21:56 WARN BlockManager: Block input-0-1715271715800 replicated to only 0 peer(s) instead of 1 peers\n",
      "24/05/09 18:21:59 WARN RandomBlockReplicationPolicy: Expecting 1 replicas with only 0 peer/s.\n",
      "24/05/09 18:21:59 WARN BlockManager: Block input-0-1715271718800 replicated to only 0 peer(s) instead of 1 peers\n",
      "                                                                                \r"
     ]
    },
    {
     "name": "stdout",
     "output_type": "stream",
     "text": [
      "========= 2024-05-09 18:22:00 =========\n",
      "+--------+--------+--------------------+---------+-------------------+--------------------+--------------------+--------------------+--------------------+-----------+-----+--------+-----------+-----------+--------------+---------------------+--------------+-------------+--------------------+--------------------+--------------------+----------+\n",
      "|     aid|comments|              domain|frontpage|          posted_at|         source_text|        source_title|               title|                 url|       user|votes|isShowHN|time_of_day|day_of_week|num_col_vector|scaled_num_col_vector|isShowHN_index| isShowHN_OHE|final_feature_vector|       rawPrediction|         probability|prediction|\n",
      "+--------+--------+--------------------+---------+-------------------+--------------------+--------------------+--------------------+--------------------+-----------+-----+--------+-----------+-----------+--------------+---------------------+--------------+-------------+--------------------+--------------------+--------------------+----------+\n",
      "|40305620|       0|github.com/wjbmat...|    false|2024-05-09 05:47:28|GitHub - wjbmatti...|GitHub - wjbmatti...|SpaCyEx: SpaCy Ma...|https://github.co...| wodenokoto|    1|       0|         05|          4|     [1.0,0.0]| [-0.2873043126221...|           0.0|(1,[0],[1.0])|[-0.2873043126221...|[2.01663038086725...|[0.88253213354267...|       0.0|\n",
      "|40305658|       0|      techcrunch.com|     true|2024-05-09 05:55:06|TechCrunch is par...|TechCrunch is par...|Match looks to Hi...|https://techcrunc...| uladzislau|    7|       0|         05|          4|     [7.0,0.0]| [0.44338312605353...|           0.0|(1,[0],[1.0])|[0.44338312605353...|[1.50965308981108...|[0.81900978908580...|       0.0|\n",
      "|40305666|       0|     theguardian.com|    false|2024-05-09 05:56:23|UK toddler has he...|UK toddler has he...|UK toddler has he...|https://www.thegu...|robinwarren|    3|       0|         05|          4|     [3.0,0.0]| [-0.0437418330635...|           0.0|(1,[0],[1.0])|[-0.0437418330635...|[1.84763795051520...|[0.86384953272383...|       0.0|\n",
      "|40305669|       0|           lemire.me|    false|2024-05-09 05:57:00|How fast can cons...|How fast can cons...|How fast can cons...|https://lemire.me...|  leononame|    1|       0|         05|          4|     [1.0,0.0]| [-0.2873043126221...|           0.0|(1,[0],[1.0])|[-0.2873043126221...|[2.01663038086725...|[0.88253213354267...|       0.0|\n",
      "+--------+--------+--------------------+---------+-------------------+--------------------+--------------------+--------------------+--------------------+-----------+-----+--------+-----------+-----------+--------------+---------------------+--------------+-------------+--------------------+--------------------+--------------------+----------+\n",
      "\n"
     ]
    },
    {
     "name": "stderr",
     "output_type": "stream",
     "text": [
      "24/05/09 18:22:02 WARN RandomBlockReplicationPolicy: Expecting 1 replicas with only 0 peer/s.\n",
      "24/05/09 18:22:02 WARN BlockManager: Block input-0-1715271721800 replicated to only 0 peer(s) instead of 1 peers\n",
      "24/05/09 18:22:04 WARN RandomBlockReplicationPolicy: Expecting 1 replicas with only 0 peer/s.\n",
      "24/05/09 18:22:04 WARN BlockManager: Block input-0-1715271723800 replicated to only 0 peer(s) instead of 1 peers\n",
      "24/05/09 18:22:09 WARN RandomBlockReplicationPolicy: Expecting 1 replicas with only 0 peer/s.\n",
      "24/05/09 18:22:09 WARN BlockManager: Block input-0-1715271728800 replicated to only 0 peer(s) instead of 1 peers\n",
      "                                                                                \r"
     ]
    },
    {
     "name": "stdout",
     "output_type": "stream",
     "text": [
      "========= 2024-05-09 18:22:10 =========\n",
      "+--------+--------+--------------+---------+-------------------+--------------------+--------------------+--------------------+--------------------+-----------+-----+--------+-----------+-----------+--------------+---------------------+--------------+-------------+--------------------+--------------------+--------------------+----------+\n",
      "|     aid|comments|        domain|frontpage|          posted_at|         source_text|        source_title|               title|                 url|       user|votes|isShowHN|time_of_day|day_of_week|num_col_vector|scaled_num_col_vector|isShowHN_index| isShowHN_OHE|final_feature_vector|       rawPrediction|         probability|prediction|\n",
      "+--------+--------+--------------+---------+-------------------+--------------------+--------------------+--------------------+--------------------+-----------+-----+--------+-----------+-----------+--------------+---------------------+--------------+-------------+--------------------+--------------------+--------------------+----------+\n",
      "|40305673|       0|       bbc.com|     true|2024-05-09 05:57:47|Disney and Warner...|Disney and Warner...|Disney and Warner...|https://www.bbc.c...|   peutetre|    3|       0|         05|          4|     [3.0,0.0]| [-0.0437418330635...|           0.0|(1,[0],[1.0])|[-0.0437418330635...|[1.84763795051520...|[0.86384953272383...|       0.0|\n",
      "|40305688|       0|   reuters.com|     true|2024-05-09 06:03:41|     reuters.com\\n\\n|         reuters.com|Microsoft to shut...|https://www.reute...|  ceinewydd|    6|       0|         06|          4|     [6.0,0.0]| [0.32160188627425...|           0.0|(1,[0],[1.0])|[0.32160188627425...|[1.59414930498711...|[0.83119908062018...|       0.0|\n",
      "|40305692|       8|chromakode.com|     true|2024-05-09 06:04:49|Disaster recovery...|Disaster recovery...|Disaster Recovery...|https://chromakod...|aargh_aargh|   20|       0|         06|          4|    [20.0,8.0]| [2.02653924318414...|           0.0|(1,[0],[1.0])|[2.02653924318414...|[0.41120229252271...|[0.60137613097313...|       0.0|\n",
      "+--------+--------+--------------+---------+-------------------+--------------------+--------------------+--------------------+--------------------+-----------+-----+--------+-----------+-----------+--------------+---------------------+--------------+-------------+--------------------+--------------------+--------------------+----------+\n",
      "\n"
     ]
    },
    {
     "name": "stderr",
     "output_type": "stream",
     "text": [
      "24/05/09 18:22:11 WARN RandomBlockReplicationPolicy: Expecting 1 replicas with only 0 peer/s.\n",
      "24/05/09 18:22:11 WARN BlockManager: Block input-0-1715271730800 replicated to only 0 peer(s) instead of 1 peers\n",
      "24/05/09 18:22:14 WARN RandomBlockReplicationPolicy: Expecting 1 replicas with only 0 peer/s.\n",
      "24/05/09 18:22:14 WARN BlockManager: Block input-0-1715271733800 replicated to only 0 peer(s) instead of 1 peers\n",
      "24/05/09 18:22:19 WARN RandomBlockReplicationPolicy: Expecting 1 replicas with only 0 peer/s.\n",
      "24/05/09 18:22:19 WARN BlockManager: Block input-0-1715271738800 replicated to only 0 peer(s) instead of 1 peers\n",
      "                                                                                \r"
     ]
    },
    {
     "name": "stdout",
     "output_type": "stream",
     "text": [
      "========= 2024-05-09 18:22:20 =========\n",
      "+--------+--------+--------------------+---------+-------------------+--------------------+--------------------+--------------------+--------------------+------------+-----+--------+-----------+-----------+--------------+---------------------+--------------+-------------+--------------------+--------------------+--------------------+----------+\n",
      "|     aid|comments|              domain|frontpage|          posted_at|         source_text|        source_title|               title|                 url|        user|votes|isShowHN|time_of_day|day_of_week|num_col_vector|scaled_num_col_vector|isShowHN_index| isShowHN_OHE|final_feature_vector|       rawPrediction|         probability|prediction|\n",
      "+--------+--------+--------------------+---------+-------------------+--------------------+--------------------+--------------------+--------------------+------------+-----+--------+-----------+-----------+--------------+---------------------+--------------+-------------+--------------------+--------------------+--------------------+----------+\n",
      "|40305694|       0|      techcrunch.com|    false|2024-05-09 06:05:17|TechCrunch is par...|TechCrunch is par...|Apple, Proton and...|https://techcrunc...|  uladzislau|    3|       0|         06|          4|     [3.0,0.0]| [-0.0437418330635...|           0.0|(1,[0],[1.0])|[-0.0437418330635...|[1.84763795051520...|[0.86384953272383...|       0.0|\n",
      "|40305695|       0|       fosstodon.org|     true|2024-05-09 06:05:34|Gabriele Svelto: ...|Gabriele Svelto (...|Memory Errors in ...|https://fosstodon...|todsacerdoti|    5|       0|         06|          4|     [5.0,0.0]| [0.19982064649497...|           0.0|(1,[0],[1.0])|[0.19982064649497...|[1.67864552016314...|[0.84272509234466...|       0.0|\n",
      "|40305701|       0|anshulsao1.substa...|    false|2024-05-09 06:06:39|To K8s or not to ...|To K8s or not to K8s|To K8s or Not to K8s|https://anshulsao...|    Cowsheek|    4|       0|         06|          4|     [4.0,0.0]| [0.07803940671570...|           0.0|(1,[0],[1.0])|[0.07803940671570...|[1.76314173533917...|[0.85360270387601...|       0.0|\n",
      "+--------+--------+--------------------+---------+-------------------+--------------------+--------------------+--------------------+--------------------+------------+-----+--------+-----------+-----------+--------------+---------------------+--------------+-------------+--------------------+--------------------+--------------------+----------+\n",
      "\n"
     ]
    },
    {
     "name": "stderr",
     "output_type": "stream",
     "text": [
      "24/05/09 18:22:24 WARN RandomBlockReplicationPolicy: Expecting 1 replicas with only 0 peer/s.\n",
      "24/05/09 18:22:24 WARN BlockManager: Block input-0-1715271744000 replicated to only 0 peer(s) instead of 1 peers\n",
      "24/05/09 18:22:28 WARN RandomBlockReplicationPolicy: Expecting 1 replicas with only 0 peer/s.\n",
      "24/05/09 18:22:28 WARN BlockManager: Block input-0-1715271748000 replicated to only 0 peer(s) instead of 1 peers\n",
      "                                                                                \r"
     ]
    },
    {
     "name": "stdout",
     "output_type": "stream",
     "text": [
      "========= 2024-05-09 18:22:30 =========\n",
      "+--------+--------+-------------------+---------+-------------------+--------------------+--------------------+--------------------+--------------------+--------------+-----+--------+-----------+-----------+--------------+---------------------+--------------+-------------+--------------------+--------------------+--------------------+----------+\n",
      "|     aid|comments|             domain|frontpage|          posted_at|         source_text|        source_title|               title|                 url|          user|votes|isShowHN|time_of_day|day_of_week|num_col_vector|scaled_num_col_vector|isShowHN_index| isShowHN_OHE|final_feature_vector|       rawPrediction|         probability|prediction|\n",
      "+--------+--------+-------------------+---------+-------------------+--------------------+--------------------+--------------------+--------------------+--------------+-----+--------+-----------+-----------+--------------+---------------------+--------------+-------------+--------------------+--------------------+--------------------+----------+\n",
      "|40305724|       0|        nytimes.com|    false|2024-05-09 06:13:38|The Tiny Nation a...|The Tiny Nation a...|The Tiny Nation a...|https://www.nytim...|       defrost|    2|       0|         06|          4|     [2.0,0.0]| [-0.1655230728428...|           0.0|(1,[0],[1.0])|[-0.1655230728428...|[1.93213416569122...|[0.87348545162431...|       0.0|\n",
      "|40305729|       0|github.com/bakhirev|    false|2024-05-09 06:15:12|GitHub - bakhirev...|GitHub - bakhirev...|Achivments for Yo...|https://github.co...|the_usual_door|    1|       0|         06|          4|     [1.0,0.0]| [-0.2873043126221...|           0.0|(1,[0],[1.0])|[-0.2873043126221...|[2.01663038086725...|[0.88253213354267...|       0.0|\n",
      "+--------+--------+-------------------+---------+-------------------+--------------------+--------------------+--------------------+--------------------+--------------+-----+--------+-----------+-----------+--------------+---------------------+--------------+-------------+--------------------+--------------------+--------------------+----------+\n",
      "\n"
     ]
    },
    {
     "name": "stderr",
     "output_type": "stream",
     "text": [
      "24/05/09 18:22:31 WARN RandomBlockReplicationPolicy: Expecting 1 replicas with only 0 peer/s.\n",
      "24/05/09 18:22:31 WARN BlockManager: Block input-0-1715271751000 replicated to only 0 peer(s) instead of 1 peers\n",
      "24/05/09 18:22:36 WARN RandomBlockReplicationPolicy: Expecting 1 replicas with only 0 peer/s.\n",
      "24/05/09 18:22:36 WARN BlockManager: Block input-0-1715271756000 replicated to only 0 peer(s) instead of 1 peers\n",
      "24/05/09 18:22:39 WARN RandomBlockReplicationPolicy: Expecting 1 replicas with only 0 peer/s.\n",
      "24/05/09 18:22:39 WARN BlockManager: Block input-0-1715271759000 replicated to only 0 peer(s) instead of 1 peers\n",
      "                                                                                \r"
     ]
    },
    {
     "name": "stdout",
     "output_type": "stream",
     "text": [
      "========= 2024-05-09 18:22:40 =========\n",
      "+--------+--------+------------------+---------+-------------------+--------------------+--------------------+--------------------+--------------------+-------+-----+--------+-----------+-----------+--------------+---------------------+--------------+-------------+--------------------+--------------------+--------------------+----------+\n",
      "|     aid|comments|            domain|frontpage|          posted_at|         source_text|        source_title|               title|                 url|   user|votes|isShowHN|time_of_day|day_of_week|num_col_vector|scaled_num_col_vector|isShowHN_index| isShowHN_OHE|final_feature_vector|       rawPrediction|         probability|prediction|\n",
      "+--------+--------+------------------+---------+-------------------+--------------------+--------------------+--------------------+--------------------+-------+-----+--------+-----------+-----------+--------------+---------------------+--------------+-------------+--------------------+--------------------+--------------------+----------+\n",
      "|40305744|       0|who-t.blogspot.com|    false|2024-05-09 06:17:47|Who-T: libwacom a...|libwacom and Huio...|Libwacom and Huio...|http://who-t.blog...| JNRowe|    1|       0|         06|          4|     [1.0,0.0]| [-0.2873043126221...|           0.0|(1,[0],[1.0])|[-0.2873043126221...|[2.01663038086725...|[0.88253213354267...|       0.0|\n",
      "|40305760|       0|         elenag.me|    false|2024-05-09 06:21:19|Breaking the 20% ...|Breaking the 20% ...|Breaking the 20% ...|https://pod.elena...| megahz|    1|       0|         06|          4|     [1.0,0.0]| [-0.2873043126221...|           0.0|(1,[0],[1.0])|[-0.2873043126221...|[2.01663038086725...|[0.88253213354267...|       0.0|\n",
      "|40305775|       0|     hexagen.world|    false|2024-05-09 06:24:43|hexagen.world - H...|Collectively AI G...|AI Generated Worl...|https://www.hexag...|mdunaev|    2|       0|         06|          4|     [2.0,0.0]| [-0.1655230728428...|           0.0|(1,[0],[1.0])|[-0.1655230728428...|[1.93213416569122...|[0.87348545162431...|       0.0|\n",
      "+--------+--------+------------------+---------+-------------------+--------------------+--------------------+--------------------+--------------------+-------+-----+--------+-----------+-----------+--------------+---------------------+--------------+-------------+--------------------+--------------------+--------------------+----------+\n",
      "\n"
     ]
    },
    {
     "name": "stderr",
     "output_type": "stream",
     "text": [
      "24/05/09 18:22:41 WARN RandomBlockReplicationPolicy: Expecting 1 replicas with only 0 peer/s.\n",
      "24/05/09 18:22:41 WARN BlockManager: Block input-0-1715271761000 replicated to only 0 peer(s) instead of 1 peers\n",
      "24/05/09 18:22:44 WARN RandomBlockReplicationPolicy: Expecting 1 replicas with only 0 peer/s.\n",
      "24/05/09 18:22:44 WARN BlockManager: Block input-0-1715271764000 replicated to only 0 peer(s) instead of 1 peers\n",
      "24/05/09 18:22:47 WARN RandomBlockReplicationPolicy: Expecting 1 replicas with only 0 peer/s.\n",
      "24/05/09 18:22:47 WARN BlockManager: Block input-0-1715271767200 replicated to only 0 peer(s) instead of 1 peers\n",
      "24/05/09 18:22:48 WARN RandomBlockReplicationPolicy: Expecting 1 replicas with only 0 peer/s.\n",
      "24/05/09 18:22:48 WARN BlockManager: Block input-0-1715271768000 replicated to only 0 peer(s) instead of 1 peers\n",
      "                                                                                \r"
     ]
    },
    {
     "name": "stdout",
     "output_type": "stream",
     "text": [
      "========= 2024-05-09 18:22:50 =========\n",
      "+--------+--------+------------+---------+-------------------+--------------------+--------------------+--------------------+--------------------+------------+-----+--------+-----------+-----------+--------------+---------------------+--------------+-------------+--------------------+--------------------+--------------------+----------+\n",
      "|     aid|comments|      domain|frontpage|          posted_at|         source_text|        source_title|               title|                 url|        user|votes|isShowHN|time_of_day|day_of_week|num_col_vector|scaled_num_col_vector|isShowHN_index| isShowHN_OHE|final_feature_vector|       rawPrediction|         probability|prediction|\n",
      "+--------+--------+------------+---------+-------------------+--------------------+--------------------+--------------------+--------------------+------------+-----+--------+-----------+-----------+--------------+---------------------+--------------+-------------+--------------------+--------------------+--------------------+----------+\n",
      "|40305783|       0|ncameron.org|    false|2024-05-09 06:26:47|Rust through the ...|Rust through the ...|Rust Through the ...|https://www.ncame...|   weinzierl|    2|       0|         06|          4|     [2.0,0.0]| [-0.1655230728428...|           0.0|(1,[0],[1.0])|[-0.1655230728428...|[1.93213416569122...|[0.87348545162431...|       0.0|\n",
      "|40305787|       0| youtube.com|    false|2024-05-09 06:27:06|Did AI Just End M...|Did AI Just End M...|Did AI Just End M...|https://www.youtu...|    mpweiher|    1|       0|         06|          4|     [1.0,0.0]| [-0.2873043126221...|           0.0|(1,[0],[1.0])|[-0.2873043126221...|[2.01663038086725...|[0.88253213354267...|       0.0|\n",
      "|40305810|       0|    civai.co|    false|2024-05-09 06:30:26|Meet Siri for the...|Meet Siri for the...|Show HN: Siri for...|https://blog.civa...|usecodenaija|    2|       1|         06|          4|     [2.0,0.0]| [-0.1655230728428...|           1.0|    (1,[],[])|[-0.1655230728428...|[1.93213416569122...|[0.87348545162431...|       0.0|\n",
      "|40305811|       0| cpldcpu.com|    false|2024-05-09 06:30:34|Neural Networks (...|Neural Networks (...|Neural Network in...|https://cpldcpu.c...|     cpldcpu|    3|       0|         06|          4|     [3.0,0.0]| [-0.0437418330635...|           0.0|(1,[0],[1.0])|[-0.0437418330635...|[1.84763795051520...|[0.86384953272383...|       0.0|\n",
      "+--------+--------+------------+---------+-------------------+--------------------+--------------------+--------------------+--------------------+------------+-----+--------+-----------+-----------+--------------+---------------------+--------------+-------------+--------------------+--------------------+--------------------+----------+\n",
      "\n"
     ]
    },
    {
     "name": "stderr",
     "output_type": "stream",
     "text": [
      "24/05/09 18:22:51 WARN RandomBlockReplicationPolicy: Expecting 1 replicas with only 0 peer/s.\n",
      "24/05/09 18:22:51 WARN BlockManager: Block input-0-1715271771200 replicated to only 0 peer(s) instead of 1 peers\n",
      "24/05/09 18:22:52 WARN RandomBlockReplicationPolicy: Expecting 1 replicas with only 0 peer/s.\n",
      "24/05/09 18:22:52 WARN BlockManager: Block input-0-1715271772200 replicated to only 0 peer(s) instead of 1 peers\n",
      "24/05/09 18:22:57 WARN RandomBlockReplicationPolicy: Expecting 1 replicas with only 0 peer/s.\n",
      "24/05/09 18:22:57 WARN BlockManager: Block input-0-1715271777400 replicated to only 0 peer(s) instead of 1 peers\n",
      "                                                                                \r"
     ]
    },
    {
     "name": "stdout",
     "output_type": "stream",
     "text": [
      "========= 2024-05-09 18:23:00 =========\n",
      "+--------+--------+--------------------+---------+-------------------+--------------------+--------------------+--------------------+--------------------+--------+-----+--------+-----------+-----------+--------------+---------------------+--------------+-------------+--------------------+--------------------+--------------------+----------+\n",
      "|     aid|comments|              domain|frontpage|          posted_at|         source_text|        source_title|               title|                 url|    user|votes|isShowHN|time_of_day|day_of_week|num_col_vector|scaled_num_col_vector|isShowHN_index| isShowHN_OHE|final_feature_vector|       rawPrediction|         probability|prediction|\n",
      "+--------+--------+--------------------+---------+-------------------+--------------------+--------------------+--------------------+--------------------+--------+-----+--------+-----------+-----------+--------------+---------------------+--------------+-------------+--------------------+--------------------+--------------------+----------+\n",
      "|40305844|       0|       ex-parrot.com|    false|2024-05-09 06:37:19|Mail::RFC822::Add...|Mail::RFC822::Add...|RFC822 email addr...|https://pdw.ex-pa...|gmargari|    1|       0|         06|          4|     [1.0,0.0]| [-0.2873043126221...|           0.0|(1,[0],[1.0])|[-0.2873043126221...|[2.01663038086725...|[0.88253213354267...|       0.0|\n",
      "|40305868|       0|  astralcodexten.com|    false|2024-05-09 06:42:17|The Emotional Sup...|The Emotional Sup...|The Emotional Sup...|https://www.astra...|   zoidb|    1|       0|         06|          4|     [1.0,0.0]| [-0.2873043126221...|           0.0|(1,[0],[1.0])|[-0.2873043126221...|[2.01663038086725...|[0.88253213354267...|       0.0|\n",
      "|40305873|       0|cartography-of-ge...|    false|2024-05-09 06:43:11|Cartography of ge...|Cartography of ge...|Cartography of Ge...|https://cartograp...|   pabs3|    1|       0|         06|          4|     [1.0,0.0]| [-0.2873043126221...|           0.0|(1,[0],[1.0])|[-0.2873043126221...|[2.01663038086725...|[0.88253213354267...|       0.0|\n",
      "+--------+--------+--------------------+---------+-------------------+--------------------+--------------------+--------------------+--------------------+--------+-----+--------+-----------+-----------+--------------+---------------------+--------------+-------------+--------------------+--------------------+--------------------+----------+\n",
      "\n"
     ]
    },
    {
     "name": "stderr",
     "output_type": "stream",
     "text": [
      "24/05/09 18:23:01 WARN RandomBlockReplicationPolicy: Expecting 1 replicas with only 0 peer/s.\n",
      "24/05/09 18:23:01 WARN BlockManager: Block input-0-1715271781400 replicated to only 0 peer(s) instead of 1 peers\n",
      "24/05/09 18:23:06 WARN RandomBlockReplicationPolicy: Expecting 1 replicas with only 0 peer/s.\n",
      "24/05/09 18:23:06 WARN BlockManager: Block input-0-1715271786400 replicated to only 0 peer(s) instead of 1 peers\n",
      "                                                                                \r"
     ]
    },
    {
     "name": "stdout",
     "output_type": "stream",
     "text": [
      "========= 2024-05-09 18:23:10 =========\n",
      "+--------+--------+--------------------+---------+-------------------+--------------------+--------------------+--------------------+--------------------+------------+-----+--------+-----------+-----------+--------------+---------------------+--------------+-------------+--------------------+--------------------+--------------------+----------+\n",
      "|     aid|comments|              domain|frontpage|          posted_at|         source_text|        source_title|               title|                 url|        user|votes|isShowHN|time_of_day|day_of_week|num_col_vector|scaled_num_col_vector|isShowHN_index| isShowHN_OHE|final_feature_vector|       rawPrediction|         probability|prediction|\n",
      "+--------+--------+--------------------+---------+-------------------+--------------------+--------------------+--------------------+--------------------+------------+-----+--------+-----------+-----------+--------------+---------------------+--------------+-------------+--------------------+--------------------+--------------------+----------+\n",
      "|40305879|       0|           injuly.in|    false|2024-05-09 06:45:42|Compiling higher ...|Compiling higher ...|Compiling higher ...|https://injuly.in...|todsacerdoti|    1|       0|         06|          4|     [1.0,0.0]| [-0.2873043126221...|           0.0|(1,[0],[1.0])|[-0.2873043126221...|[2.01663038086725...|[0.88253213354267...|       0.0|\n",
      "|40305886|       0|jonestopia.substa...|    false|2024-05-09 06:47:01|The Nerdiest Poss...|The Nerdiest Poss...|The nerdiest poss...|https://jonestopi...| jmilinovich|    1|       0|         06|          4|     [1.0,0.0]| [-0.2873043126221...|           0.0|(1,[0],[1.0])|[-0.2873043126221...|[2.01663038086725...|[0.88253213354267...|       0.0|\n",
      "+--------+--------+--------------------+---------+-------------------+--------------------+--------------------+--------------------+--------------------+------------+-----+--------+-----------+-----------+--------------+---------------------+--------------+-------------+--------------------+--------------------+--------------------+----------+\n",
      "\n"
     ]
    },
    {
     "name": "stderr",
     "output_type": "stream",
     "text": [
      "24/05/09 18:23:11 WARN RandomBlockReplicationPolicy: Expecting 1 replicas with only 0 peer/s.\n",
      "24/05/09 18:23:11 WARN BlockManager: Block input-0-1715271791400 replicated to only 0 peer(s) instead of 1 peers\n",
      "24/05/09 18:23:12 WARN RandomBlockReplicationPolicy: Expecting 1 replicas with only 0 peer/s.\n",
      "24/05/09 18:23:12 WARN BlockManager: Block input-0-1715271792600 replicated to only 0 peer(s) instead of 1 peers\n",
      "24/05/09 18:23:17 WARN RandomBlockReplicationPolicy: Expecting 1 replicas with only 0 peer/s.\n",
      "24/05/09 18:23:17 WARN BlockManager: Block input-0-1715271797400 replicated to only 0 peer(s) instead of 1 peers\n",
      "                                                                                \r"
     ]
    },
    {
     "name": "stdout",
     "output_type": "stream",
     "text": [
      "========= 2024-05-09 18:23:20 =========\n",
      "+--------+--------+----------------+---------+-------------------+--------------------+--------------------+--------------------+--------------------+------------+-----+--------+-----------+-----------+--------------+---------------------+--------------+-------------+--------------------+--------------------+--------------------+----------+\n",
      "|     aid|comments|          domain|frontpage|          posted_at|         source_text|        source_title|               title|                 url|        user|votes|isShowHN|time_of_day|day_of_week|num_col_vector|scaled_num_col_vector|isShowHN_index| isShowHN_OHE|final_feature_vector|       rawPrediction|         probability|prediction|\n",
      "+--------+--------+----------------+---------+-------------------+--------------------+--------------------+--------------------+--------------------+------------+-----+--------+-----------+-----------+--------------+---------------------+--------------+-------------+--------------------+--------------------+--------------------+----------+\n",
      "|40305912|       0|github.com/apple|    false|2024-05-09 06:53:39|swift-evolution/p...|swift-evolution/p...|Objective-C Imple...|https://github.co...|todsacerdoti|    2|       0|         06|          4|     [2.0,0.0]| [-0.1655230728428...|           0.0|(1,[0],[1.0])|[-0.1655230728428...|[1.93213416569122...|[0.87348545162431...|       0.0|\n",
      "|40305930|       0|    the-pope.com|    false|2024-05-09 06:56:25|Working XMP and L...|Working XMP and L...|Working XMP and L...|http://www.the-po...|       thro1|    1|       0|         06|          4|     [1.0,0.0]| [-0.2873043126221...|           0.0|(1,[0],[1.0])|[-0.2873043126221...|[2.01663038086725...|[0.88253213354267...|       0.0|\n",
      "|40305941|       0| singlestore.com|    false|2024-05-09 06:58:20|Why We Migrated O...|Why We Migrated O...|We Migrated Our L...|https://www.singl...|  davidgomes|    1|       0|         06|          4|     [1.0,0.0]| [-0.2873043126221...|           0.0|(1,[0],[1.0])|[-0.2873043126221...|[2.01663038086725...|[0.88253213354267...|       0.0|\n",
      "+--------+--------+----------------+---------+-------------------+--------------------+--------------------+--------------------+--------------------+------------+-----+--------+-----------+-----------+--------------+---------------------+--------------+-------------+--------------------+--------------------+--------------------+----------+\n",
      "\n"
     ]
    },
    {
     "name": "stderr",
     "output_type": "stream",
     "text": [
      "24/05/09 18:23:22 WARN RandomBlockReplicationPolicy: Expecting 1 replicas with only 0 peer/s.\n",
      "24/05/09 18:23:22 WARN BlockManager: Block input-0-1715271802400 replicated to only 0 peer(s) instead of 1 peers\n",
      "24/05/09 18:23:23 WARN RandomBlockReplicationPolicy: Expecting 1 replicas with only 0 peer/s.\n",
      "24/05/09 18:23:23 WARN BlockManager: Block input-0-1715271803400 replicated to only 0 peer(s) instead of 1 peers\n",
      "24/05/09 18:23:25 WARN RandomBlockReplicationPolicy: Expecting 1 replicas with only 0 peer/s.\n",
      "24/05/09 18:23:25 WARN BlockManager: Block input-0-1715271805600 replicated to only 0 peer(s) instead of 1 peers\n",
      "                                                                                \r"
     ]
    },
    {
     "name": "stdout",
     "output_type": "stream",
     "text": [
      "========= 2024-05-09 18:23:30 =========\n",
      "+--------+--------+--------------------+---------+-------------------+--------------------+--------------------+--------------------+--------------------+-------+-----+--------+-----------+-----------+--------------+---------------------+--------------+-------------+--------------------+--------------------+--------------------+----------+\n",
      "|     aid|comments|              domain|frontpage|          posted_at|         source_text|        source_title|               title|                 url|   user|votes|isShowHN|time_of_day|day_of_week|num_col_vector|scaled_num_col_vector|isShowHN_index| isShowHN_OHE|final_feature_vector|       rawPrediction|         probability|prediction|\n",
      "+--------+--------+--------------------+---------+-------------------+--------------------+--------------------+--------------------+--------------------+-------+-----+--------+-----------+-----------+--------------+---------------------+--------------+-------------+--------------------+--------------------+--------------------+----------+\n",
      "|40305948|       0|github.com/uiuc-f...|    false|2024-05-09 07:00:31|GitHub - uiuc-foc...|GitHub - uiuc-foc...|LLMs following gr...|https://github.co...| sugare|    1|       0|         07|          4|     [1.0,0.0]| [-0.2873043126221...|           0.0|(1,[0],[1.0])|[-0.2873043126221...|[2.01663038086725...|[0.88253213354267...|       0.0|\n",
      "|40305950|       0|  theaitookmyjob.com|    false|2024-05-09 07:00:35|Will AI Replace M...|Will AI Replace M...|Check if AI will ...|https://theaitook...| mayahi|    2|       0|         07|          4|     [2.0,0.0]| [-0.1655230728428...|           0.0|(1,[0],[1.0])|[-0.1655230728428...|[1.93213416569122...|[0.87348545162431...|       0.0|\n",
      "|40305965|       0|  github.com/bjarneo|    false|2024-05-09 07:04:27|GitHub - bjarneo/...|GitHub - bjarneo/...|LFG is a CLI tool...|https://github.co...|bjarneo|    1|       0|         07|          4|     [1.0,0.0]| [-0.2873043126221...|           0.0|(1,[0],[1.0])|[-0.2873043126221...|[2.01663038086725...|[0.88253213354267...|       0.0|\n",
      "+--------+--------+--------------------+---------+-------------------+--------------------+--------------------+--------------------+--------------------+-------+-----+--------+-----------+-----------+--------------+---------------------+--------------+-------------+--------------------+--------------------+--------------------+----------+\n",
      "\n"
     ]
    },
    {
     "name": "stderr",
     "output_type": "stream",
     "text": [
      "24/05/09 18:24:29 WARN RandomBlockReplicationPolicy: Expecting 1 replicas with only 0 peer/s.\n",
      "24/05/09 18:24:29 WARN BlockManager: Block input-0-1715271869600 replicated to only 0 peer(s) instead of 1 peers\n",
      "                                                                                \r"
     ]
    },
    {
     "name": "stdout",
     "output_type": "stream",
     "text": [
      "========= 2024-05-09 18:24:30 =========\n",
      "+--------+--------+-------+---------+-------------------+--------------------+--------------------+--------------------+--------------------+----+-----+--------+-----------+-----------+--------------+---------------------+--------------+-------------+--------------------+--------------------+--------------------+----------+\n",
      "|     aid|comments| domain|frontpage|          posted_at|         source_text|        source_title|               title|                 url|user|votes|isShowHN|time_of_day|day_of_week|num_col_vector|scaled_num_col_vector|isShowHN_index| isShowHN_OHE|final_feature_vector|       rawPrediction|         probability|prediction|\n",
      "+--------+--------+-------+---------+-------------------+--------------------+--------------------+--------------------+--------------------+----+-----+--------+-----------+-----------+--------------+---------------------+--------------+-------------+--------------------+--------------------+--------------------+----------+\n",
      "|40305967|       0|bbc.com|    false|2024-05-09 07:05:26|CEEFAX: world's f...|CEEFAX: world's f...|CEEFAX: world's f...|https://www.bbc.c...|gebt|    1|       0|         07|          4|     [1.0,0.0]| [-0.2873043126221...|           0.0|(1,[0],[1.0])|[-0.2873043126221...|[2.01663038086725...|[0.88253213354267...|       0.0|\n",
      "+--------+--------+-------+---------+-------------------+--------------------+--------------------+--------------------+--------------------+----+-----+--------+-----------+-----------+--------------+---------------------+--------------+-------------+--------------------+--------------------+--------------------+----------+\n",
      "\n"
     ]
    },
    {
     "name": "stderr",
     "output_type": "stream",
     "text": [
      "24/05/09 18:24:31 WARN RandomBlockReplicationPolicy: Expecting 1 replicas with only 0 peer/s.\n",
      "24/05/09 18:24:31 WARN BlockManager: Block input-0-1715271871600 replicated to only 0 peer(s) instead of 1 peers\n",
      "24/05/09 18:24:34 WARN RandomBlockReplicationPolicy: Expecting 1 replicas with only 0 peer/s.\n",
      "24/05/09 18:24:34 WARN BlockManager: Block input-0-1715271874600 replicated to only 0 peer(s) instead of 1 peers\n",
      "24/05/09 18:24:36 WARN RandomBlockReplicationPolicy: Expecting 1 replicas with only 0 peer/s.\n",
      "24/05/09 18:24:36 WARN BlockManager: Block input-0-1715271875800 replicated to only 0 peer(s) instead of 1 peers\n",
      "24/05/09 18:24:40 WARN RandomBlockReplicationPolicy: Expecting 1 replicas with only 0 peer/s.\n",
      "24/05/09 18:24:40 WARN BlockManager: Block input-0-1715271879800 replicated to only 0 peer(s) instead of 1 peers\n",
      "                                                                                \r"
     ]
    },
    {
     "name": "stdout",
     "output_type": "stream",
     "text": [
      "========= 2024-05-09 18:24:40 =========\n",
      "+--------+--------+--------------------+---------+-------------------+--------------------+--------------------+--------------------+--------------------+---------+-----+--------+-----------+-----------+--------------+---------------------+--------------+-------------+--------------------+--------------------+--------------------+----------+\n",
      "|     aid|comments|              domain|frontpage|          posted_at|         source_text|        source_title|               title|                 url|     user|votes|isShowHN|time_of_day|day_of_week|num_col_vector|scaled_num_col_vector|isShowHN_index| isShowHN_OHE|final_feature_vector|       rawPrediction|         probability|prediction|\n",
      "+--------+--------+--------------------+---------+-------------------+--------------------+--------------------+--------------------+--------------------+---------+-----+--------+-----------+-----------+--------------+---------------------+--------------+-------------+--------------------+--------------------+--------------------+----------+\n",
      "|40305988|       0|twitter.com/vadim...|    false|2024-05-09 07:11:08|X\\n\\nDon’t miss w...|                   X|M4 is 25% faster ...|https://twitter.c...|  farslan|    2|       0|         07|          4|     [2.0,0.0]| [-0.1655230728428...|           0.0|(1,[0],[1.0])|[-0.1655230728428...|[1.93213416569122...|[0.87348545162431...|       0.0|\n",
      "|40306002|       0|           bbc.co.uk|    false|2024-05-09 07:13:45|Ogham stone unear...|Ogham stone unear...|Stone with ancien...|https://www.bbc.c...|  gadders|    2|       0|         07|          4|     [2.0,0.0]| [-0.1655230728428...|           0.0|(1,[0],[1.0])|[-0.1655230728428...|[1.93213416569122...|[0.87348545162431...|       0.0|\n",
      "|40306011|       0|            whyy.org|    false|2024-05-09 07:15:44|William Noel, cha...|William Noel, med...|William Noel, gro...|https://whyy.org/...|mdlincoln|    1|       0|         07|          4|     [1.0,0.0]| [-0.2873043126221...|           0.0|(1,[0],[1.0])|[-0.2873043126221...|[2.01663038086725...|[0.88253213354267...|       0.0|\n",
      "+--------+--------+--------------------+---------+-------------------+--------------------+--------------------+--------------------+--------------------+---------+-----+--------+-----------+-----------+--------------+---------------------+--------------+-------------+--------------------+--------------------+--------------------+----------+\n",
      "\n"
     ]
    },
    {
     "name": "stderr",
     "output_type": "stream",
     "text": [
      "24/05/09 18:24:42 WARN RandomBlockReplicationPolicy: Expecting 1 replicas with only 0 peer/s.\n",
      "24/05/09 18:24:42 WARN BlockManager: Block input-0-1715271881800 replicated to only 0 peer(s) instead of 1 peers\n",
      "24/05/09 18:24:47 WARN RandomBlockReplicationPolicy: Expecting 1 replicas with only 0 peer/s.\n",
      "24/05/09 18:24:47 WARN BlockManager: Block input-0-1715271886800 replicated to only 0 peer(s) instead of 1 peers\n",
      "24/05/09 18:24:49 WARN RandomBlockReplicationPolicy: Expecting 1 replicas with only 0 peer/s.\n",
      "24/05/09 18:24:49 WARN BlockManager: Block input-0-1715271888800 replicated to only 0 peer(s) instead of 1 peers\n",
      "                                                                                \r"
     ]
    },
    {
     "name": "stdout",
     "output_type": "stream",
     "text": [
      "========= 2024-05-09 18:24:50 =========\n",
      "+--------+--------+---------------+---------+-------------------+--------------------+--------------------+--------------------+--------------------+----------+-----+--------+-----------+-----------+--------------+---------------------+--------------+-------------+--------------------+--------------------+--------------------+----------+\n",
      "|     aid|comments|         domain|frontpage|          posted_at|         source_text|        source_title|               title|                 url|      user|votes|isShowHN|time_of_day|day_of_week|num_col_vector|scaled_num_col_vector|isShowHN_index| isShowHN_OHE|final_feature_vector|       rawPrediction|         probability|prediction|\n",
      "+--------+--------+---------------+---------+-------------------+--------------------+--------------------+--------------------+--------------------+----------+-----+--------+-----------+-----------+--------------+---------------------+--------------+-------------+--------------------+--------------------+--------------------+----------+\n",
      "|40306014|       0|github.com/gh2o|    false|2024-05-09 07:15:55|GitHub - gh2o/bas...|GitHub - gh2o/bas...|A minimal TLS 1.2...|https://github.co...|  aviramha|    2|       0|         07|          4|     [2.0,0.0]| [-0.1655230728428...|           0.0|(1,[0],[1.0])|[-0.1655230728428...|[1.93213416569122...|[0.87348545162431...|       0.0|\n",
      "|40306027|       0|       ohwg.net|    false|2024-05-09 07:18:44|Laminar CI: Docum...|Laminar CI: Docum...|Laminar – lightwe...|https://laminar.o...|     bruh2|    1|       0|         07|          4|     [1.0,0.0]| [-0.2873043126221...|           0.0|(1,[0],[1.0])|[-0.2873043126221...|[2.01663038086725...|[0.88253213354267...|       0.0|\n",
      "|40306032|       0|    thehill.com|     true|2024-05-09 07:19:54|Access to this pa...|Access to this pa...|TikTok sues the U...|https://thehill.c...|KnuthIsGod|    3|       0|         07|          4|     [3.0,0.0]| [-0.0437418330635...|           0.0|(1,[0],[1.0])|[-0.0437418330635...|[1.84763795051520...|[0.86384953272383...|       0.0|\n",
      "|40306034|       0|   seclists.org|    false|2024-05-09 07:20:20|Nmap Announce: Nm...|Nmap Announce: Nm...|NMAP 7.95 Release...|https://seclists....|zeroheight|    3|       0|         07|          4|     [3.0,0.0]| [-0.0437418330635...|           0.0|(1,[0],[1.0])|[-0.0437418330635...|[1.84763795051520...|[0.86384953272383...|       0.0|\n",
      "+--------+--------+---------------+---------+-------------------+--------------------+--------------------+--------------------+--------------------+----------+-----+--------+-----------+-----------+--------------+---------------------+--------------+-------------+--------------------+--------------------+--------------------+----------+\n",
      "\n"
     ]
    },
    {
     "name": "stderr",
     "output_type": "stream",
     "text": [
      "24/05/09 18:24:51 WARN RandomBlockReplicationPolicy: Expecting 1 replicas with only 0 peer/s.\n",
      "24/05/09 18:24:51 WARN BlockManager: Block input-0-1715271890800 replicated to only 0 peer(s) instead of 1 peers\n",
      "24/05/09 18:24:56 WARN RandomBlockReplicationPolicy: Expecting 1 replicas with only 0 peer/s.\n",
      "24/05/09 18:24:56 WARN BlockManager: Block input-0-1715271896000 replicated to only 0 peer(s) instead of 1 peers\n",
      "24/05/09 18:24:57 WARN RandomBlockReplicationPolicy: Expecting 1 replicas with only 0 peer/s.\n",
      "24/05/09 18:24:57 WARN BlockManager: Block input-0-1715271896800 replicated to only 0 peer(s) instead of 1 peers\n",
      "                                                                                \r"
     ]
    },
    {
     "name": "stdout",
     "output_type": "stream",
     "text": [
      "========= 2024-05-09 18:25:00 =========\n",
      "+--------+--------+--------------------+---------+-------------------+--------------------+--------------------+--------------------+--------------------+-------------+-----+--------+-----------+-----------+--------------+---------------------+--------------+-------------+--------------------+--------------------+--------------------+----------+\n",
      "|     aid|comments|              domain|frontpage|          posted_at|         source_text|        source_title|               title|                 url|         user|votes|isShowHN|time_of_day|day_of_week|num_col_vector|scaled_num_col_vector|isShowHN_index| isShowHN_OHE|final_feature_vector|       rawPrediction|         probability|prediction|\n",
      "+--------+--------+--------------------+---------+-------------------+--------------------+--------------------+--------------------+--------------------+-------------+-----+--------+-----------+-----------+--------------+---------------------+--------------+-------------+--------------------+--------------------+--------------------+----------+\n",
      "|40306043|       0|        phoronix.com|    false|2024-05-09 07:23:38|Zed Code Editor M...|Zed Code Editor M...|Zed Code Editor M...|https://www.phoro...|         scns|    1|       0|         07|          4|     [1.0,0.0]| [-0.2873043126221...|           0.0|(1,[0],[1.0])|[-0.2873043126221...|[2.01663038086725...|[0.88253213354267...|       0.0|\n",
      "|40306078|       0|        geekwire.com|    false|2024-05-09 07:31:03|Attention Require...|Attention Require...|Nvidia invests in...|https://www.geekw...|jelliclesfarm|    1|       0|         07|          4|     [1.0,0.0]| [-0.2873043126221...|           0.0|(1,[0],[1.0])|[-0.2873043126221...|[2.01663038086725...|[0.88253213354267...|       0.0|\n",
      "|40306101|       0|twitter.com/randa...|    false|2024-05-09 07:35:28|X\\n\\nDon’t miss w...|                   X|Pin Number Distri...|https://twitter.c...|     miohtama|    1|       0|         07|          4|     [1.0,0.0]| [-0.2873043126221...|           0.0|(1,[0],[1.0])|[-0.2873043126221...|[2.01663038086725...|[0.88253213354267...|       0.0|\n",
      "+--------+--------+--------------------+---------+-------------------+--------------------+--------------------+--------------------+--------------------+-------------+-----+--------+-----------+-----------+--------------+---------------------+--------------+-------------+--------------------+--------------------+--------------------+----------+\n",
      "\n"
     ]
    },
    {
     "name": "stderr",
     "output_type": "stream",
     "text": [
      "24/05/09 18:25:01 WARN RandomBlockReplicationPolicy: Expecting 1 replicas with only 0 peer/s.\n",
      "24/05/09 18:25:01 WARN BlockManager: Block input-0-1715271901000 replicated to only 0 peer(s) instead of 1 peers\n",
      "24/05/09 18:25:04 WARN RandomBlockReplicationPolicy: Expecting 1 replicas with only 0 peer/s.\n",
      "24/05/09 18:25:04 WARN BlockManager: Block input-0-1715271904000 replicated to only 0 peer(s) instead of 1 peers\n",
      "24/05/09 18:25:07 WARN RandomBlockReplicationPolicy: Expecting 1 replicas with only 0 peer/s.\n",
      "24/05/09 18:25:07 WARN BlockManager: Block input-0-1715271907000 replicated to only 0 peer(s) instead of 1 peers\n",
      "24/05/09 18:25:09 WARN RandomBlockReplicationPolicy: Expecting 1 replicas with only 0 peer/s.\n",
      "24/05/09 18:25:09 WARN BlockManager: Block input-0-1715271909000 replicated to only 0 peer(s) instead of 1 peers\n",
      "24/05/09 18:25:10 WARN RandomBlockReplicationPolicy: Expecting 1 replicas with only 0 peer/s.\n",
      "24/05/09 18:25:10 WARN BlockManager: Block input-0-1715271910000 replicated to only 0 peer(s) instead of 1 peers\n"
     ]
    },
    {
     "name": "stdout",
     "output_type": "stream",
     "text": [
      "========= 2024-05-09 18:25:10 =========\n",
      "+--------+--------+---------------+---------+-------------------+--------------------+--------------------+--------------------+--------------------+-----------+-----+--------+-----------+-----------+--------------+---------------------+--------------+-------------+--------------------+--------------------+--------------------+----------+\n",
      "|     aid|comments|         domain|frontpage|          posted_at|         source_text|        source_title|               title|                 url|       user|votes|isShowHN|time_of_day|day_of_week|num_col_vector|scaled_num_col_vector|isShowHN_index| isShowHN_OHE|final_feature_vector|       rawPrediction|         probability|prediction|\n",
      "+--------+--------+---------------+---------+-------------------+--------------------+--------------------+--------------------+--------------------+-----------+-----+--------+-----------+-----------+--------------+---------------------+--------------+-------------+--------------------+--------------------+--------------------+----------+\n",
      "|40306128|       0|     infra.kiwi|    false|2024-05-09 07:38:42|Just a moment...\\...|    Just a moment...|Why the AWS CDK w...|https://blog.infr...|  cmaster11|    1|       0|         07|          4|     [1.0,0.0]| [-0.2873043126221...|           0.0|(1,[0],[1.0])|[-0.2873043126221...|[2.01663038086725...|[0.88253213354267...|       0.0|\n",
      "|40306138|       0|languagezen.com|    false|2024-05-09 07:40:47|LANGUAGE ZEN\\n\\nL...|                NULL|Show HN: Language...|https://app.langu...|      ofirg|    1|       1|         07|          4|     [1.0,0.0]| [-0.2873043126221...|           1.0|    (1,[],[])|[-0.2873043126221...|[2.01663038086725...|[0.88253213354267...|       0.0|\n",
      "|40306143|       0|  world.hey.com|     true|2024-05-09 07:42:06|Hating Apple goes...|Hating Apple goes...|Hating Apple Goes...|https://world.hey...|   mpweiher|    5|       0|         07|          4|     [5.0,0.0]| [0.19982064649497...|           0.0|(1,[0],[1.0])|[0.19982064649497...|[1.67864552016314...|[0.84272509234466...|       0.0|\n",
      "|40306153|       0|      inblog.ai|    false|2024-05-09 07:44:51|inblog | Convert ...|inblog | Convert ...|Show HN: Notion t...|   https://inblog.ai|HankyulJang|    1|       1|         07|          4|     [1.0,0.0]| [-0.2873043126221...|           1.0|    (1,[],[])|[-0.2873043126221...|[2.01663038086725...|[0.88253213354267...|       0.0|\n",
      "+--------+--------+---------------+---------+-------------------+--------------------+--------------------+--------------------+--------------------+-----------+-----+--------+-----------+-----------+--------------+---------------------+--------------+-------------+--------------------+--------------------+--------------------+----------+\n",
      "\n"
     ]
    },
    {
     "name": "stderr",
     "output_type": "stream",
     "text": [
      "24/05/09 18:25:13 WARN RandomBlockReplicationPolicy: Expecting 1 replicas with only 0 peer/s.\n",
      "24/05/09 18:25:13 WARN BlockManager: Block input-0-1715271913200 replicated to only 0 peer(s) instead of 1 peers\n",
      "24/05/09 18:25:14 WARN RandomBlockReplicationPolicy: Expecting 1 replicas with only 0 peer/s.\n",
      "24/05/09 18:25:14 WARN BlockManager: Block input-0-1715271914000 replicated to only 0 peer(s) instead of 1 peers\n",
      "24/05/09 18:25:18 WARN RandomBlockReplicationPolicy: Expecting 1 replicas with only 0 peer/s.\n",
      "24/05/09 18:25:18 WARN BlockManager: Block input-0-1715271918000 replicated to only 0 peer(s) instead of 1 peers\n",
      "24/05/09 18:25:19 WARN RandomBlockReplicationPolicy: Expecting 1 replicas with only 0 peer/s.\n",
      "24/05/09 18:25:19 WARN BlockManager: Block input-0-1715271919000 replicated to only 0 peer(s) instead of 1 peers\n",
      "                                                                                \r"
     ]
    },
    {
     "name": "stdout",
     "output_type": "stream",
     "text": [
      "========= 2024-05-09 18:25:20 =========\n",
      "+--------+--------+------------------+---------+-------------------+--------------------+--------------------+--------------------+--------------------+---------------+-----+--------+-----------+-----------+--------------+---------------------+--------------+-------------+--------------------+--------------------+--------------------+----------+\n",
      "|     aid|comments|            domain|frontpage|          posted_at|         source_text|        source_title|               title|                 url|           user|votes|isShowHN|time_of_day|day_of_week|num_col_vector|scaled_num_col_vector|isShowHN_index| isShowHN_OHE|final_feature_vector|       rawPrediction|         probability|prediction|\n",
      "+--------+--------+------------------+---------+-------------------+--------------------+--------------------+--------------------+--------------------+---------------+-----+--------+-----------+-----------+--------------+---------------------+--------------+-------------+--------------------+--------------------+--------------------+----------+\n",
      "|40306156|       0|twitter.com/jskalc|    false|2024-05-09 07:45:28|X\\n\\nDon’t miss w...|                   X|Phoenix LiveView ...|https://twitter.c...|       jskalc92|    1|       0|         07|          4|     [1.0,0.0]| [-0.2873043126221...|           0.0|(1,[0],[1.0])|[-0.2873043126221...|[2.01663038086725...|[0.88253213354267...|       0.0|\n",
      "|40306159|       0|         lmsys.org|    false|2024-05-09 07:46:04|What’s up with Ll...|What’s up with Ll...|What's Up with Ll...|https://lmsys.org...|           tosh|    1|       0|         07|          4|     [1.0,0.0]| [-0.2873043126221...|           0.0|(1,[0],[1.0])|[-0.2873043126221...|[2.01663038086725...|[0.88253213354267...|       0.0|\n",
      "|40306161|       0|   matthewdean.com|    false|2024-05-09 07:46:15|Installing Tailsc...|Installing Tailsc...|Installing Tailsc...|https://www.matth...|          mdean|    2|       0|         07|          4|     [2.0,0.0]| [-0.1655230728428...|           0.0|(1,[0],[1.0])|[-0.1655230728428...|[1.93213416569122...|[0.87348545162431...|       0.0|\n",
      "|40306165|       0|        amazon.com|    false|2024-05-09 07:47:23|Amazon Ads kündig...|Amazon Ads kündig...|Amazon Ads announ...|https://advertisi...|          bj-rn|    1|       0|         07|          4|     [1.0,0.0]| [-0.2873043126221...|           0.0|(1,[0],[1.0])|[-0.2873043126221...|[2.01663038086725...|[0.88253213354267...|       0.0|\n",
      "|40306194|       0|   theguardian.com|     true|2024-05-09 07:54:55|Ukraine unveils A...|Ukraine unveils A...|Ukraine unveils A...|https://www.thegu...|vissidarte_choi|    3|       0|         07|          4|     [3.0,0.0]| [-0.0437418330635...|           0.0|(1,[0],[1.0])|[-0.0437418330635...|[1.84763795051520...|[0.86384953272383...|       0.0|\n",
      "+--------+--------+------------------+---------+-------------------+--------------------+--------------------+--------------------+--------------------+---------------+-----+--------+-----------+-----------+--------------+---------------------+--------------+-------------+--------------------+--------------------+--------------------+----------+\n",
      "\n"
     ]
    },
    {
     "name": "stderr",
     "output_type": "stream",
     "text": [
      "24/05/09 18:25:22 WARN RandomBlockReplicationPolicy: Expecting 1 replicas with only 0 peer/s.\n",
      "24/05/09 18:25:22 WARN BlockManager: Block input-0-1715271922200 replicated to only 0 peer(s) instead of 1 peers\n",
      "24/05/09 18:25:23 WARN RandomBlockReplicationPolicy: Expecting 1 replicas with only 0 peer/s.\n",
      "24/05/09 18:25:23 WARN BlockManager: Block input-0-1715271923000 replicated to only 0 peer(s) instead of 1 peers\n",
      "24/05/09 18:25:26 WARN RandomBlockReplicationPolicy: Expecting 1 replicas with only 0 peer/s.\n",
      "24/05/09 18:25:26 WARN BlockManager: Block input-0-1715271926000 replicated to only 0 peer(s) instead of 1 peers\n",
      "24/05/09 18:25:30 WARN RandomBlockReplicationPolicy: Expecting 1 replicas with only 0 peer/s.\n",
      "24/05/09 18:25:30 WARN BlockManager: Block input-0-1715271930000 replicated to only 0 peer(s) instead of 1 peers\n"
     ]
    },
    {
     "name": "stdout",
     "output_type": "stream",
     "text": [
      "========= 2024-05-09 18:25:30 =========\n",
      "+--------+--------+----------------+---------+-------------------+--------------------+--------------------+--------------------+--------------------+--------------+-----+--------+-----------+-----------+--------------+---------------------+--------------+-------------+--------------------+--------------------+--------------------+----------+\n",
      "|     aid|comments|          domain|frontpage|          posted_at|         source_text|        source_title|               title|                 url|          user|votes|isShowHN|time_of_day|day_of_week|num_col_vector|scaled_num_col_vector|isShowHN_index| isShowHN_OHE|final_feature_vector|       rawPrediction|         probability|prediction|\n",
      "+--------+--------+----------------+---------+-------------------+--------------------+--------------------+--------------------+--------------------+--------------+-----+--------+-----------+-----------+--------------+---------------------+--------------+-------------+--------------------+--------------------+--------------------+----------+\n",
      "|40306200|       0| arstechnica.com|     true|2024-05-09 07:55:51|Robot dogs armed ...|Robot dogs armed ...|Robot dogs armed ...|https://arstechni...|Engineering-MD|    3|       0|         07|          4|     [3.0,0.0]| [-0.0437418330635...|           0.0|(1,[0],[1.0])|[-0.0437418330635...|[1.84763795051520...|[0.86384953272383...|       0.0|\n",
      "|40306215|       0|    columbia.edu|    false|2024-05-09 08:00:27|Just a moment...\\...|    Just a moment...|Does this study s...|https://statmodel...|           luu|    1|       0|         08|          4|     [1.0,0.0]| [-0.2873043126221...|           0.0|(1,[0],[1.0])|[-0.2873043126221...|[2.01663038086725...|[0.88253213354267...|       0.0|\n",
      "|40306216|       0|flutterplate.dev|    false|2024-05-09 08:00:53|FlutterPlate Flut...|FlutterPlate Flut...|I have launched m...|https://flutterpl...|   onedevbuddy|    1|       0|         08|          4|     [1.0,0.0]| [-0.2873043126221...|           0.0|(1,[0],[1.0])|[-0.2873043126221...|[2.01663038086725...|[0.88253213354267...|       0.0|\n",
      "+--------+--------+----------------+---------+-------------------+--------------------+--------------------+--------------------+--------------------+--------------+-----+--------+-----------+-----------+--------------+---------------------+--------------+-------------+--------------------+--------------------+--------------------+----------+\n",
      "\n"
     ]
    },
    {
     "name": "stderr",
     "output_type": "stream",
     "text": [
      "24/05/09 18:25:32 WARN RandomBlockReplicationPolicy: Expecting 1 replicas with only 0 peer/s.\n",
      "24/05/09 18:25:32 WARN BlockManager: Block input-0-1715271932000 replicated to only 0 peer(s) instead of 1 peers\n",
      "24/05/09 18:25:34 WARN RandomBlockReplicationPolicy: Expecting 1 replicas with only 0 peer/s.\n",
      "24/05/09 18:25:34 WARN BlockManager: Block input-0-1715271934400 replicated to only 0 peer(s) instead of 1 peers\n",
      "24/05/09 18:25:39 WARN RandomBlockReplicationPolicy: Expecting 1 replicas with only 0 peer/s.\n",
      "24/05/09 18:25:39 WARN BlockManager: Block input-0-1715271939000 replicated to only 0 peer(s) instead of 1 peers\n",
      "                                                                                \r"
     ]
    },
    {
     "name": "stdout",
     "output_type": "stream",
     "text": [
      "========= 2024-05-09 18:25:40 =========\n"
     ]
    },
    {
     "name": "stderr",
     "output_type": "stream",
     "text": [
      "24/05/09 18:25:40 WARN RandomBlockReplicationPolicy: Expecting 1 replicas with only 0 peer/s.\n",
      "24/05/09 18:25:40 WARN BlockManager: Block input-0-1715271940200 replicated to only 0 peer(s) instead of 1 peers\n"
     ]
    },
    {
     "name": "stdout",
     "output_type": "stream",
     "text": [
      "+--------+--------+-------------+---------+-------------------+--------------------+--------------------+--------------------+--------------------+-------------+-----+--------+-----------+-----------+--------------+---------------------+--------------+-------------+--------------------+--------------------+--------------------+----------+\n",
      "|     aid|comments|       domain|frontpage|          posted_at|         source_text|        source_title|               title|                 url|         user|votes|isShowHN|time_of_day|day_of_week|num_col_vector|scaled_num_col_vector|isShowHN_index| isShowHN_OHE|final_feature_vector|       rawPrediction|         probability|prediction|\n",
      "+--------+--------+-------------+---------+-------------------+--------------------+--------------------+--------------------+--------------------+-------------+-----+--------+-----------+-----------+--------------+---------------------+--------------+-------------+--------------------+--------------------+--------------------+----------+\n",
      "|40306220|       0|bloomberg.com|    false|2024-05-09 08:01:32|Bloomberg - Are y...|           Bloomberg|Microsoft Creates...|https://www.bloom...|vector_spaces|    1|       0|         08|          4|     [1.0,0.0]| [-0.2873043126221...|           0.0|(1,[0],[1.0])|[-0.2873043126221...|[2.01663038086725...|[0.88253213354267...|       0.0|\n",
      "|40306233|       0|   bps.org.uk|    false|2024-05-09 08:06:49|Why psychologists...|Why psychologists...|Psychologists sho...|https://www.bps.o...|         wjb3|    1|       0|         08|          4|     [1.0,0.0]| [-0.2873043126221...|           0.0|(1,[0],[1.0])|[-0.2873043126221...|[2.01663038086725...|[0.88253213354267...|       0.0|\n",
      "|40306237|       0|  youtube.com|    false|2024-05-09 08:08:39|What Is Driving T...|What Is Driving T...|What Is Driving t...|https://www.youtu...|   nickcotter|    1|       0|         08|          4|     [1.0,0.0]| [-0.2873043126221...|           0.0|(1,[0],[1.0])|[-0.2873043126221...|[2.01663038086725...|[0.88253213354267...|       0.0|\n",
      "|40306249|       0|     yale.edu|     true|2024-05-09 08:09:54|Tracking Illicit ...|Tracking Illicit ...|Tracking Illicit ...|https://e360.yale...|       gaauch|   18|       0|         08|          4|    [18.0,0.0]| [1.78297676362559...|           0.0|(1,[0],[1.0])|[1.78297676362559...|[0.58019472287477...|[0.64111221083486...|       0.0|\n",
      "+--------+--------+-------------+---------+-------------------+--------------------+--------------------+--------------------+--------------------+-------------+-----+--------+-----------+-----------+--------------+---------------------+--------------+-------------+--------------------+--------------------+--------------------+----------+\n",
      "\n"
     ]
    },
    {
     "name": "stderr",
     "output_type": "stream",
     "text": [
      "24/05/09 18:25:41 WARN RandomBlockReplicationPolicy: Expecting 1 replicas with only 0 peer/s.\n",
      "24/05/09 18:25:41 WARN BlockManager: Block input-0-1715271941400 replicated to only 0 peer(s) instead of 1 peers\n",
      "24/05/09 18:25:45 WARN RandomBlockReplicationPolicy: Expecting 1 replicas with only 0 peer/s.\n",
      "24/05/09 18:25:45 WARN BlockManager: Block input-0-1715271945400 replicated to only 0 peer(s) instead of 1 peers\n",
      "24/05/09 18:25:49 WARN RandomBlockReplicationPolicy: Expecting 1 replicas with only 0 peer/s.\n",
      "24/05/09 18:25:49 WARN BlockManager: Block input-0-1715271949200 replicated to only 0 peer(s) instead of 1 peers\n",
      "                                                                                \r"
     ]
    },
    {
     "name": "stdout",
     "output_type": "stream",
     "text": [
      "========= 2024-05-09 18:25:50 =========\n",
      "+--------+--------+-----------------+---------+-------------------+--------------------+--------------------+--------------------+--------------------+------------+-----+--------+-----------+-----------+--------------+---------------------+--------------+-------------+--------------------+--------------------+--------------------+----------+\n",
      "|     aid|comments|           domain|frontpage|          posted_at|         source_text|        source_title|               title|                 url|        user|votes|isShowHN|time_of_day|day_of_week|num_col_vector|scaled_num_col_vector|isShowHN_index| isShowHN_OHE|final_feature_vector|       rawPrediction|         probability|prediction|\n",
      "+--------+--------+-----------------+---------+-------------------+--------------------+--------------------+--------------------+--------------------+------------+-----+--------+-----------+-----------+--------------+---------------------+--------------+-------------+--------------------+--------------------+--------------------+----------+\n",
      "|40306257|       0|       reddit.com|    false|2024-05-09 08:11:44|Blocked\\n\\n# whoa...|             Blocked|I Built an App to...|https://old.reddi...| thunderbong|    1|       0|         08|          4|     [1.0,0.0]| [-0.2873043126221...|           0.0|(1,[0],[1.0])|[-0.2873043126221...|[2.01663038086725...|[0.88253213354267...|       0.0|\n",
      "|40306265|       0|          wsj.com|    false|2024-05-09 08:15:08|         wsj.com\\n\\n|             wsj.com|My Mom and Dad Ow...|https://www.wsj.c...|  mcenedella|    1|       0|         08|          4|     [1.0,0.0]| [-0.2873043126221...|           0.0|(1,[0],[1.0])|[-0.2873043126221...|[2.01663038086725...|[0.88253213354267...|       0.0|\n",
      "|40306270|       0|medicalxpress.com|    false|2024-05-09 08:16:30|Sleep problems as...|Sleep problems as...|Sleep problems as...|https://medicalxp...|      gaauch|    1|       0|         08|          4|     [1.0,0.0]| [-0.2873043126221...|           0.0|(1,[0],[1.0])|[-0.2873043126221...|[2.01663038086725...|[0.88253213354267...|       0.0|\n",
      "|40306286|       0|      blog.google|    false|2024-05-09 08:20:06|How Google built ...|How we developed ...|How developed Chr...|https://blog.goog...|midnightboss|    1|       0|         08|          4|     [1.0,0.0]| [-0.2873043126221...|           0.0|(1,[0],[1.0])|[-0.2873043126221...|[2.01663038086725...|[0.88253213354267...|       0.0|\n",
      "+--------+--------+-----------------+---------+-------------------+--------------------+--------------------+--------------------+--------------------+------------+-----+--------+-----------+-----------+--------------+---------------------+--------------+-------------+--------------------+--------------------+--------------------+----------+\n",
      "\n"
     ]
    },
    {
     "name": "stderr",
     "output_type": "stream",
     "text": [
      "24/05/09 18:25:54 WARN RandomBlockReplicationPolicy: Expecting 1 replicas with only 0 peer/s.\n",
      "24/05/09 18:25:54 WARN BlockManager: Block input-0-1715271954200 replicated to only 0 peer(s) instead of 1 peers\n",
      "24/05/09 18:25:58 WARN RandomBlockReplicationPolicy: Expecting 1 replicas with only 0 peer/s.\n",
      "24/05/09 18:25:58 WARN BlockManager: Block input-0-1715271958200 replicated to only 0 peer(s) instead of 1 peers\n",
      "                                                                                \r"
     ]
    },
    {
     "name": "stdout",
     "output_type": "stream",
     "text": [
      "========= 2024-05-09 18:26:00 =========\n",
      "+--------+--------+--------------------+---------+-------------------+--------------------+--------------------+--------------------+--------------------+------------+-----+--------+-----------+-----------+--------------+---------------------+--------------+-------------+--------------------+--------------------+--------------------+----------+\n",
      "|     aid|comments|              domain|frontpage|          posted_at|         source_text|        source_title|               title|                 url|        user|votes|isShowHN|time_of_day|day_of_week|num_col_vector|scaled_num_col_vector|isShowHN_index| isShowHN_OHE|final_feature_vector|       rawPrediction|         probability|prediction|\n",
      "+--------+--------+--------------------+---------+-------------------+--------------------+--------------------+--------------------+--------------------+------------+-----+--------+-----------+-----------+--------------+---------------------+--------------+-------------+--------------------+--------------------+--------------------+----------+\n",
      "|40306289|       0|twitter.com/rezaw...|     true|2024-05-09 08:21:01|X\\n\\nDon’t miss w...|                   X|Hey Apple, I fixe...|https://twitter.c...|    mpweiher|    5|       0|         08|          4|     [5.0,0.0]| [0.19982064649497...|           0.0|(1,[0],[1.0])|[0.19982064649497...|[1.67864552016314...|[0.84272509234466...|       0.0|\n",
      "|40306298|       0|       danielnagy.me|    false|2024-05-09 08:25:12|Are Inline Styles...|Are Inline Styles...|Are Inline Styles...|https://danielnag...|charlieirish|    1|       0|         08|          4|     [1.0,0.0]| [-0.2873043126221...|           0.0|(1,[0],[1.0])|[-0.2873043126221...|[2.01663038086725...|[0.88253213354267...|       0.0|\n",
      "+--------+--------+--------------------+---------+-------------------+--------------------+--------------------+--------------------+--------------------+------------+-----+--------+-----------+-----------+--------------+---------------------+--------------+-------------+--------------------+--------------------+--------------------+----------+\n",
      "\n"
     ]
    },
    {
     "name": "stderr",
     "output_type": "stream",
     "text": [
      "24/05/09 18:26:02 WARN RandomBlockReplicationPolicy: Expecting 1 replicas with only 0 peer/s.\n",
      "24/05/09 18:26:02 WARN BlockManager: Block input-0-1715271962400 replicated to only 0 peer(s) instead of 1 peers\n",
      "24/05/09 18:26:03 WARN RandomBlockReplicationPolicy: Expecting 1 replicas with only 0 peer/s.\n",
      "24/05/09 18:26:03 WARN BlockManager: Block input-0-1715271963200 replicated to only 0 peer(s) instead of 1 peers\n",
      "24/05/09 18:26:04 WARN RandomBlockReplicationPolicy: Expecting 1 replicas with only 0 peer/s.\n",
      "24/05/09 18:26:04 WARN BlockManager: Block input-0-1715271964400 replicated to only 0 peer(s) instead of 1 peers\n",
      "24/05/09 18:26:09 WARN RandomBlockReplicationPolicy: Expecting 1 replicas with only 0 peer/s.\n",
      "24/05/09 18:26:09 WARN BlockManager: Block input-0-1715271969400 replicated to only 0 peer(s) instead of 1 peers\n",
      "                                                                                \r"
     ]
    },
    {
     "name": "stdout",
     "output_type": "stream",
     "text": [
      "========= 2024-05-09 18:26:10 =========\n",
      "+--------+--------+-------------------+---------+-------------------+--------------------+--------------------+--------------------+--------------------+-------------+-----+--------+-----------+-----------+--------------+---------------------+--------------+-------------+--------------------+--------------------+--------------------+----------+\n",
      "|     aid|comments|             domain|frontpage|          posted_at|         source_text|        source_title|               title|                 url|         user|votes|isShowHN|time_of_day|day_of_week|num_col_vector|scaled_num_col_vector|isShowHN_index| isShowHN_OHE|final_feature_vector|       rawPrediction|         probability|prediction|\n",
      "+--------+--------+-------------------+---------+-------------------+--------------------+--------------------+--------------------+--------------------+-------------+-----+--------+-----------+-----------+--------------+---------------------+--------------+-------------+--------------------+--------------------+--------------------+----------+\n",
      "|40306300|       0|       newsweek.com|     true|2024-05-09 08:25:32|YouTube Accused o...|YouTube accused o...|YouTube Accused o...|https://www.newsw...|      gadzair|    7|       0|         08|          4|     [7.0,0.0]| [0.44338312605353...|           0.0|(1,[0],[1.0])|[0.44338312605353...|[1.50965308981108...|[0.81900978908580...|       0.0|\n",
      "|40306308|       0|     techcrunch.com|    false|2024-05-09 08:26:58|TechCrunch is par...|TechCrunch is par...|Google DeepMind d...|https://techcrunc...|unripe_syntax|    1|       0|         08|          4|     [1.0,0.0]| [-0.2873043126221...|           0.0|(1,[0],[1.0])|[-0.2873043126221...|[2.01663038086725...|[0.88253213354267...|       0.0|\n",
      "|40306317|       0|mateusguimaraes.com|    false|2024-05-09 08:29:01|Scaling Laravel t...|Scaling Laravel t...|Scaling Laravel t...|https://mateusgui...|   amalinovic|    1|       0|         08|          4|     [1.0,0.0]| [-0.2873043126221...|           0.0|(1,[0],[1.0])|[-0.2873043126221...|[2.01663038086725...|[0.88253213354267...|       0.0|\n",
      "|40306318|       0|   googlesource.com|    false|2024-05-09 08:30:19|third_party/blink...|third_party/blink...|Chromium: Blink: ...|https://chromium....|        unlog|    1|       0|         08|          4|     [1.0,0.0]| [-0.2873043126221...|           0.0|(1,[0],[1.0])|[-0.2873043126221...|[2.01663038086725...|[0.88253213354267...|       0.0|\n",
      "+--------+--------+-------------------+---------+-------------------+--------------------+--------------------+--------------------+--------------------+-------------+-----+--------+-----------+-----------+--------------+---------------------+--------------+-------------+--------------------+--------------------+--------------------+----------+\n",
      "\n"
     ]
    },
    {
     "name": "stderr",
     "output_type": "stream",
     "text": [
      "24/05/09 18:26:13 WARN RandomBlockReplicationPolicy: Expecting 1 replicas with only 0 peer/s.\n",
      "24/05/09 18:26:13 WARN BlockManager: Block input-0-1715271973600 replicated to only 0 peer(s) instead of 1 peers\n",
      "24/05/09 18:26:17 WARN RandomBlockReplicationPolicy: Expecting 1 replicas with only 0 peer/s.\n",
      "24/05/09 18:26:17 WARN BlockManager: Block input-0-1715271977400 replicated to only 0 peer(s) instead of 1 peers\n",
      "24/05/09 18:26:18 WARN RandomBlockReplicationPolicy: Expecting 1 replicas with only 0 peer/s.\n",
      "24/05/09 18:26:18 WARN BlockManager: Block input-0-1715271978400 replicated to only 0 peer(s) instead of 1 peers\n",
      "24/05/09 18:26:19 WARN RandomBlockReplicationPolicy: Expecting 1 replicas with only 0 peer/s.\n",
      "24/05/09 18:26:19 WARN BlockManager: Block input-0-1715271979400 replicated to only 0 peer(s) instead of 1 peers\n",
      "                                                                                \r"
     ]
    },
    {
     "name": "stdout",
     "output_type": "stream",
     "text": [
      "========= 2024-05-09 18:26:20 =========\n"
     ]
    },
    {
     "name": "stderr",
     "output_type": "stream",
     "text": [
      "24/05/09 18:26:20 WARN RandomBlockReplicationPolicy: Expecting 1 replicas with only 0 peer/s.\n",
      "24/05/09 18:26:20 WARN BlockManager: Block input-0-1715271980400 replicated to only 0 peer(s) instead of 1 peers\n"
     ]
    },
    {
     "name": "stdout",
     "output_type": "stream",
     "text": [
      "+--------+--------+-------------------+---------+-------------------+--------------------+--------------------+--------------------+--------------------+--------------+-----+--------+-----------+-----------+--------------+---------------------+--------------+-------------+--------------------+--------------------+--------------------+----------+\n",
      "|     aid|comments|             domain|frontpage|          posted_at|         source_text|        source_title|               title|                 url|          user|votes|isShowHN|time_of_day|day_of_week|num_col_vector|scaled_num_col_vector|isShowHN_index| isShowHN_OHE|final_feature_vector|       rawPrediction|         probability|prediction|\n",
      "+--------+--------+-------------------+---------+-------------------+--------------------+--------------------+--------------------+--------------------+--------------+-----+--------+-----------+-----------+--------------+---------------------+--------------+-------------+--------------------+--------------------+--------------------+----------+\n",
      "|40306320|       0|lexingtonthemes.com|    false|2024-05-09 08:30:40|How to create a 3...|How to create a 3...|How to create a 3...|https://lexington...|Mike_Andreuzza|    1|       0|         08|          4|     [1.0,0.0]| [-0.2873043126221...|           0.0|(1,[0],[1.0])|[-0.2873043126221...|[2.01663038086725...|[0.88253213354267...|       0.0|\n",
      "|40306335|       0|      spraybeta.app|    false|2024-05-09 08:35:26|### Ascend with S...|                NULL|Seeking Feedback ...|https://spraybeta...|khan_nurdaulet|    1|       0|         08|          4|     [1.0,0.0]| [-0.2873043126221...|           0.0|(1,[0],[1.0])|[-0.2873043126221...|[2.01663038086725...|[0.88253213354267...|       0.0|\n",
      "|40306341|       0|      catswetel.com|    false|2024-05-09 08:36:43|An extended subtw...|An extended subtw...|An Extended Subtw...|https://catswetel...|  adrianhoward|    1|       0|         08|          4|     [1.0,0.0]| [-0.2873043126221...|           0.0|(1,[0],[1.0])|[-0.2873043126221...|[2.01663038086725...|[0.88253213354267...|       0.0|\n",
      "|40306344|       0|      squadcast.com|    false|2024-05-09 08:37:21|Runbook Template:...|Runbook Template:...|Runbook Template:...|https://www.squad...|       chitraa|    1|       0|         08|          4|     [1.0,0.0]| [-0.2873043126221...|           0.0|(1,[0],[1.0])|[-0.2873043126221...|[2.01663038086725...|[0.88253213354267...|       0.0|\n",
      "+--------+--------+-------------------+---------+-------------------+--------------------+--------------------+--------------------+--------------------+--------------+-----+--------+-----------+-----------+--------------+---------------------+--------------+-------------+--------------------+--------------------+--------------------+----------+\n",
      "\n"
     ]
    },
    {
     "name": "stderr",
     "output_type": "stream",
     "text": [
      "24/05/09 18:26:24 WARN RandomBlockReplicationPolicy: Expecting 1 replicas with only 0 peer/s.\n",
      "24/05/09 18:26:24 WARN BlockManager: Block input-0-1715271984400 replicated to only 0 peer(s) instead of 1 peers\n",
      "24/05/09 18:26:25 WARN RandomBlockReplicationPolicy: Expecting 1 replicas with only 0 peer/s.\n",
      "24/05/09 18:26:25 WARN BlockManager: Block input-0-1715271985600 replicated to only 0 peer(s) instead of 1 peers\n",
      "24/05/09 18:26:28 WARN RandomBlockReplicationPolicy: Expecting 1 replicas with only 0 peer/s.\n",
      "24/05/09 18:26:28 WARN BlockManager: Block input-0-1715271988600 replicated to only 0 peer(s) instead of 1 peers\n",
      "24/05/09 18:26:30 WARN RandomBlockReplicationPolicy: Expecting 1 replicas with only 0 peer/s.\n",
      "24/05/09 18:26:30 WARN BlockManager: Block input-0-1715271989800 replicated to only 0 peer(s) instead of 1 peers\n",
      "                                                                                \r"
     ]
    },
    {
     "name": "stdout",
     "output_type": "stream",
     "text": [
      "========= 2024-05-09 18:26:30 =========\n",
      "+--------+--------+----------------+---------+-------------------+--------------------+--------------------+--------------------+--------------------+----------+-----+--------+-----------+-----------+--------------+---------------------+--------------+-------------+--------------------+--------------------+--------------------+----------+\n",
      "|     aid|comments|          domain|frontpage|          posted_at|         source_text|        source_title|               title|                 url|      user|votes|isShowHN|time_of_day|day_of_week|num_col_vector|scaled_num_col_vector|isShowHN_index| isShowHN_OHE|final_feature_vector|       rawPrediction|         probability|prediction|\n",
      "+--------+--------+----------------+---------+-------------------+--------------------+--------------------+--------------------+--------------------+----------+-----+--------+-----------+-----------+--------------+---------------------+--------------+-------------+--------------------+--------------------+--------------------+----------+\n",
      "|40306351|       0|avivbenyosef.com|    false|2024-05-09 08:40:00|Retrospecting Ret...|Retrospecting Ret...|Retrospecting Ret...|https://avivbenyo...|    avivby|    1|       0|         08|          4|     [1.0,0.0]| [-0.2873043126221...|           0.0|(1,[0],[1.0])|[-0.2873043126221...|[2.01663038086725...|[0.88253213354267...|       0.0|\n",
      "|40306352|       6|        cr.yp.to|     true|2024-05-09 08:40:27|D. J. Bernstein T...|                NULL|UTC, Tai, and Uni...|https://cr.yp.to/...|       enz|   20|       0|         08|          4|    [20.0,6.0]| [2.02653924318414...|           0.0|(1,[0],[1.0])|[2.02653924318414...|[0.41120229252271...|[0.60137613097313...|       0.0|\n",
      "|40306371|       0| restofworld.org|    false|2024-05-09 08:46:30|Singapore writers...|Writers and publi...|Singapore writers...|https://restofwor...|aspenmayer|    1|       0|         08|          4|     [1.0,0.0]| [-0.2873043126221...|           0.0|(1,[0],[1.0])|[-0.2873043126221...|[2.01663038086725...|[0.88253213354267...|       0.0|\n",
      "|40306374|       0|      reddit.com|     true|2024-05-09 08:46:46|Blocked\\n\\n# whoa...|             Blocked|Most to least com...|https://old.reddi...|     lnyan|    5|       0|         08|          4|     [5.0,0.0]| [0.19982064649497...|           0.0|(1,[0],[1.0])|[0.19982064649497...|[1.67864552016314...|[0.84272509234466...|       0.0|\n",
      "+--------+--------+----------------+---------+-------------------+--------------------+--------------------+--------------------+--------------------+----------+-----+--------+-----------+-----------+--------------+---------------------+--------------+-------------+--------------------+--------------------+--------------------+----------+\n",
      "\n"
     ]
    },
    {
     "name": "stderr",
     "output_type": "stream",
     "text": [
      "24/05/09 18:26:30 WARN RandomBlockReplicationPolicy: Expecting 1 replicas with only 0 peer/s.\n",
      "24/05/09 18:26:30 WARN BlockManager: Block input-0-1715271990600 replicated to only 0 peer(s) instead of 1 peers\n",
      "24/05/09 18:26:33 WARN RandomBlockReplicationPolicy: Expecting 1 replicas with only 0 peer/s.\n",
      "24/05/09 18:26:33 WARN BlockManager: Block input-0-1715271993000 replicated to only 0 peer(s) instead of 1 peers\n",
      "24/05/09 18:26:33 WARN RandomBlockReplicationPolicy: Expecting 1 replicas with only 0 peer/s.\n",
      "24/05/09 18:26:33 WARN BlockManager: Block input-0-1715271993600 replicated to only 0 peer(s) instead of 1 peers\n",
      "24/05/09 18:26:35 WARN RandomBlockReplicationPolicy: Expecting 1 replicas with only 0 peer/s.\n",
      "24/05/09 18:26:35 WARN BlockManager: Block input-0-1715271995600 replicated to only 0 peer(s) instead of 1 peers\n",
      "                                                                                \r"
     ]
    },
    {
     "name": "stdout",
     "output_type": "stream",
     "text": [
      "========= 2024-05-09 18:26:40 =========\n",
      "+--------+--------+--------------------+---------+-------------------+--------------------+--------------------+--------------------+--------------------+------------+-----+--------+-----------+-----------+--------------+---------------------+--------------+-------------+--------------------+--------------------+--------------------+----------+\n",
      "|     aid|comments|              domain|frontpage|          posted_at|         source_text|        source_title|               title|                 url|        user|votes|isShowHN|time_of_day|day_of_week|num_col_vector|scaled_num_col_vector|isShowHN_index| isShowHN_OHE|final_feature_vector|       rawPrediction|         probability|prediction|\n",
      "+--------+--------+--------------------+---------+-------------------+--------------------+--------------------+--------------------+--------------------+------------+-----+--------+-----------+-----------+--------------+---------------------+--------------+-------------+--------------------+--------------------+--------------------+----------+\n",
      "|40306386|       0|             uly.app|    false|2024-05-09 08:50:56|ULY - Journal mob...|A journaling app ...|Show HN: A minima...|    https://uly.app/|    macfleid|    1|       1|         08|          4|     [1.0,0.0]| [-0.2873043126221...|           1.0|    (1,[],[])|[-0.2873043126221...|[2.01663038086725...|[0.88253213354267...|       0.0|\n",
      "|40306405|       0|        slissner.com|    false|2024-05-09 08:54:41|The right abstrac...|The right abstrac...|The right abstrac...|https://slissner....|    slissner|    1|       0|         08|          4|     [1.0,0.0]| [-0.2873043126221...|           0.0|(1,[0],[1.0])|[-0.2873043126221...|[2.01663038086725...|[0.88253213354267...|       0.0|\n",
      "|40306410|       0|github.com/glanceapp|    false|2024-05-09 08:55:49|GitHub - glanceap...|GitHub - glanceap...|A self-hosted das...|https://github.co...|todsacerdoti|    1|       0|         08|          4|     [1.0,0.0]| [-0.2873043126221...|           0.0|(1,[0],[1.0])|[-0.2873043126221...|[2.01663038086725...|[0.88253213354267...|       0.0|\n",
      "|40306414|       0|         youtube.com|    false|2024-05-09 08:56:37|Crush! | iPad Pro...|Crush! | iPad Pro...|Crush – iPad Pro ...|https://www.youtu...|       frans|    1|       0|         08|          4|     [1.0,0.0]| [-0.2873043126221...|           0.0|(1,[0],[1.0])|[-0.2873043126221...|[2.01663038086725...|[0.88253213354267...|       0.0|\n",
      "|40306426|       0|             cnn.com|     true|2024-05-09 08:59:09|edition.cnn.com\\n...|     edition.cnn.com|Mysterious iron p...|https://www.cnn.c...|priyankanath|    5|       0|         08|          4|     [5.0,0.0]| [0.19982064649497...|           0.0|(1,[0],[1.0])|[0.19982064649497...|[1.67864552016314...|[0.84272509234466...|       0.0|\n",
      "+--------+--------+--------------------+---------+-------------------+--------------------+--------------------+--------------------+--------------------+------------+-----+--------+-----------+-----------+--------------+---------------------+--------------+-------------+--------------------+--------------------+--------------------+----------+\n",
      "\n"
     ]
    },
    {
     "name": "stderr",
     "output_type": "stream",
     "text": [
      "24/05/09 18:27:40 WARN RandomBlockReplicationPolicy: Expecting 1 replicas with only 0 peer/s.\n",
      "24/05/09 18:27:40 WARN BlockManager: Block input-0-1715272060600 replicated to only 0 peer(s) instead of 1 peers\n",
      "24/05/09 18:27:43 WARN RandomBlockReplicationPolicy: Expecting 1 replicas with only 0 peer/s.\n",
      "24/05/09 18:27:43 WARN BlockManager: Block input-0-1715272063600 replicated to only 0 peer(s) instead of 1 peers\n",
      "24/05/09 18:27:46 WARN RandomBlockReplicationPolicy: Expecting 1 replicas with only 0 peer/s.\n",
      "24/05/09 18:27:46 WARN BlockManager: Block input-0-1715272065800 replicated to only 0 peer(s) instead of 1 peers\n",
      "24/05/09 18:27:50 WARN RandomBlockReplicationPolicy: Expecting 1 replicas with only 0 peer/s.\n",
      "24/05/09 18:27:50 WARN BlockManager: Block input-0-1715272069800 replicated to only 0 peer(s) instead of 1 peers\n",
      "                                                                                \r"
     ]
    },
    {
     "name": "stdout",
     "output_type": "stream",
     "text": [
      "========= 2024-05-09 18:27:50 =========\n",
      "+--------+--------+--------------------+---------+-------------------+--------------------+--------------------+--------------------+--------------------+-------------+-----+--------+-----------+-----------+--------------+---------------------+--------------+-------------+--------------------+--------------------+--------------------+----------+\n",
      "|     aid|comments|              domain|frontpage|          posted_at|         source_text|        source_title|               title|                 url|         user|votes|isShowHN|time_of_day|day_of_week|num_col_vector|scaled_num_col_vector|isShowHN_index| isShowHN_OHE|final_feature_vector|       rawPrediction|         probability|prediction|\n",
      "+--------+--------+--------------------+---------+-------------------+--------------------+--------------------+--------------------+--------------------+-------------+-----+--------+-----------+-----------+--------------+---------------------+--------------+-------------+--------------------+--------------------+--------------------+----------+\n",
      "|40306443|       0|twitter.com/tim_cook|    false|2024-05-09 09:04:11|X\\n\\nDon’t miss w...|                   X|Tim Cook on X: \"M...|https://twitter.c...|        frans|    1|       0|         09|          4|     [1.0,0.0]| [-0.2873043126221...|           0.0|(1,[0],[1.0])|[-0.2873043126221...|[2.01663038086725...|[0.88253213354267...|       0.0|\n",
      "|40306449|       6|         libyear.com|     true|2024-05-09 09:05:31|libyear\\n\\n# liby...|             libyear|             Libyear|https://libyear.com/|    Crier1002|   36|       0|         09|          4|    [36.0,6.0]| [3.97503907965259...|           0.0|(1,[0],[1.0])|[3.97503907965259...|[-0.9407371502937...|[0.28075146571106...|       1.0|\n",
      "|40306463|       0|       lovehindpa.ws|     true|2024-05-09 09:08:06|Xilinx HBM2 Inter...|Xilinx HBM2 Inter...|Xilinx HBM2 Inter...|https://lovehindp...|    hasheddan|    4|       0|         09|          4|     [4.0,0.0]| [0.07803940671570...|           0.0|(1,[0],[1.0])|[0.07803940671570...|[1.76314173533917...|[0.85360270387601...|       0.0|\n",
      "|40306471|       0|marketingmatrix.club|    false|2024-05-09 09:10:11|Marketing Matrix\\...|    Marketing Matrix|Made a list of ma...|https://www.marke...|adib_zouiten1|    1|       0|         09|          4|     [1.0,0.0]| [-0.2873043126221...|           0.0|(1,[0],[1.0])|[-0.2873043126221...|[2.01663038086725...|[0.88253213354267...|       0.0|\n",
      "+--------+--------+--------------------+---------+-------------------+--------------------+--------------------+--------------------+--------------------+-------------+-----+--------+-----------+-----------+--------------+---------------------+--------------+-------------+--------------------+--------------------+--------------------+----------+\n",
      "\n"
     ]
    },
    {
     "name": "stderr",
     "output_type": "stream",
     "text": [
      "24/05/09 18:27:52 WARN RandomBlockReplicationPolicy: Expecting 1 replicas with only 0 peer/s.\n",
      "24/05/09 18:27:52 WARN BlockManager: Block input-0-1715272071800 replicated to only 0 peer(s) instead of 1 peers\n",
      "24/05/09 18:27:53 WARN RandomBlockReplicationPolicy: Expecting 1 replicas with only 0 peer/s.\n",
      "24/05/09 18:27:53 WARN BlockManager: Block input-0-1715272072800 replicated to only 0 peer(s) instead of 1 peers\n",
      "24/05/09 18:27:55 WARN RandomBlockReplicationPolicy: Expecting 1 replicas with only 0 peer/s.\n",
      "24/05/09 18:27:55 WARN BlockManager: Block input-0-1715272074800 replicated to only 0 peer(s) instead of 1 peers\n",
      "24/05/09 18:27:58 WARN RandomBlockReplicationPolicy: Expecting 1 replicas with only 0 peer/s.\n",
      "24/05/09 18:27:58 WARN BlockManager: Block input-0-1715272077800 replicated to only 0 peer(s) instead of 1 peers\n",
      "24/05/09 18:28:00 WARN RandomBlockReplicationPolicy: Expecting 1 replicas with only 0 peer/s.\n",
      "24/05/09 18:28:00 WARN BlockManager: Block input-0-1715272079800 replicated to only 0 peer(s) instead of 1 peers\n",
      "                                                                                \r"
     ]
    },
    {
     "name": "stdout",
     "output_type": "stream",
     "text": [
      "========= 2024-05-09 18:28:00 =========\n",
      "+--------+--------+--------------------+---------+-------------------+--------------------+--------------------+--------------------+--------------------+-----------+-----+--------+-----------+-----------+--------------+---------------------+--------------+-------------+--------------------+--------------------+--------------------+----------+\n",
      "|     aid|comments|              domain|frontpage|          posted_at|         source_text|        source_title|               title|                 url|       user|votes|isShowHN|time_of_day|day_of_week|num_col_vector|scaled_num_col_vector|isShowHN_index| isShowHN_OHE|final_feature_vector|       rawPrediction|         probability|prediction|\n",
      "+--------+--------+--------------------+---------+-------------------+--------------------+--------------------+--------------------+--------------------+-----------+-----+--------+-----------+-----------+--------------+---------------------+--------------+-------------+--------------------+--------------------+--------------------+----------+\n",
      "|40306476|       0|              si.edu|    false|2024-05-09 09:10:53|The Real Technolo...|The Real Technolo...|The Technology Be...|https://airandspa...|    rbanffy|    1|       0|         09|          4|     [1.0,0.0]| [-0.2873043126221...|           0.0|(1,[0],[1.0])|[-0.2873043126221...|[2.01663038086725...|[0.88253213354267...|       0.0|\n",
      "|40306487|       0|              ft.com|    false|2024-05-09 09:15:07|Too scared to qui...|                NULL|Too scared to qui...|https://www.ft.co...|   Turukawa|    1|       0|         09|          4|     [1.0,0.0]| [-0.2873043126221...|           0.0|(1,[0],[1.0])|[-0.2873043126221...|[2.01663038086725...|[0.88253213354267...|       0.0|\n",
      "|40306490|       0|            toot.cat|     true|2024-05-09 09:15:28|Toot.Cat\\n\\nCreat...|Arne Brasseur (@p...|In software archi...|https://toot.cat/...|   rglullis|    3|       0|         09|          4|     [3.0,0.0]| [-0.0437418330635...|           0.0|(1,[0],[1.0])|[-0.0437418330635...|[1.84763795051520...|[0.86384953272383...|       0.0|\n",
      "|40306492|       0|medium.com/ravi.g...|    false|2024-05-09 09:15:43|Just a moment...\\...|    Just a moment...|Alleged Zscaler D...|https://medium.co...|raviguptadi|    2|       0|         09|          4|     [2.0,0.0]| [-0.1655230728428...|           0.0|(1,[0],[1.0])|[-0.1655230728428...|[1.93213416569122...|[0.87348545162431...|       0.0|\n",
      "+--------+--------+--------------------+---------+-------------------+--------------------+--------------------+--------------------+--------------------+-----------+-----+--------+-----------+-----------+--------------+---------------------+--------------+-------------+--------------------+--------------------+--------------------+----------+\n",
      "\n"
     ]
    },
    {
     "name": "stderr",
     "output_type": "stream",
     "text": [
      "24/05/09 18:28:03 WARN RandomBlockReplicationPolicy: Expecting 1 replicas with only 0 peer/s.\n",
      "24/05/09 18:28:03 WARN BlockManager: Block input-0-1715272082800 replicated to only 0 peer(s) instead of 1 peers\n",
      "24/05/09 18:28:04 WARN RandomBlockReplicationPolicy: Expecting 1 replicas with only 0 peer/s.\n",
      "24/05/09 18:28:04 WARN BlockManager: Block input-0-1715272083800 replicated to only 0 peer(s) instead of 1 peers\n",
      "24/05/09 18:28:06 WARN RandomBlockReplicationPolicy: Expecting 1 replicas with only 0 peer/s.\n",
      "24/05/09 18:28:06 WARN BlockManager: Block input-0-1715272086000 replicated to only 0 peer(s) instead of 1 peers\n",
      "                                                                                \r"
     ]
    },
    {
     "name": "stdout",
     "output_type": "stream",
     "text": [
      "========= 2024-05-09 18:28:10 =========\n",
      "+--------+--------+--------------------+---------+-------------------+--------------------+--------------------+--------------------+--------------------+-------------+-----+--------+-----------+-----------+--------------+---------------------+--------------+-------------+--------------------+--------------------+--------------------+----------+\n",
      "|     aid|comments|              domain|frontpage|          posted_at|         source_text|        source_title|               title|                 url|         user|votes|isShowHN|time_of_day|day_of_week|num_col_vector|scaled_num_col_vector|isShowHN_index| isShowHN_OHE|final_feature_vector|       rawPrediction|         probability|prediction|\n",
      "+--------+--------+--------------------+---------+-------------------+--------------------+--------------------+--------------------+--------------------+-------------+-----+--------+-----------+-----------+--------------+---------------------+--------------+-------------+--------------------+--------------------+--------------------+----------+\n",
      "|40306499|       0|marketingmatrix.club|    false|2024-05-09 09:17:43|Marketing Guide: ...|Marketing Guide: ...|Marketing Guide: ...|https://www.marke...|adib_zouiten1|    2|       0|         09|          4|     [2.0,0.0]| [-0.1655230728428...|           0.0|(1,[0],[1.0])|[-0.1655230728428...|[1.93213416569122...|[0.87348545162431...|       0.0|\n",
      "|40306514|       0|        statnews.com|    false|2024-05-09 09:21:48|Bird flu outbreak...|Bird flu keeps re...|Scientists are un...|https://www.statn...|     vo2maxer|    2|       0|         09|          4|     [2.0,0.0]| [-0.1655230728428...|           0.0|(1,[0],[1.0])|[-0.1655230728428...|[1.93213416569122...|[0.87348545162431...|       0.0|\n",
      "|40306552|       0|        codahale.com|    false|2024-05-09 09:30:21|Work Is Work | co...|        Work Is Work| Work Is Work (2020)|https://codahale....|  thunderbong|    1|       0|         09|          4|     [1.0,0.0]| [-0.2873043126221...|           0.0|(1,[0],[1.0])|[-0.2873043126221...|[2.01663038086725...|[0.88253213354267...|       0.0|\n",
      "|40306563|       0|github.com/jhspet...|    false|2024-05-09 09:33:42|GitHub - jhspeter...|GitHub - jhspeter...|Packrat – Gathere...|https://github.co...|        jhspt|    1|       0|         09|          4|     [1.0,0.0]| [-0.2873043126221...|           0.0|(1,[0],[1.0])|[-0.2873043126221...|[2.01663038086725...|[0.88253213354267...|       0.0|\n",
      "+--------+--------+--------------------+---------+-------------------+--------------------+--------------------+--------------------+--------------------+-------------+-----+--------+-----------+-----------+--------------+---------------------+--------------+-------------+--------------------+--------------------+--------------------+----------+\n",
      "\n"
     ]
    },
    {
     "name": "stderr",
     "output_type": "stream",
     "text": [
      "24/05/09 18:28:11 WARN RandomBlockReplicationPolicy: Expecting 1 replicas with only 0 peer/s.\n",
      "24/05/09 18:28:11 WARN BlockManager: Block input-0-1715272091000 replicated to only 0 peer(s) instead of 1 peers\n",
      "24/05/09 18:28:12 WARN RandomBlockReplicationPolicy: Expecting 1 replicas with only 0 peer/s.\n",
      "24/05/09 18:28:12 WARN BlockManager: Block input-0-1715272092400 replicated to only 0 peer(s) instead of 1 peers\n",
      "24/05/09 18:28:16 WARN RandomBlockReplicationPolicy: Expecting 1 replicas with only 0 peer/s.\n",
      "24/05/09 18:28:16 WARN BlockManager: Block input-0-1715272096000 replicated to only 0 peer(s) instead of 1 peers\n",
      "                                                                                \r"
     ]
    },
    {
     "name": "stdout",
     "output_type": "stream",
     "text": [
      "========= 2024-05-09 18:28:20 =========\n",
      "+--------+--------+--------------------+---------+-------------------+--------------------+--------------------+--------------------+--------------------+----------+-----+--------+-----------+-----------+--------------+---------------------+--------------+-------------+--------------------+--------------------+--------------------+----------+\n",
      "|     aid|comments|              domain|frontpage|          posted_at|         source_text|        source_title|               title|                 url|      user|votes|isShowHN|time_of_day|day_of_week|num_col_vector|scaled_num_col_vector|isShowHN_index| isShowHN_OHE|final_feature_vector|       rawPrediction|         probability|prediction|\n",
      "+--------+--------+--------------------+---------+-------------------+--------------------+--------------------+--------------------+--------------------+----------+-----+--------+-----------+-----------+--------------+---------------------+--------------+-------------+--------------------+--------------------+--------------------+----------+\n",
      "|40306565|       0|         unicode.org|    false|2024-05-09 09:33:45|                \\n\\n|                NULL|A survey of non-X...|https://www.unico...| aragonite|    1|       0|         09|          4|     [1.0,0.0]| [-0.2873043126221...|           0.0|(1,[0],[1.0])|[-0.2873043126221...|[2.01663038086725...|[0.88253213354267...|       0.0|\n",
      "|40306567|       0|     theregister.com|     true|2024-05-09 09:34:14|Experimental remi...|Experimental remi...|Experimental Ubun...|https://www.there...|   lproven|    3|       0|         09|          4|     [3.0,0.0]| [-0.0437418330635...|           0.0|(1,[0],[1.0])|[-0.0437418330635...|[1.84763795051520...|[0.86384953272383...|       0.0|\n",
      "|40306568|       0|twitter.com/mykha...|     true|2024-05-09 09:34:23|X\\n\\nDon’t miss w...|                   X|Machine gun hexac...|https://twitter.c...|candiodari|    5|       0|         09|          4|     [5.0,0.0]| [0.19982064649497...|           0.0|(1,[0],[1.0])|[0.19982064649497...|[1.67864552016314...|[0.84272509234466...|       0.0|\n",
      "+--------+--------+--------------------+---------+-------------------+--------------------+--------------------+--------------------+--------------------+----------+-----+--------+-----------+-----------+--------------+---------------------+--------------+-------------+--------------------+--------------------+--------------------+----------+\n",
      "\n"
     ]
    },
    {
     "name": "stderr",
     "output_type": "stream",
     "text": [
      "24/05/09 18:28:21 WARN RandomBlockReplicationPolicy: Expecting 1 replicas with only 0 peer/s.\n",
      "24/05/09 18:28:21 WARN BlockManager: Block input-0-1715272101200 replicated to only 0 peer(s) instead of 1 peers\n",
      "24/05/09 18:28:24 WARN RandomBlockReplicationPolicy: Expecting 1 replicas with only 0 peer/s.\n",
      "24/05/09 18:28:24 WARN BlockManager: Block input-0-1715272104000 replicated to only 0 peer(s) instead of 1 peers\n",
      "24/05/09 18:28:26 WARN RandomBlockReplicationPolicy: Expecting 1 replicas with only 0 peer/s.\n",
      "24/05/09 18:28:26 WARN BlockManager: Block input-0-1715272106400 replicated to only 0 peer(s) instead of 1 peers\n",
      "                                                                                \r"
     ]
    },
    {
     "name": "stdout",
     "output_type": "stream",
     "text": [
      "========= 2024-05-09 18:28:30 =========\n"
     ]
    },
    {
     "name": "stderr",
     "output_type": "stream",
     "text": [
      "24/05/09 18:28:30 WARN RandomBlockReplicationPolicy: Expecting 1 replicas with only 0 peer/s.\n",
      "24/05/09 18:28:30 WARN BlockManager: Block input-0-1715272110200 replicated to only 0 peer(s) instead of 1 peers\n"
     ]
    },
    {
     "name": "stdout",
     "output_type": "stream",
     "text": [
      "+--------+--------+--------------------+---------+-------------------+--------------------+--------------------+--------------------+--------------------+--------+-----+--------+-----------+-----------+--------------+---------------------+--------------+-------------+--------------------+--------------------+--------------------+----------+\n",
      "|     aid|comments|              domain|frontpage|          posted_at|         source_text|        source_title|               title|                 url|    user|votes|isShowHN|time_of_day|day_of_week|num_col_vector|scaled_num_col_vector|isShowHN_index| isShowHN_OHE|final_feature_vector|       rawPrediction|         probability|prediction|\n",
      "+--------+--------+--------------------+---------+-------------------+--------------------+--------------------+--------------------+--------------------+--------+-----+--------+-----------+-----------+--------------+---------------------+--------------+-------------+--------------------+--------------------+--------------------+----------+\n",
      "|40306576|       3| arnabg.substack.com|     true|2024-05-09 09:36:05|The loneliness ep...|The loneliness ep...|For You, but Fore...|https://arnabg.su...|arnabgho|   10|       0|         09|          4|    [10.0,3.0]| [0.80872684539136...|           0.0|(1,[0],[1.0])|[0.80872684539136...|[1.25616444428300...|[0.77836513164298...|       0.0|\n",
      "|40306589|       0|            aran.dev|    false|2024-05-09 09:39:07|using golang's cr...|using golang's cr...|Using Golang's cr...|https://aran.dev/...|   aranw|    1|       0|         09|          4|     [1.0,0.0]| [-0.2873043126221...|           0.0|(1,[0],[1.0])|[-0.2873043126221...|[2.01663038086725...|[0.88253213354267...|       0.0|\n",
      "|40306601|       0|github.com/synodi...|    false|2024-05-09 09:43:21|GitHub - SynodicM...|GitHub - SynodicM...|ChebyKAN: Kolmogo...|https://github.co...|   lnyan|    1|       0|         09|          4|     [1.0,0.0]| [-0.2873043126221...|           0.0|(1,[0],[1.0])|[-0.2873043126221...|[2.01663038086725...|[0.88253213354267...|       0.0|\n",
      "+--------+--------+--------------------+---------+-------------------+--------------------+--------------------+--------------------+--------------------+--------+-----+--------+-----------+-----------+--------------+---------------------+--------------+-------------+--------------------+--------------------+--------------------+----------+\n",
      "\n"
     ]
    },
    {
     "name": "stderr",
     "output_type": "stream",
     "text": [
      "24/05/09 18:28:35 WARN RandomBlockReplicationPolicy: Expecting 1 replicas with only 0 peer/s.\n",
      "24/05/09 18:28:35 WARN BlockManager: Block input-0-1715272114800 replicated to only 0 peer(s) instead of 1 peers\n",
      "24/05/09 18:28:37 WARN RandomBlockReplicationPolicy: Expecting 1 replicas with only 0 peer/s.\n",
      "24/05/09 18:28:37 WARN BlockManager: Block input-0-1715272117200 replicated to only 0 peer(s) instead of 1 peers\n",
      "24/05/09 18:28:39 WARN RandomBlockReplicationPolicy: Expecting 1 replicas with only 0 peer/s.\n",
      "24/05/09 18:28:39 WARN BlockManager: Block input-0-1715272119200 replicated to only 0 peer(s) instead of 1 peers\n",
      "                                                                                \r"
     ]
    },
    {
     "name": "stdout",
     "output_type": "stream",
     "text": [
      "========= 2024-05-09 18:28:40 =========\n",
      "+--------+--------+--------------------+---------+-------------------+--------------------+--------------------+--------------------+--------------------+---------+-----+--------+-----------+-----------+--------------+---------------------+--------------+-------------+--------------------+--------------------+--------------------+----------+\n",
      "|     aid|comments|              domain|frontpage|          posted_at|         source_text|        source_title|               title|                 url|     user|votes|isShowHN|time_of_day|day_of_week|num_col_vector|scaled_num_col_vector|isShowHN_index| isShowHN_OHE|final_feature_vector|       rawPrediction|         probability|prediction|\n",
      "+--------+--------+--------------------+---------+-------------------+--------------------+--------------------+--------------------+--------------------+---------+-----+--------+-----------+-----------+--------------+---------------------+--------------+-------------+--------------------+--------------------+--------------------+----------+\n",
      "|40306617|       0|     theguardian.com|     true|2024-05-09 09:47:00|World’s top clima...|World’s top clima...|Top climate scien...|https://www.thegu...|   luxpir|    6|       0|         09|          4|     [6.0,0.0]| [0.32160188627425...|           0.0|(1,[0],[1.0])|[0.32160188627425...|[1.59414930498711...|[0.83119908062018...|       0.0|\n",
      "|40306631|       0|    utcc.utoronto.ca|    false|2024-05-09 09:50:16|Chris's Wiki :: b...|Chris's Wiki :: b...|All configuration...|https://utcc.utor...|    ingve|    1|       0|         09|          4|     [1.0,0.0]| [-0.2873043126221...|           0.0|(1,[0],[1.0])|[-0.2873043126221...|[2.01663038086725...|[0.88253213354267...|       0.0|\n",
      "|40306641|       0|github.com/suhaotian|    false|2024-05-09 09:53:02|GitHub - suhaotia...|GitHub - suhaotia...|Xior.js: The Mode...|https://github.co...|jeremy_su|    1|       0|         09|          4|     [1.0,0.0]| [-0.2873043126221...|           0.0|(1,[0],[1.0])|[-0.2873043126221...|[2.01663038086725...|[0.88253213354267...|       0.0|\n",
      "|40306643|       0|         youtube.com|    false|2024-05-09 09:53:07|What If I Made Sh...|What If I Made Sh...|Creating CardWars...|https://www.youtu...| cl3misch|    1|       0|         09|          4|     [1.0,0.0]| [-0.2873043126221...|           0.0|(1,[0],[1.0])|[-0.2873043126221...|[2.01663038086725...|[0.88253213354267...|       0.0|\n",
      "+--------+--------+--------------------+---------+-------------------+--------------------+--------------------+--------------------+--------------------+---------+-----+--------+-----------+-----------+--------------+---------------------+--------------+-------------+--------------------+--------------------+--------------------+----------+\n",
      "\n"
     ]
    },
    {
     "name": "stderr",
     "output_type": "stream",
     "text": [
      "24/05/09 18:28:43 WARN RandomBlockReplicationPolicy: Expecting 1 replicas with only 0 peer/s.\n",
      "24/05/09 18:28:43 WARN BlockManager: Block input-0-1715272123400 replicated to only 0 peer(s) instead of 1 peers\n",
      "24/05/09 18:28:45 WARN RandomBlockReplicationPolicy: Expecting 1 replicas with only 0 peer/s.\n",
      "24/05/09 18:28:45 WARN BlockManager: Block input-0-1715272125600 replicated to only 0 peer(s) instead of 1 peers\n",
      "24/05/09 18:28:49 WARN RandomBlockReplicationPolicy: Expecting 1 replicas with only 0 peer/s.\n",
      "24/05/09 18:28:49 WARN BlockManager: Block input-0-1715272129200 replicated to only 0 peer(s) instead of 1 peers\n",
      "                                                                                \r"
     ]
    },
    {
     "name": "stdout",
     "output_type": "stream",
     "text": [
      "========= 2024-05-09 18:28:50 =========\n",
      "+--------+--------+---------------+---------+-------------------+--------------------+--------------------+--------------------+--------------------+------------+-----+--------+-----------+-----------+--------------+---------------------+--------------+-------------+--------------------+--------------------+--------------------+----------+\n",
      "|     aid|comments|         domain|frontpage|          posted_at|         source_text|        source_title|               title|                 url|        user|votes|isShowHN|time_of_day|day_of_week|num_col_vector|scaled_num_col_vector|isShowHN_index| isShowHN_OHE|final_feature_vector|       rawPrediction|         probability|prediction|\n",
      "+--------+--------+---------------+---------+-------------------+--------------------+--------------------+--------------------+--------------------+------------+-----+--------+-----------+-----------+--------------+---------------------+--------------+-------------+--------------------+--------------------+--------------------+----------+\n",
      "|40306671|       0|      retack.ai|    false|2024-05-09 09:58:17|Retack AI - Track...|Track & Monitor A...|Show HN: AI-Power...|   https://retack.ai|      psovit|    1|       1|         09|          4|     [1.0,0.0]| [-0.2873043126221...|           1.0|    (1,[],[])|[-0.2873043126221...|[2.01663038086725...|[0.88253213354267...|       0.0|\n",
      "|40306674|       0|theguardian.com|     true|2024-05-09 09:58:51|I discovered hydr...|I discovered hydr...|I discovered hydr...|https://www.thegu...|ZeroGravitas|    5|       0|         09|          4|     [5.0,0.0]| [0.19982064649497...|           0.0|(1,[0],[1.0])|[0.19982064649497...|[1.67864552016314...|[0.84272509234466...|       0.0|\n",
      "|40306675|       0|      nautil.us|    false|2024-05-09 09:59:12|The Story of Kepl...|Discovering the F...|Discovering the F...|https://nautil.us...|     dnetesn|    1|       0|         09|          4|     [1.0,0.0]| [-0.2873043126221...|           0.0|(1,[0],[1.0])|[-0.2873043126221...|[2.01663038086725...|[0.88253213354267...|       0.0|\n",
      "+--------+--------+---------------+---------+-------------------+--------------------+--------------------+--------------------+--------------------+------------+-----+--------+-----------+-----------+--------------+---------------------+--------------+-------------+--------------------+--------------------+--------------------+----------+\n",
      "\n"
     ]
    },
    {
     "name": "stderr",
     "output_type": "stream",
     "text": [
      "24/05/09 18:28:51 WARN RandomBlockReplicationPolicy: Expecting 1 replicas with only 0 peer/s.\n",
      "24/05/09 18:28:51 WARN BlockManager: Block input-0-1715272131200 replicated to only 0 peer(s) instead of 1 peers\n",
      "24/05/09 18:28:55 WARN RandomBlockReplicationPolicy: Expecting 1 replicas with only 0 peer/s.\n",
      "24/05/09 18:28:55 WARN BlockManager: Block input-0-1715272135400 replicated to only 0 peer(s) instead of 1 peers\n",
      "24/05/09 18:28:57 WARN RandomBlockReplicationPolicy: Expecting 1 replicas with only 0 peer/s.\n",
      "24/05/09 18:28:57 WARN BlockManager: Block input-0-1715272137400 replicated to only 0 peer(s) instead of 1 peers\n",
      "24/05/09 18:28:59 WARN RandomBlockReplicationPolicy: Expecting 1 replicas with only 0 peer/s.\n",
      "24/05/09 18:28:59 WARN BlockManager: Block input-0-1715272139200 replicated to only 0 peer(s) instead of 1 peers\n",
      "                                                                                \r"
     ]
    },
    {
     "name": "stdout",
     "output_type": "stream",
     "text": [
      "========= 2024-05-09 18:29:00 =========\n",
      "+--------+--------+-------------------+---------+-------------------+--------------------+--------------------+--------------------+--------------------+----------+-----+--------+-----------+-----------+--------------+---------------------+--------------+-------------+--------------------+--------------------+--------------------+----------+\n",
      "|     aid|comments|             domain|frontpage|          posted_at|         source_text|        source_title|               title|                 url|      user|votes|isShowHN|time_of_day|day_of_week|num_col_vector|scaled_num_col_vector|isShowHN_index| isShowHN_OHE|final_feature_vector|       rawPrediction|         probability|prediction|\n",
      "+--------+--------+-------------------+---------+-------------------+--------------------+--------------------+--------------------+--------------------+----------+-----+--------+-----------+-----------+--------------+---------------------+--------------+-------------+--------------------+--------------------+--------------------+----------+\n",
      "|40306685|       0|    pluralistic.net|    false|2024-05-09 10:02:00|Pluralistic: AI i...|Pluralistic: AI i...|         AI Is a WMD|https://pluralist...|   rbanffy|    1|       0|         10|          4|     [1.0,0.0]| [-0.2873043126221...|           0.0|(1,[0],[1.0])|[-0.2873043126221...|[2.01663038086725...|[0.88253213354267...|       0.0|\n",
      "|40306722|       0|          theins.ru|    false|2024-05-09 10:12:10|Kremlin botnet la...|Kremlin botnet la...|Kremlin botnet la...|https://theins.ru...|  aa_is_op|    1|       0|         10|          4|     [1.0,0.0]| [-0.2873043126221...|           0.0|(1,[0],[1.0])|[-0.2873043126221...|[2.01663038086725...|[0.88253213354267...|       0.0|\n",
      "|40306733|       0|siliconrepublic.com|    false|2024-05-09 10:13:51|Ofcom moves to pr...|Ofcom moves to pr...|Ofcom moves to pr...|https://www.silic...|   rbanffy|    1|       0|         10|          4|     [1.0,0.0]| [-0.2873043126221...|           0.0|(1,[0],[1.0])|[-0.2873043126221...|[2.01663038086725...|[0.88253213354267...|       0.0|\n",
      "|40306734|       0|        reuters.com|    false|2024-05-09 10:13:57|     reuters.com\\n\\n|         reuters.com|Google DeepMind u...|https://www.reute...|biscuit1v9|    1|       0|         10|          4|     [1.0,0.0]| [-0.2873043126221...|           0.0|(1,[0],[1.0])|[-0.2873043126221...|[2.01663038086725...|[0.88253213354267...|       0.0|\n",
      "+--------+--------+-------------------+---------+-------------------+--------------------+--------------------+--------------------+--------------------+----------+-----+--------+-----------+-----------+--------------+---------------------+--------------+-------------+--------------------+--------------------+--------------------+----------+\n",
      "\n"
     ]
    },
    {
     "name": "stderr",
     "output_type": "stream",
     "text": [
      "24/05/09 18:29:03 WARN RandomBlockReplicationPolicy: Expecting 1 replicas with only 0 peer/s.\n",
      "24/05/09 18:29:03 WARN BlockManager: Block input-0-1715272143400 replicated to only 0 peer(s) instead of 1 peers\n",
      "                                                                                \r"
     ]
    },
    {
     "name": "stdout",
     "output_type": "stream",
     "text": [
      "========= 2024-05-09 18:29:10 =========\n",
      "+--------+--------+-------+---------+-------------------+--------------------+---------------+--------------------+--------------------+-----------+-----+--------+-----------+-----------+--------------+---------------------+--------------+-------------+--------------------+--------------------+--------------------+----------+\n",
      "|     aid|comments| domain|frontpage|          posted_at|         source_text|   source_title|               title|                 url|       user|votes|isShowHN|time_of_day|day_of_week|num_col_vector|scaled_num_col_vector|isShowHN_index| isShowHN_OHE|final_feature_vector|       rawPrediction|         probability|prediction|\n",
      "+--------+--------+-------+---------+-------------------+--------------------+---------------+--------------------+--------------------+-----------+-----+--------+-----------+-----------+--------------+---------------------+--------------+-------------+--------------------+--------------------+--------------------+----------+\n",
      "|40306767|       0|cnn.com|     true|2024-05-09 10:23:18|edition.cnn.com\\n...|edition.cnn.com|Iran sentences re...|https://www.cnn.c...|thunderbong|   12|       0|         10|          4|    [12.0,0.0]| [1.05228932494992...|           0.0|(1,[0],[1.0])|[1.05228932494992...|[1.08717201393094...|[0.74784881942472...|       0.0|\n",
      "+--------+--------+-------+---------+-------------------+--------------------+---------------+--------------------+--------------------+-----------+-----+--------+-----------+-----------+--------------+---------------------+--------------+-------------+--------------------+--------------------+--------------------+----------+\n",
      "\n"
     ]
    },
    {
     "name": "stderr",
     "output_type": "stream",
     "text": [
      "24/05/09 18:30:08 WARN RandomBlockReplicationPolicy: Expecting 1 replicas with only 0 peer/s.\n",
      "24/05/09 18:30:08 WARN BlockManager: Block input-0-1715272208400 replicated to only 0 peer(s) instead of 1 peers\n",
      "                                                                                \r"
     ]
    },
    {
     "name": "stdout",
     "output_type": "stream",
     "text": [
      "========= 2024-05-09 18:30:10 =========\n",
      "+--------+--------+--------------+---------+-------------------+--------------------+--------------------+--------------------+--------------------+--------+-----+--------+-----------+-----------+--------------+---------------------+--------------+-------------+--------------------+--------------------+--------------------+----------+\n",
      "|     aid|comments|        domain|frontpage|          posted_at|         source_text|        source_title|               title|                 url|    user|votes|isShowHN|time_of_day|day_of_week|num_col_vector|scaled_num_col_vector|isShowHN_index| isShowHN_OHE|final_feature_vector|       rawPrediction|         probability|prediction|\n",
      "+--------+--------+--------------+---------+-------------------+--------------------+--------------------+--------------------+--------------------+--------+-----+--------+-----------+-----------+--------------+---------------------+--------------+-------------+--------------------+--------------------+--------------------+----------+\n",
      "|40306790|       0|apps.apple.com|    false|2024-05-09 10:29:37|Bulletin - AI RSS...|Bulletin - AI RSS...|AI-Powered Smart ...|https://apps.appl...|Shihab_8|    1|       0|         10|          4|     [1.0,0.0]| [-0.2873043126221...|           0.0|(1,[0],[1.0])|[-0.2873043126221...|[2.01663038086725...|[0.88253213354267...|       0.0|\n",
      "+--------+--------+--------------+---------+-------------------+--------------------+--------------------+--------------------+--------------------+--------+-----+--------+-----------+-----------+--------------+---------------------+--------------+-------------+--------------------+--------------------+--------------------+----------+\n",
      "\n"
     ]
    },
    {
     "name": "stderr",
     "output_type": "stream",
     "text": [
      "24/05/09 18:30:11 WARN RandomBlockReplicationPolicy: Expecting 1 replicas with only 0 peer/s.\n",
      "24/05/09 18:30:11 WARN BlockManager: Block input-0-1715272211600 replicated to only 0 peer(s) instead of 1 peers\n",
      "                                                                                \r"
     ]
    },
    {
     "name": "stdout",
     "output_type": "stream",
     "text": [
      "========= 2024-05-09 18:30:20 =========\n",
      "+--------+--------+-------------+---------+-------------------+--------------------+--------------------+--------------------+--------------------+---------+-----+--------+-----------+-----------+--------------+---------------------+--------------+-------------+--------------------+--------------------+--------------------+----------+\n",
      "|     aid|comments|       domain|frontpage|          posted_at|         source_text|        source_title|               title|                 url|     user|votes|isShowHN|time_of_day|day_of_week|num_col_vector|scaled_num_col_vector|isShowHN_index| isShowHN_OHE|final_feature_vector|       rawPrediction|         probability|prediction|\n",
      "+--------+--------+-------------+---------+-------------------+--------------------+--------------------+--------------------+--------------------+---------+-----+--------+-----------+-----------+--------------+---------------------+--------------+-------------+--------------------+--------------------+--------------------+----------+\n",
      "|40306791|       0|wikimedia.org|    false|2024-05-09 10:29:59|List of articles ...|List of articles ...|List of articles ...|https://meta.wiki...|aragonite|    1|       0|         10|          4|     [1.0,0.0]| [-0.2873043126221...|           0.0|(1,[0],[1.0])|[-0.2873043126221...|[2.01663038086725...|[0.88253213354267...|       0.0|\n",
      "+--------+--------+-------------+---------+-------------------+--------------------+--------------------+--------------------+--------------------+---------+-----+--------+-----------+-----------+--------------+---------------------+--------------+-------------+--------------------+--------------------+--------------------+----------+\n",
      "\n"
     ]
    },
    {
     "name": "stderr",
     "output_type": "stream",
     "text": [
      "24/05/09 18:31:15 WARN RandomBlockReplicationPolicy: Expecting 1 replicas with only 0 peer/s.\n",
      "24/05/09 18:31:15 WARN BlockManager: Block input-0-1715272275600 replicated to only 0 peer(s) instead of 1 peers\n",
      "24/05/09 18:31:17 WARN RandomBlockReplicationPolicy: Expecting 1 replicas with only 0 peer/s.\n",
      "24/05/09 18:31:17 WARN BlockManager: Block input-0-1715272277600 replicated to only 0 peer(s) instead of 1 peers\n",
      "                                                                                \r"
     ]
    },
    {
     "name": "stdout",
     "output_type": "stream",
     "text": [
      "========= 2024-05-09 18:31:20 =========\n",
      "+--------+--------+--------------------+---------+-------------------+--------------------+--------------------+--------------------+--------------------+---------------+-----+--------+-----------+-----------+--------------+---------------------+--------------+-------------+--------------------+--------------------+--------------------+----------+\n",
      "|     aid|comments|              domain|frontpage|          posted_at|         source_text|        source_title|               title|                 url|           user|votes|isShowHN|time_of_day|day_of_week|num_col_vector|scaled_num_col_vector|isShowHN_index| isShowHN_OHE|final_feature_vector|       rawPrediction|         probability|prediction|\n",
      "+--------+--------+--------------------+---------+-------------------+--------------------+--------------------+--------------------+--------------------+---------------+-----+--------+-----------+-----------+--------------+---------------------+--------------+-------------+--------------------+--------------------+--------------------+----------+\n",
      "|40306794|       0|    nonzerosum.games|    false|2024-05-09 10:30:21|EMERGENT GRAVITY ...|EMERGENT GRAVITY ...|Emergent Gravity ...|https://nonzerosu...|NonZeroSumJames|    1|       0|         10|          4|     [1.0,0.0]| [-0.2873043126221...|           0.0|(1,[0],[1.0])|[-0.2873043126221...|[2.01663038086725...|[0.88253213354267...|       0.0|\n",
      "|40306799|       0|unicornplatform.page|    false|2024-05-09 10:30:45|World's First Int...|World's First Int...|FengShuiModern – ...|https://fengshuim...| sketchcorelabs|    1|       0|         10|          4|     [1.0,0.0]| [-0.2873043126221...|           0.0|(1,[0],[1.0])|[-0.2873043126221...|[2.01663038086725...|[0.88253213354267...|       0.0|\n",
      "+--------+--------+--------------------+---------+-------------------+--------------------+--------------------+--------------------+--------------------+---------------+-----+--------+-----------+-----------+--------------+---------------------+--------------+-------------+--------------------+--------------------+--------------------+----------+\n",
      "\n"
     ]
    },
    {
     "name": "stderr",
     "output_type": "stream",
     "text": [
      "24/05/09 18:31:20 WARN RandomBlockReplicationPolicy: Expecting 1 replicas with only 0 peer/s.\n",
      "24/05/09 18:31:20 WARN BlockManager: Block input-0-1715272280600 replicated to only 0 peer(s) instead of 1 peers\n",
      "                                                                                \r"
     ]
    },
    {
     "name": "stdout",
     "output_type": "stream",
     "text": [
      "========= 2024-05-09 18:31:30 =========\n",
      "+--------+--------+------------+---------+-------------------+--------------------+----------------+--------------------+--------------------+---------+-----+--------+-----------+-----------+--------------+---------------------+--------------+-------------+--------------------+--------------------+--------------------+----------+\n",
      "|     aid|comments|      domain|frontpage|          posted_at|         source_text|    source_title|               title|                 url|     user|votes|isShowHN|time_of_day|day_of_week|num_col_vector|scaled_num_col_vector|isShowHN_index| isShowHN_OHE|final_feature_vector|       rawPrediction|         probability|prediction|\n",
      "+--------+--------+------------+---------+-------------------+--------------------+----------------+--------------------+--------------------+---------+-----+--------+-----------+-----------+--------------+---------------------+--------------+-------------+--------------------+--------------------+--------------------+----------+\n",
      "|40306801|       0|workable.com|    false|2024-05-09 10:30:53|Just a moment...\\...|Just a moment...|Using priority ag...|https://engineeri...|fragkakis|    1|       0|         10|          4|     [1.0,0.0]| [-0.2873043126221...|           0.0|(1,[0],[1.0])|[-0.2873043126221...|[2.01663038086725...|[0.88253213354267...|       0.0|\n",
      "+--------+--------+------------+---------+-------------------+--------------------+----------------+--------------------+--------------------+---------+-----+--------+-----------+-----------+--------------+---------------------+--------------+-------------+--------------------+--------------------+--------------------+----------+\n",
      "\n"
     ]
    },
    {
     "name": "stderr",
     "output_type": "stream",
     "text": [
      "24/05/09 18:32:26 WARN RandomBlockReplicationPolicy: Expecting 1 replicas with only 0 peer/s.\n",
      "24/05/09 18:32:26 WARN BlockManager: Block input-0-1715272345800 replicated to only 0 peer(s) instead of 1 peers\n",
      "24/05/09 18:32:29 WARN RandomBlockReplicationPolicy: Expecting 1 replicas with only 0 peer/s.\n",
      "24/05/09 18:32:29 WARN BlockManager: Block input-0-1715272349000 replicated to only 0 peer(s) instead of 1 peers\n",
      "                                                                                \r"
     ]
    },
    {
     "name": "stdout",
     "output_type": "stream",
     "text": [
      "========= 2024-05-09 18:32:30 =========\n",
      "+--------+--------+--------------------+---------+-------------------+--------------------+--------------------+--------------------+--------------------+----------+-----+--------+-----------+-----------+--------------+---------------------+--------------+-------------+--------------------+--------------------+--------------------+----------+\n",
      "|     aid|comments|              domain|frontpage|          posted_at|         source_text|        source_title|               title|                 url|      user|votes|isShowHN|time_of_day|day_of_week|num_col_vector|scaled_num_col_vector|isShowHN_index| isShowHN_OHE|final_feature_vector|       rawPrediction|         probability|prediction|\n",
      "+--------+--------+--------------------+---------+-------------------+--------------------+--------------------+--------------------+--------------------+----------+-----+--------+-----------+-----------+--------------+---------------------+--------------+-------------+--------------------+--------------------+--------------------+----------+\n",
      "|40306807|       0|              jvt.me|    false|2024-05-09 10:31:26|Creating a more s...|Creating a more s...|Creating a more s...|https://www.jvt.m...|jamietanna|    1|       0|         10|          4|     [1.0,0.0]| [-0.2873043126221...|           0.0|(1,[0],[1.0])|[-0.2873043126221...|[2.01663038086725...|[0.88253213354267...|       0.0|\n",
      "|40306808|       0|camilocs.substack...|    false|2024-05-09 10:31:27|Entrevista a Rich...|Entrevista a Rich...|An Interview with...|https://camilocs....| camilochs|    1|       0|         10|          4|     [1.0,0.0]| [-0.2873043126221...|           0.0|(1,[0],[1.0])|[-0.2873043126221...|[2.01663038086725...|[0.88253213354267...|       0.0|\n",
      "+--------+--------+--------------------+---------+-------------------+--------------------+--------------------+--------------------+--------------------+----------+-----+--------+-----------+-----------+--------------+---------------------+--------------+-------------+--------------------+--------------------+--------------------+----------+\n",
      "\n"
     ]
    },
    {
     "name": "stderr",
     "output_type": "stream",
     "text": [
      "24/05/09 18:32:34 WARN RandomBlockReplicationPolicy: Expecting 1 replicas with only 0 peer/s.\n",
      "24/05/09 18:32:34 WARN BlockManager: Block input-0-1715272354200 replicated to only 0 peer(s) instead of 1 peers\n",
      "                                                                                \r"
     ]
    },
    {
     "name": "stdout",
     "output_type": "stream",
     "text": [
      "========= 2024-05-09 18:32:40 =========\n",
      "+--------+--------+-------+---------+-------------------+--------------------+--------------------+--------------------+--------------------+-----------+-----+--------+-----------+-----------+--------------+---------------------+--------------+-------------+--------------------+--------------------+--------------------+----------+\n",
      "|     aid|comments| domain|frontpage|          posted_at|         source_text|        source_title|               title|                 url|       user|votes|isShowHN|time_of_day|day_of_week|num_col_vector|scaled_num_col_vector|isShowHN_index| isShowHN_OHE|final_feature_vector|       rawPrediction|         probability|prediction|\n",
      "+--------+--------+-------+---------+-------------------+--------------------+--------------------+--------------------+--------------------+-----------+-----+--------+-----------+-----------+--------------+---------------------+--------------+-------------+--------------------+--------------------+--------------------+----------+\n",
      "|40306810|       0|vox.com|    false|2024-05-09 10:31:40|How AI is turboch...|Some say AI will ...|Some say AI will ...|https://www.vox.c...|thunderbong|    2|       0|         10|          4|     [2.0,0.0]| [-0.1655230728428...|           0.0|(1,[0],[1.0])|[-0.1655230728428...|[1.93213416569122...|[0.87348545162431...|       0.0|\n",
      "+--------+--------+-------+---------+-------------------+--------------------+--------------------+--------------------+--------------------+-----------+-----+--------+-----------+-----------+--------------+---------------------+--------------+-------------+--------------------+--------------------+--------------------+----------+\n",
      "\n"
     ]
    },
    {
     "name": "stderr",
     "output_type": "stream",
     "text": [
      "24/05/09 18:35:39 WARN RandomBlockReplicationPolicy: Expecting 1 replicas with only 0 peer/s.\n",
      "24/05/09 18:35:39 WARN BlockManager: Block input-0-1715272539200 replicated to only 0 peer(s) instead of 1 peers\n",
      "                                                                                \r"
     ]
    },
    {
     "name": "stdout",
     "output_type": "stream",
     "text": [
      "========= 2024-05-09 18:35:40 =========\n",
      "+--------+--------+-------------+---------+-------------------+--------------------+--------------------+--------------------+--------------------+---------+-----+--------+-----------+-----------+--------------+---------------------+--------------+-------------+--------------------+--------------------+--------------------+----------+\n",
      "|     aid|comments|       domain|frontpage|          posted_at|         source_text|        source_title|               title|                 url|     user|votes|isShowHN|time_of_day|day_of_week|num_col_vector|scaled_num_col_vector|isShowHN_index| isShowHN_OHE|final_feature_vector|       rawPrediction|         probability|prediction|\n",
      "+--------+--------+-------------+---------+-------------------+--------------------+--------------------+--------------------+--------------------+---------+-----+--------+-----------+-----------+--------------+---------------------+--------------+-------------+--------------------+--------------------+--------------------+----------+\n",
      "|40306820|       0|ibtimes.co.uk|    false|2024-05-09 10:35:18|2.5M Brits Admit ...|2.5M Brits Admit ...|2.5M Brits Admit ...|https://www.ibtim...|ACHILLIES|    1|       0|         10|          4|     [1.0,0.0]| [-0.2873043126221...|           0.0|(1,[0],[1.0])|[-0.2873043126221...|[2.01663038086725...|[0.88253213354267...|       0.0|\n",
      "+--------+--------+-------------+---------+-------------------+--------------------+--------------------+--------------------+--------------------+---------+-----+--------+-----------+-----------+--------------+---------------------+--------------+-------------+--------------------+--------------------+--------------------+----------+\n",
      "\n"
     ]
    },
    {
     "name": "stderr",
     "output_type": "stream",
     "text": [
      "24/05/09 18:37:44 WARN RandomBlockReplicationPolicy: Expecting 1 replicas with only 0 peer/s.\n",
      "24/05/09 18:37:44 WARN BlockManager: Block input-0-1715272664400 replicated to only 0 peer(s) instead of 1 peers\n",
      "24/05/09 18:37:46 WARN RandomBlockReplicationPolicy: Expecting 1 replicas with only 0 peer/s.\n",
      "24/05/09 18:37:46 WARN BlockManager: Block input-0-1715272666400 replicated to only 0 peer(s) instead of 1 peers\n",
      "                                                                                \r"
     ]
    },
    {
     "name": "stdout",
     "output_type": "stream",
     "text": [
      "========= 2024-05-09 18:37:50 =========\n",
      "+--------+--------+-----------+---------+-------------------+--------------------+----------------+--------------------+--------------------+---------+-----+--------+-----------+-----------+--------------+---------------------+--------------+-------------+--------------------+--------------------+--------------------+----------+\n",
      "|     aid|comments|     domain|frontpage|          posted_at|         source_text|    source_title|               title|                 url|     user|votes|isShowHN|time_of_day|day_of_week|num_col_vector|scaled_num_col_vector|isShowHN_index| isShowHN_OHE|final_feature_vector|       rawPrediction|         probability|prediction|\n",
      "+--------+--------+-----------+---------+-------------------+--------------------+----------------+--------------------+--------------------+---------+-----+--------+-----------+-----------+--------------+---------------------+--------------+-------------+--------------------+--------------------+--------------------+----------+\n",
      "|40306827|       0|unicode.org|    false|2024-05-09 10:36:50|                \\n\\n|            NULL|Linkification of ...|https://www.unico...|aragonite|    1|       0|         10|          4|     [1.0,0.0]| [-0.2873043126221...|           0.0|(1,[0],[1.0])|[-0.2873043126221...|[2.01663038086725...|[0.88253213354267...|       0.0|\n",
      "|40306830|       0| nsfwai.fun|    false|2024-05-09 10:37:32|Just a moment...\\...|Just a moment...|Show HN: NSFW AI,...| https://nsfwai.fun/|  superfa|    1|       1|         10|          4|     [1.0,0.0]| [-0.2873043126221...|           1.0|    (1,[],[])|[-0.2873043126221...|[2.01663038086725...|[0.88253213354267...|       0.0|\n",
      "+--------+--------+-----------+---------+-------------------+--------------------+----------------+--------------------+--------------------+---------+-----+--------+-----------+-----------+--------------+---------------------+--------------+-------------+--------------------+--------------------+--------------------+----------+\n",
      "\n"
     ]
    },
    {
     "name": "stderr",
     "output_type": "stream",
     "text": [
      "[Stage 22:>                                                         (0 + 1) / 1]\r"
     ]
    },
    {
     "name": "stdout",
     "output_type": "stream",
     "text": [
      "========= 2024-05-09 18:39:50 =========\n",
      "+--------+--------+---------------+---------+-------------------+--------------------+--------------------+--------------------+--------------------+-----+-----+--------+-----------+-----------+--------------+---------------------+--------------+-------------+--------------------+--------------------+--------------------+----------+\n",
      "|     aid|comments|         domain|frontpage|          posted_at|         source_text|        source_title|               title|                 url| user|votes|isShowHN|time_of_day|day_of_week|num_col_vector|scaled_num_col_vector|isShowHN_index| isShowHN_OHE|final_feature_vector|       rawPrediction|         probability|prediction|\n",
      "+--------+--------+---------------+---------+-------------------+--------------------+--------------------+--------------------+--------------------+-----+-----+--------+-----------+-----------+--------------+---------------------+--------------+-------------+--------------------+--------------------+--------------------+----------+\n",
      "|40306837|       0|arstechnica.com|    false|2024-05-09 10:39:02|Tesla is under a ...|Tesla is under a ...|Tesla is under a ...|https://arstechni...|velmu|    2|       0|         10|          4|     [2.0,0.0]| [-0.1655230728428...|           0.0|(1,[0],[1.0])|[-0.1655230728428...|[1.93213416569122...|[0.87348545162431...|       0.0|\n",
      "+--------+--------+---------------+---------+-------------------+--------------------+--------------------+--------------------+--------------------+-----+-----+--------+-----------+-----------+--------------+---------------------+--------------+-------------+--------------------+--------------------+--------------------+----------+\n",
      "\n",
      "========= 2024-05-09 18:42:00 =========\n",
      "+--------+--------+---------+---------+-------------------+--------------------+--------------------+--------------------+--------------------+----+-----+--------+-----------+-----------+--------------+---------------------+--------------+-------------+--------------------+--------------------+--------------------+----------+\n",
      "|     aid|comments|   domain|frontpage|          posted_at|         source_text|        source_title|               title|                 url|user|votes|isShowHN|time_of_day|day_of_week|num_col_vector|scaled_num_col_vector|isShowHN_index| isShowHN_OHE|final_feature_vector|       rawPrediction|         probability|prediction|\n",
      "+--------+--------+---------+---------+-------------------+--------------------+--------------------+--------------------+--------------------+----+-----+--------+-----------+-----------+--------------+---------------------+--------------+-------------+--------------------+--------------------+--------------------+----------+\n",
      "|40306847|       0|apnic.net|    false|2024-05-09 10:41:33|IPv6 architecture...|IPv6 architecture...|IPv6 architecture...|https://blog.apni...| sph|    1|       0|         10|          4|     [1.0,0.0]| [-0.2873043126221...|           0.0|(1,[0],[1.0])|[-0.2873043126221...|[2.01663038086725...|[0.88253213354267...|       0.0|\n",
      "+--------+--------+---------+---------+-------------------+--------------------+--------------------+--------------------+--------------------+----+-----+--------+-----------+-----------+--------------+---------------------+--------------+-------------+--------------------+--------------------+--------------------+----------+\n",
      "\n",
      "========= 2024-05-09 18:43:00 =========\n",
      "+--------+--------+-----------------+---------+-------------------+--------------------+--------------------+--------------------+--------------------+-----+-----+--------+-----------+-----------+--------------+---------------------+--------------+-------------+--------------------+--------------------+--------------------+----------+\n",
      "|     aid|comments|           domain|frontpage|          posted_at|         source_text|        source_title|               title|                 url| user|votes|isShowHN|time_of_day|day_of_week|num_col_vector|scaled_num_col_vector|isShowHN_index| isShowHN_OHE|final_feature_vector|       rawPrediction|         probability|prediction|\n",
      "+--------+--------+-----------------+---------+-------------------+--------------------+--------------------+--------------------+--------------------+-----+-----+--------+-----------+-----------+--------------+---------------------+--------------+-------------+--------------------+--------------------+--------------------+----------+\n",
      "|40306854|       0|isotopp.github.io|    false|2024-05-09 10:42:02|Page not found · ...|Page not found · ...|Memory Saturated ...|https://isotopp.g...|fanf2|    1|       0|         10|          4|     [1.0,0.0]| [-0.2873043126221...|           0.0|(1,[0],[1.0])|[-0.2873043126221...|[2.01663038086725...|[0.88253213354267...|       0.0|\n",
      "+--------+--------+-----------------+---------+-------------------+--------------------+--------------------+--------------------+--------------------+-----+-----+--------+-----------+-----------+--------------+---------------------+--------------+-------------+--------------------+--------------------+--------------------+----------+\n",
      "\n",
      "========= 2024-05-09 18:45:00 =========\n",
      "+--------+--------+----------+---------+-------------------+--------------------+--------------------+--------------------+--------------------+---------------+-----+--------+-----------+-----------+--------------+---------------------+--------------+-------------+--------------------+--------------------+--------------------+----------+\n",
      "|     aid|comments|    domain|frontpage|          posted_at|         source_text|        source_title|               title|                 url|           user|votes|isShowHN|time_of_day|day_of_week|num_col_vector|scaled_num_col_vector|isShowHN_index| isShowHN_OHE|final_feature_vector|       rawPrediction|         probability|prediction|\n",
      "+--------+--------+----------+---------+-------------------+--------------------+--------------------+--------------------+--------------------+---------------+-----+--------+-----------+-----------+--------------+---------------------+--------------+-------------+--------------------+--------------------+--------------------+----------+\n",
      "|40306870|       0|filippo.io|    false|2024-05-09 10:44:57|The Most Backdoor...|The Most Backdoor...|The Most Backdoor...|https://words.fil...|882542F3884314B|    1|       0|         10|          4|     [1.0,0.0]| [-0.2873043126221...|           0.0|(1,[0],[1.0])|[-0.2873043126221...|[2.01663038086725...|[0.88253213354267...|       0.0|\n",
      "+--------+--------+----------+---------+-------------------+--------------------+--------------------+--------------------+--------------------+---------------+-----+--------+-----------+-----------+--------------+---------------------+--------------+-------------+--------------------+--------------------+--------------------+----------+\n",
      "\n",
      "========= 2024-05-09 18:46:10 =========\n",
      "+--------+--------+--------------------+---------+-------------------+--------------------+--------------------+--------------------+--------------------+-----------+-----+--------+-----------+-----------+--------------+---------------------+--------------+-------------+--------------------+--------------------+--------------------+----------+\n",
      "|     aid|comments|              domain|frontpage|          posted_at|         source_text|        source_title|               title|                 url|       user|votes|isShowHN|time_of_day|day_of_week|num_col_vector|scaled_num_col_vector|isShowHN_index| isShowHN_OHE|final_feature_vector|       rawPrediction|         probability|prediction|\n",
      "+--------+--------+--------------------+---------+-------------------+--------------------+--------------------+--------------------+--------------------+-----------+-----+--------+-----------+-----------+--------------+---------------------+--------------+-------------+--------------------+--------------------+--------------------+----------+\n",
      "|40306876|       0|github.com/thenin...|    false|2024-05-09 10:46:01|GitHub - theninth...|GitHub - theninth...|A case study of C...|https://github.co...|theninthsky|    1|       0|         10|          4|     [1.0,0.0]| [-0.2873043126221...|           0.0|(1,[0],[1.0])|[-0.2873043126221...|[2.01663038086725...|[0.88253213354267...|       0.0|\n",
      "+--------+--------+--------------------+---------+-------------------+--------------------+--------------------+--------------------+--------------------+-----------+-----+--------+-----------+-----------+--------------+---------------------+--------------+-------------+--------------------+--------------------+--------------------+----------+\n",
      "\n",
      "========= 2024-05-09 18:48:10 =========\n",
      "+--------+--------+--------------------+---------+-------------------+--------------------+--------------------+--------------------+--------------------+------------+-----+--------+-----------+-----------+--------------+---------------------+--------------+------------+--------------------+--------------------+--------------------+----------+\n",
      "|     aid|comments|              domain|frontpage|          posted_at|         source_text|        source_title|               title|                 url|        user|votes|isShowHN|time_of_day|day_of_week|num_col_vector|scaled_num_col_vector|isShowHN_index|isShowHN_OHE|final_feature_vector|       rawPrediction|         probability|prediction|\n",
      "+--------+--------+--------------------+---------+-------------------+--------------------+--------------------+--------------------+--------------------+------------+-----+--------+-----------+-----------+--------------+---------------------+--------------+------------+--------------------+--------------------+--------------------+----------+\n",
      "|40306883|       0|github.com/letien...|    false|2024-05-09 10:47:54|GitHub - letienta...|GitHub - letienta...|Show HN: React-de...|https://github.co...|letientai299|    2|       1|         10|          4|     [2.0,0.0]| [-0.1655230728428...|           1.0|   (1,[],[])|[-0.1655230728428...|[1.93213416569122...|[0.87348545162431...|       0.0|\n",
      "+--------+--------+--------------------+---------+-------------------+--------------------+--------------------+--------------------+--------------------+------------+-----+--------+-----------+-----------+--------------+---------------------+--------------+------------+--------------------+--------------------+--------------------+----------+\n",
      "\n",
      "========= 2024-05-09 18:49:10 =========\n",
      "+--------+--------+------------------+---------+-------------------+--------------------+------------+--------------------+--------------------+----+-----+--------+-----------+-----------+--------------+---------------------+--------------+-------------+--------------------+--------------------+--------------------+----------+\n",
      "|     aid|comments|            domain|frontpage|          posted_at|         source_text|source_title|               title|                 url|user|votes|isShowHN|time_of_day|day_of_week|num_col_vector|scaled_num_col_vector|isShowHN_index| isShowHN_OHE|final_feature_vector|       rawPrediction|         probability|prediction|\n",
      "+--------+--------+------------------+---------+-------------------+--------------------+------------+--------------------+--------------------+----+-----+--------+-----------+-----------+--------------+---------------------+--------------+-------------+--------------------+--------------------+--------------------+----------+\n",
      "|40306886|       0|vadimkravcenko.com|    false|2024-05-09 10:48:39|I'm sorry\\n\\nVadi...|   I'm sorry|I'm sorry.. I bui...|https://vadimkrav...|bndr|    1|       0|         10|          4|     [1.0,0.0]| [-0.2873043126221...|           0.0|(1,[0],[1.0])|[-0.2873043126221...|[2.01663038086725...|[0.88253213354267...|       0.0|\n",
      "+--------+--------+------------------+---------+-------------------+--------------------+------------+--------------------+--------------------+----+-----+--------+-----------+-----------+--------------+---------------------+--------------+-------------+--------------------+--------------------+--------------------+----------+\n",
      "\n",
      "========= 2024-05-09 18:50:10 =========\n",
      "+--------+--------+-------------+---------+-------------------+--------------------+--------------------+--------------------+--------------------+----------+-----+--------+-----------+-----------+--------------+---------------------+--------------+-------------+--------------------+--------------------+--------------------+----------+\n",
      "|     aid|comments|       domain|frontpage|          posted_at|         source_text|        source_title|               title|                 url|      user|votes|isShowHN|time_of_day|day_of_week|num_col_vector|scaled_num_col_vector|isShowHN_index| isShowHN_OHE|final_feature_vector|       rawPrediction|         probability|prediction|\n",
      "+--------+--------+-------------+---------+-------------------+--------------------+--------------------+--------------------+--------------------+----------+-----+--------+-----------+-----------+--------------+---------------------+--------------+-------------+--------------------+--------------------+--------------------+----------+\n",
      "|40306891|       0|metaphysic.ai|    false|2024-05-09 10:49:54|Better Stable Dif...|Better Stable Dif...|Better Stable Dif...|https://blog.meta...|Hard_Space|    1|       0|         10|          4|     [1.0,0.0]| [-0.2873043126221...|           0.0|(1,[0],[1.0])|[-0.2873043126221...|[2.01663038086725...|[0.88253213354267...|       0.0|\n",
      "+--------+--------+-------------+---------+-------------------+--------------------+--------------------+--------------------+--------------------+----------+-----+--------+-----------+-----------+--------------+---------------------+--------------+-------------+--------------------+--------------------+--------------------+----------+\n",
      "\n",
      "========= 2024-05-09 18:52:10 =========\n",
      "+--------+--------+-------------------+---------+-------------------+--------------------+------------+--------------------+--------------------+--------+-----+--------+-----------+-----------+--------------+---------------------+--------------+-------------+--------------------+--------------------+--------------------+----------+\n",
      "|     aid|comments|             domain|frontpage|          posted_at|         source_text|source_title|               title|                 url|    user|votes|isShowHN|time_of_day|day_of_week|num_col_vector|scaled_num_col_vector|isShowHN_index| isShowHN_OHE|final_feature_vector|       rawPrediction|         probability|prediction|\n",
      "+--------+--------+-------------------+---------+-------------------+--------------------+------------+--------------------+--------------------+--------+-----+--------+-----------+-----------+--------------+---------------------+--------------+-------------+--------------------+--------------------+--------------------+----------+\n",
      "|40306895|       0|github.com/dimforge|    false|2024-05-09 10:52:02|dimforge · GitHub...|    dimforge|2D and 3D physics...|https://github.co...|hamdouni|    1|       0|         10|          4|     [1.0,0.0]| [-0.2873043126221...|           0.0|(1,[0],[1.0])|[-0.2873043126221...|[2.01663038086725...|[0.88253213354267...|       0.0|\n",
      "+--------+--------+-------------------+---------+-------------------+--------------------+------------+--------------------+--------------------+--------+-----+--------+-----------+-----------+--------------+---------------------+--------------+-------------+--------------------+--------------------+--------------------+----------+\n",
      "\n",
      "========= 2024-05-09 18:54:20 =========\n",
      "+--------+--------+-------------+---------+-------------------+--------------------+----------------+----------------+--------------------+--------+-----+--------+-----------+-----------+--------------+---------------------+--------------+-------------+--------------------+--------------------+--------------------+----------+\n",
      "|     aid|comments|       domain|frontpage|          posted_at|         source_text|    source_title|           title|                 url|    user|votes|isShowHN|time_of_day|day_of_week|num_col_vector|scaled_num_col_vector|isShowHN_index| isShowHN_OHE|final_feature_vector|       rawPrediction|         probability|prediction|\n",
      "+--------+--------+-------------+---------+-------------------+--------------------+----------------+----------------+--------------------+--------+-----+--------+-----------+-----------+--------------+---------------------+--------------+-------------+--------------------+--------------------+--------------------+----------+\n",
      "|40306899|       0|swmansion.com|    false|2024-05-09 10:53:42|React Native IDE\\...|React Native IDE|React Native IDE|https://ide.swman...|shreddit|    2|       0|         10|          4|     [2.0,0.0]| [-0.1655230728428...|           0.0|(1,[0],[1.0])|[-0.1655230728428...|[1.93213416569122...|[0.87348545162431...|       0.0|\n",
      "+--------+--------+-------------+---------+-------------------+--------------------+----------------+----------------+--------------------+--------+-----+--------+-----------+-----------+--------------+---------------------+--------------+-------------+--------------------+--------------------+--------------------+----------+\n",
      "\n",
      "========= 2024-05-09 18:57:20 =========\n",
      "+--------+--------+---------------+---------+-------------------+--------------------+--------------------+--------------------+--------------------+--------+-----+--------+-----------+-----------+--------------+---------------------+--------------+-------------+--------------------+--------------------+--------------------+----------+\n",
      "|     aid|comments|         domain|frontpage|          posted_at|         source_text|        source_title|               title|                 url|    user|votes|isShowHN|time_of_day|day_of_week|num_col_vector|scaled_num_col_vector|isShowHN_index| isShowHN_OHE|final_feature_vector|       rawPrediction|         probability|prediction|\n",
      "+--------+--------+---------------+---------+-------------------+--------------------+--------------------+--------------------+--------------------+--------+-----+--------+-----------+-----------+--------------+---------------------+--------------+-------------+--------------------+--------------------+--------------------+----------+\n",
      "|40306908|       0|research.google|    false|2024-05-09 10:56:40|Vortex: A Stream-...|Vortex: A Stream-...|Vortex: A Stream-...|https://research....|rrampage|    1|       0|         10|          4|     [1.0,0.0]| [-0.2873043126221...|           0.0|(1,[0],[1.0])|[-0.2873043126221...|[2.01663038086725...|[0.88253213354267...|       0.0|\n",
      "+--------+--------+---------------+---------+-------------------+--------------------+--------------------+--------------------+--------------------+--------+-----+--------+-----------+-----------+--------------+---------------------+--------------+-------------+--------------------+--------------------+--------------------+----------+\n",
      "\n",
      "========= 2024-05-09 19:01:20 =========\n",
      "+--------+--------+-------------+---------+-------------------+--------------------+---------------+--------------------+--------------------+-----------+-----+--------+-----------+-----------+--------------+---------------------+--------------+-------------+--------------------+--------------------+--------------------+----------+\n",
      "|     aid|comments|       domain|frontpage|          posted_at|         source_text|   source_title|               title|                 url|       user|votes|isShowHN|time_of_day|day_of_week|num_col_vector|scaled_num_col_vector|isShowHN_index| isShowHN_OHE|final_feature_vector|       rawPrediction|         probability|prediction|\n",
      "+--------+--------+-------------+---------+-------------------+--------------------+---------------+--------------------+--------------------+-----------+-----+--------+-----------+-----------+--------------+---------------------+--------------+-------------+--------------------+--------------------+--------------------+----------+\n",
      "|40306925|       0|  unicode.org|    false|2024-05-09 11:00:16|                \\n\\n|           NULL|Proposal for The ...|https://www.unico...|  aragonite|    1|       0|         11|          4|     [1.0,0.0]| [-0.2873043126221...|           0.0|(1,[0],[1.0])|[-0.2873043126221...|[2.01663038086725...|[0.88253213354267...|       0.0|\n",
      "|40306926|       0|wikipedia.org|     true|2024-05-09 11:00:38|Pyrrhic victory -...|Pyrrhic victory|     Pyrrhic Victory|https://en.wikipe...|melvinroest|    3|       0|         11|          4|     [3.0,0.0]| [-0.0437418330635...|           0.0|(1,[0],[1.0])|[-0.0437418330635...|[1.84763795051520...|[0.86384953272383...|       0.0|\n",
      "+--------+--------+-------------+---------+-------------------+--------------------+---------------+--------------------+--------------------+-----------+-----+--------+-----------+-----------+--------------+---------------------+--------------+-------------+--------------------+--------------------+--------------------+----------+\n",
      "\n"
     ]
    }
   ],
   "source": [
    "# Likely the usual streaming\n",
    "ssc = StreamingContext(sc, 10)\n",
    "lines = ssc.socketTextStream(\"seppe.net\", 7778)\n",
    "lines.foreachRDD(process)\n",
    "ssc_t = StreamingThread(ssc)\n",
    "ssc_t.start()"
   ]
  },
  {
   "cell_type": "code",
   "execution_count": 9,
   "id": "98a836d1-5f25-4600-8e61-1c262573868f",
   "metadata": {},
   "outputs": [
    {
     "name": "stdout",
     "output_type": "stream",
     "text": [
      "----- Stopping... this may take a few seconds -----\n"
     ]
    },
    {
     "name": "stderr",
     "output_type": "stream",
     "text": [
      "24/05/09 18:12:05 WARN StreamingContext: StreamingContext has not been started yet\n",
      "24/05/09 18:12:07 WARN RandomBlockReplicationPolicy: Expecting 1 replicas with only 0 peer/s.\n",
      "24/05/09 18:12:07 WARN BlockManager: Block input-0-1715271127000 replicated to only 0 peer(s) instead of 1 peers\n",
      "24/05/09 18:12:10 ERROR JobScheduler: Error running job streaming job 1715271130000 ms.0\n",
      "org.apache.spark.SparkException: An exception was raised by Python:\n",
      "Traceback (most recent call last):\n",
      "  File \"/Users/hydraze/Downloads/spark/spark-3.5.1-bin-hadoop3/python/pyspark/streaming/util.py\", line 71, in call\n",
      "    r = self.func(t, *rdds)\n",
      "        ^^^^^^^^^^^^^^^^^^^\n",
      "  File \"/var/folders/4h/j84nnmnn0nj01mk0ndxyk7n40000gn/T/ipykernel_54142/3537873331.py\", line 10, in process\n",
      "    df = spark.createDataFrame(rdd)\n",
      "         ^^^^^^^^^^^^^^^^^^^^^^^^^^\n",
      "  File \"/Users/hydraze/Downloads/spark/spark-3.5.1-bin-hadoop3/python/pyspark/sql/session.py\", line 1443, in createDataFrame\n",
      "    return self._create_dataframe(\n",
      "           ^^^^^^^^^^^^^^^^^^^^^^^\n",
      "  File \"/Users/hydraze/Downloads/spark/spark-3.5.1-bin-hadoop3/python/pyspark/sql/session.py\", line 1483, in _create_dataframe\n",
      "    rdd, struct = self._createFromRDD(data.map(prepare), schema, samplingRatio)\n",
      "                  ^^^^^^^^^^^^^^^^^^^^^^^^^^^^^^^^^^^^^^^^^^^^^^^^^^^^^^^^^^^^^\n",
      "  File \"/Users/hydraze/Downloads/spark/spark-3.5.1-bin-hadoop3/python/pyspark/sql/session.py\", line 1056, in _createFromRDD\n",
      "    struct = self._inferSchema(rdd, samplingRatio, names=schema)\n",
      "             ^^^^^^^^^^^^^^^^^^^^^^^^^^^^^^^^^^^^^^^^^^^^^^^^^^^\n",
      "  File \"/Users/hydraze/Downloads/spark/spark-3.5.1-bin-hadoop3/python/pyspark/sql/session.py\", line 1007, in _inferSchema\n",
      "    schema = _infer_schema(\n",
      "             ^^^^^^^^^^^^^^\n",
      "  File \"/Users/hydraze/Downloads/spark/spark-3.5.1-bin-hadoop3/python/pyspark/sql/types.py\", line 1670, in _infer_schema\n",
      "    raise PySparkTypeError(\n",
      "pyspark.errors.exceptions.base.PySparkTypeError: [CANNOT_INFER_SCHEMA_FOR_TYPE] Can not infer schema for type: `str`.\n",
      "\n",
      "\tat org.apache.spark.streaming.api.python.TransformFunction.callPythonTransformFunction(PythonDStream.scala:95)\n",
      "\tat org.apache.spark.streaming.api.python.TransformFunction.apply(PythonDStream.scala:78)\n",
      "\tat org.apache.spark.streaming.api.python.PythonDStream$.$anonfun$callForeachRDD$1(PythonDStream.scala:179)\n",
      "\tat org.apache.spark.streaming.api.python.PythonDStream$.$anonfun$callForeachRDD$1$adapted(PythonDStream.scala:179)\n",
      "\tat org.apache.spark.streaming.dstream.ForEachDStream.$anonfun$generateJob$2(ForEachDStream.scala:51)\n",
      "\tat scala.runtime.java8.JFunction0$mcV$sp.apply(JFunction0$mcV$sp.java:23)\n",
      "\tat org.apache.spark.streaming.dstream.DStream.createRDDWithLocalProperties(DStream.scala:417)\n",
      "\tat org.apache.spark.streaming.dstream.ForEachDStream.$anonfun$generateJob$1(ForEachDStream.scala:51)\n",
      "\tat scala.runtime.java8.JFunction0$mcV$sp.apply(JFunction0$mcV$sp.java:23)\n",
      "\tat scala.util.Try$.apply(Try.scala:213)\n",
      "\tat org.apache.spark.streaming.scheduler.Job.run(Job.scala:39)\n",
      "\tat org.apache.spark.streaming.scheduler.JobScheduler$JobHandler.$anonfun$run$1(JobScheduler.scala:256)\n",
      "\tat scala.runtime.java8.JFunction0$mcV$sp.apply(JFunction0$mcV$sp.java:23)\n",
      "\tat scala.util.DynamicVariable.withValue(DynamicVariable.scala:62)\n",
      "\tat org.apache.spark.streaming.scheduler.JobScheduler$JobHandler.run(JobScheduler.scala:256)\n",
      "\tat java.base/java.util.concurrent.ThreadPoolExecutor.runWorker(ThreadPoolExecutor.java:1128)\n",
      "\tat java.base/java.util.concurrent.ThreadPoolExecutor$Worker.run(ThreadPoolExecutor.java:628)\n",
      "\tat java.base/java.lang.Thread.run(Thread.java:829)\n",
      "24/05/09 18:12:11 WARN RandomBlockReplicationPolicy: Expecting 1 replicas with only 0 peer/s.\n",
      "24/05/09 18:12:11 WARN BlockManager: Block input-0-1715271131000 replicated to only 0 peer(s) instead of 1 peers\n"
     ]
    }
   ],
   "source": [
    "ssc_t.stop()"
   ]
  },
  {
   "cell_type": "code",
   "execution_count": null,
   "id": "1a00ba62-43c0-4333-8579-5b1318c9ad24",
   "metadata": {},
   "outputs": [],
   "source": []
  }
 ],
 "metadata": {
  "kernelspec": {
   "display_name": "Python 3 (ipykernel)",
   "language": "python",
   "name": "python3"
  },
  "language_info": {
   "codemirror_mode": {
    "name": "ipython",
    "version": 3
   },
   "file_extension": ".py",
   "mimetype": "text/x-python",
   "name": "python",
   "nbconvert_exporter": "python",
   "pygments_lexer": "ipython3",
   "version": "3.12.2"
  }
 },
 "nbformat": 4,
 "nbformat_minor": 5
}
