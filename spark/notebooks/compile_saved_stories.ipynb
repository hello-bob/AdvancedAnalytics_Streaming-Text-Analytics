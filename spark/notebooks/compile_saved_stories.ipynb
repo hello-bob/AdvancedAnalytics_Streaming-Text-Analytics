{
 "cells": [
  {
   "cell_type": "code",
   "execution_count": 1,
   "id": "ac021992-c9ee-470c-a5be-0fa5109aa117",
   "metadata": {},
   "outputs": [],
   "source": [
    "import os\n",
    "from pyspark import SparkContext\n",
    "from pyspark.sql import SQLContext"
   ]
  },
  {
   "cell_type": "code",
   "execution_count": 2,
   "id": "a8fc9fb9-2333-4abf-8a0f-51a449beaae3",
   "metadata": {},
   "outputs": [
    {
     "data": {
      "text/html": [
       "\n",
       "        <div>\n",
       "            <p><b>SparkContext</b></p>\n",
       "\n",
       "            <p><a href=\"http://10.46.155.228:4040\">Spark UI</a></p>\n",
       "\n",
       "            <dl>\n",
       "              <dt>Version</dt>\n",
       "                <dd><code>v3.5.1</code></dd>\n",
       "              <dt>Master</dt>\n",
       "                <dd><code>local[2]</code></dd>\n",
       "              <dt>AppName</dt>\n",
       "                <dd><code>PySparkShell</code></dd>\n",
       "            </dl>\n",
       "        </div>\n",
       "        "
      ],
      "text/plain": [
       "<SparkContext master=local[2] appName=PySparkShell>"
      ]
     },
     "execution_count": 2,
     "metadata": {},
     "output_type": "execute_result"
    }
   ],
   "source": [
    "sc"
   ]
  },
  {
   "cell_type": "code",
   "execution_count": 8,
   "id": "b6de2820-d794-4a51-b7a1-49eff9277cb9",
   "metadata": {},
   "outputs": [
    {
     "data": {
      "text/plain": [
       "../../data/saved_stories-1715029080000,../../data/saved_stories-1714119600000 MapPartitionsRDD[17] at textFile at NativeMethodAccessorImpl.java:0"
      ]
     },
     "execution_count": 8,
     "metadata": {},
     "output_type": "execute_result"
    }
   ],
   "source": [
    "# Load all folder names, then read into one textfile\n",
    "folders_names = ['../../data/' + folder for folder in os.listdir('../../data') if \"saved_stories\" in folder]\n",
    "compiled_stories = sc.textFile(','.join(folders_names[0:2]))\n",
    "compiled_stories"
   ]
  },
  {
   "cell_type": "code",
   "execution_count": 13,
   "id": "e9ad3cc9-187c-4567-8fb6-3452049b52f9",
   "metadata": {},
   "outputs": [
    {
     "name": "stderr",
     "output_type": "stream",
     "text": [
      "                                                                                \r"
     ]
    },
    {
     "name": "stdout",
     "output_type": "stream",
     "text": [
      "+--------+--------+--------------------+---------+-------------------+--------------------+--------------------+--------------------+--------------------+--------------+-----+\n",
      "|     aid|comments|              domain|frontpage|          posted_at|         source_text|        source_title|               title|                 url|          user|votes|\n",
      "+--------+--------+--------------------+---------+-------------------+--------------------+--------------------+--------------------+--------------------+--------------+-----+\n",
      "|40273751|       0|         ervicee.com|    false|2024-05-06 12:18:16|ervicee - service...|ervicee - service...|Show HN: I made t...| https://ervicee.com| pedrofonsecaa|    1|\n",
      "|40273924|       0|thezerostate.subs...|    false|2024-05-06 12:39:41|Naruto's Guide to...|Naruto's Guide to...|Naruto's Guide to...|https://thezerost...|         bcopa|    1|\n",
      "|40273671|       0|         reuters.com|    false|2024-05-06 12:08:36|     reuters.com\\n\\n|         reuters.com|India EV Sales to...|https://www.reute...|     alephnerd|    1|\n",
      "|40273894|       0|       neocities.org|    false|2024-05-06 12:35:56|Neocities: Create...|           Neocities|           Neocities|https://neocities...|ritabratamaiti|    2|\n",
      "|40273756|       0|          reddit.com|    false|2024-05-06 12:18:48|Blocked\\n\\n# whoa...|             Blocked|What's the most s...|https://old.reddi...|   thunderbong|    1|\n",
      "|40273772|       0|github.com/build-cpp|    false|2024-05-06 12:20:19|GitHub - build-cp...|GitHub - build-cp...|Cmkr – a modern b...|https://github.co...|          gjvc|    1|\n",
      "|40273760|       0| threadreaderapp.com|    false|2024-05-06 12:19:08|Thread by @random...|Thread by @random...|Enterprise softwa...|https://threadrea...|         cs702|    1|\n",
      "|40273913|       0|       wikipedia.org|    false|2024-05-06 12:38:42|Yom HaShoah - Wik...|         Yom HaShoah|         Yom HaShoah|https://en.wikipe...|          wslh|    1|\n",
      "|40273754|       0|     markvenison.com|    false|2024-05-06 12:18:33|Founders Dating C...|Founders Dating C...|Show HN: Founders...|https://markvenis...|   MarkVenison|    1|\n",
      "|40273683|       0|     alexedwards.net|    false|2024-05-06 12:10:08|Let’s Go! A start...|Let’s Go! Learn t...|Learn to Build Pr...|https://lets-go.a...|       luckyou|    1|\n",
      "|40273749|       0|industrydecarboni...|    false|2024-05-06 12:17:59|Storing Carbon Em...|Storing Carbon Em...|Storing Carbon Em...|https://industryd...|        hannob|    1|\n",
      "|40273936|       0|        phoronix.com|     true|2024-05-06 12:40:47|FreeBSD 14.1 Beta...|FreeBSD 14.1 Beta...|FreeBSD 14.1 Beta...|https://www.phoro...|     BSDobelix|    4|\n",
      "|40273630|       0|didyouknowbg8.wor...|    false|2024-05-06 12:03:36|Med-Gemini: Advan...|Med-Gemini: Advan...|Med-Gemini is a g...|https://didyoukno...|        astold|    2|\n",
      "|40273619|       0|samuelaidoo45.git...|    false|2024-05-06 12:02:22|TalkGPT\\n\\n## Tal...|             TalkGPT|Show HN: A tool t...|https://samuelaid...| samuelaidoo45|    1|\n",
      "|40273628|       0|            cnbc.com|    false|2024-05-06 12:03:29|Career consultant...|'Exact same cover...|Career consultant...|https://www.cnbc....|        belter|    1|\n",
      "|40273629|       0|product-engineer.com|    false|2024-05-06 12:03:32|Product Engineer ...|Product Engineer ...|Show HN: A list o...|https://www.produ...| ff-eli-ledger|    1|\n",
      "|40273705|       0|    penguin-news.com|    false|2024-05-06 12:12:42|Falkland Islands ...|Falkland Islands ...|Falkland Islands ...|https://penguin-n...|       haunter|    1|\n",
      "|40273711|       0| github.com/keidarcy|    false|2024-05-06 12:13:02|GitHub - keidarcy...|GitHub - keidarcy...|E1s – A Terminal-...|https://github.co...|      keidarcy|    1|\n",
      "|40273780|       0|    mitpress.mit.edu|     true|2024-05-06 12:21:07|Daniel Dennett: '...|Daniel Dennett: '...|Daniel Dennett: '...|https://thereader...|   anarbadalov|    7|\n",
      "|40273892|       0|         soapbox.pub|    false|2024-05-06 12:35:28|Ditto | Soapbox\\n...|     Ditto | Soapbox|Soapbox – Ditto: ...|https://soapbox.p...|    janandonly|    1|\n",
      "+--------+--------+--------------------+---------+-------------------+--------------------+--------------------+--------------------+--------------------+--------------+-----+\n",
      "only showing top 20 rows\n",
      "\n"
     ]
    }
   ],
   "source": [
    "df = spark.read.json(compiled_stories)\n",
    "df.show()"
   ]
  },
  {
   "cell_type": "code",
   "execution_count": 14,
   "id": "d4342d61-1a1c-4a5a-9cd4-98d142163092",
   "metadata": {},
   "outputs": [
    {
     "name": "stdout",
     "output_type": "stream",
     "text": [
      "root\n",
      " |-- aid: string (nullable = true)\n",
      " |-- comments: long (nullable = true)\n",
      " |-- domain: string (nullable = true)\n",
      " |-- frontpage: boolean (nullable = true)\n",
      " |-- posted_at: string (nullable = true)\n",
      " |-- source_text: string (nullable = true)\n",
      " |-- source_title: string (nullable = true)\n",
      " |-- title: string (nullable = true)\n",
      " |-- url: string (nullable = true)\n",
      " |-- user: string (nullable = true)\n",
      " |-- votes: long (nullable = true)\n",
      "\n"
     ]
    }
   ],
   "source": [
    "df.printSchema()"
   ]
  },
  {
   "cell_type": "code",
   "execution_count": 18,
   "id": "29d06e05-d9ff-411e-a971-7279d1355f68",
   "metadata": {},
   "outputs": [
    {
     "data": {
      "text/plain": [
       "pyspark.sql.dataframe.DataFrame"
      ]
     },
     "execution_count": 18,
     "metadata": {},
     "output_type": "execute_result"
    }
   ],
   "source": [
    "type(df)"
   ]
  },
  {
   "cell_type": "code",
   "execution_count": 17,
   "id": "eb34abfe-57ec-4434-bbc4-2ff5fca87a4e",
   "metadata": {},
   "outputs": [
    {
     "name": "stdout",
     "output_type": "stream",
     "text": [
      "+--------+\n",
      "|     aid|\n",
      "+--------+\n",
      "|40273751|\n",
      "|40273924|\n",
      "|40273671|\n",
      "|40273894|\n",
      "|40273756|\n",
      "|40273772|\n",
      "|40273760|\n",
      "|40273913|\n",
      "|40273754|\n",
      "|40273683|\n",
      "|40273749|\n",
      "|40273936|\n",
      "|40273630|\n",
      "|40273619|\n",
      "|40273628|\n",
      "|40273629|\n",
      "|40273705|\n",
      "|40273711|\n",
      "|40273780|\n",
      "|40273892|\n",
      "+--------+\n",
      "only showing top 20 rows\n",
      "\n",
      "+-------------------+-----------+\n",
      "|          posted_at|  (aid + 1)|\n",
      "+-------------------+-----------+\n",
      "|2024-05-06 12:18:16|4.0273752E7|\n",
      "|2024-05-06 12:39:41|4.0273925E7|\n",
      "|2024-05-06 12:08:36|4.0273672E7|\n",
      "|2024-05-06 12:35:56|4.0273895E7|\n",
      "|2024-05-06 12:18:48|4.0273757E7|\n",
      "|2024-05-06 12:20:19|4.0273773E7|\n",
      "|2024-05-06 12:19:08|4.0273761E7|\n",
      "|2024-05-06 12:38:42|4.0273914E7|\n",
      "|2024-05-06 12:18:33|4.0273755E7|\n",
      "|2024-05-06 12:10:08|4.0273684E7|\n",
      "|2024-05-06 12:17:59| 4.027375E7|\n",
      "|2024-05-06 12:40:47|4.0273937E7|\n",
      "|2024-05-06 12:03:36|4.0273631E7|\n",
      "|2024-05-06 12:02:22| 4.027362E7|\n",
      "|2024-05-06 12:03:29|4.0273629E7|\n",
      "|2024-05-06 12:03:32| 4.027363E7|\n",
      "|2024-05-06 12:12:42|4.0273706E7|\n",
      "|2024-05-06 12:13:02|4.0273712E7|\n",
      "|2024-05-06 12:21:07|4.0273781E7|\n",
      "|2024-05-06 12:35:28|4.0273893E7|\n",
      "+-------------------+-----------+\n",
      "only showing top 20 rows\n",
      "\n"
     ]
    }
   ],
   "source": [
    "# Select only the \"name\" column\n",
    "df.select(\"aid\").show()\n",
    "\n",
    "# Select everybody, but increment the age by 1\n",
    "df.select(df['posted_at'], df['aid'] + 1).show()\n",
    "\n",
    "# Select everybody, but increment the age by 1\n",
    "df.select(df['posted_at'], df['aid'] + 1).show()\n"
   ]
  },
  {
   "cell_type": "code",
   "execution_count": null,
   "id": "182628b0-b55b-4bff-af76-f8f2b4515ab4",
   "metadata": {},
   "outputs": [],
   "source": []
  },
  {
   "cell_type": "code",
   "execution_count": null,
   "id": "dae63ae6-c3ed-4a7f-93c3-0c71887c0d7a",
   "metadata": {},
   "outputs": [],
   "source": []
  },
  {
   "cell_type": "code",
   "execution_count": null,
   "id": "7a2893bf-7be3-4ef5-a9d1-fdf5d68e782b",
   "metadata": {},
   "outputs": [],
   "source": []
  },
  {
   "cell_type": "code",
   "execution_count": null,
   "id": "f856e79d-545b-4152-b078-d1fcbc07f525",
   "metadata": {},
   "outputs": [],
   "source": []
  },
  {
   "cell_type": "code",
   "execution_count": null,
   "id": "4cde6cad-e33c-4401-bb4e-05c0ecc16223",
   "metadata": {},
   "outputs": [],
   "source": []
  }
 ],
 "metadata": {
  "kernelspec": {
   "display_name": "Python 3 (ipykernel)",
   "language": "python",
   "name": "python3"
  },
  "language_info": {
   "codemirror_mode": {
    "name": "ipython",
    "version": 3
   },
   "file_extension": ".py",
   "mimetype": "text/x-python",
   "name": "python",
   "nbconvert_exporter": "python",
   "pygments_lexer": "ipython3",
   "version": "3.12.2"
  }
 },
 "nbformat": 4,
 "nbformat_minor": 5
}
